{
 "cells": [
  {
   "cell_type": "markdown",
   "metadata": {},
   "source": [
    "<img src=\"https://www.pucsp.br/sites/default/files/download/brasao-PUCSP-assinatura-principal-RGB.png\" width=\"5%\"/>"
   ]
  },
  {
   "cell_type": "markdown",
   "metadata": {},
   "source": [
    "# <b>Projeto final</b> \n",
    "\n",
    "**Ciência de Dados e Inteligência Artificial - MA3**\n",
    "\n",
    "*Integrantes*\n",
    "\n",
    "<table align=\"left\">\n",
    "    <tr>\n",
    "        <td>Nome:</td>\n",
    "        <td>Abdul Malik de Barros</td>\n",
    "        <td>RA:</td>\n",
    "        <td>RA00306190</td>\n",
    "    </tr>\n",
    "    <tr>\n",
    "        <td>Nome:</td>\n",
    "        <td>Ana Beatriz Oliveira de Macedo</td>\n",
    "        <td>RA:</td>\n",
    "        <td>RA00297726</td>\n",
    "    </tr>\n",
    "    <tr>\n",
    "        <td>Nome:</td>\n",
    "        <td>Ana Carolina Zhang</td>\n",
    "        <td>RA:</td>\n",
    "        <td>RA00297689</td>\n",
    "    </tr>\n",
    "    <tr>\n",
    "        <td>Nome:</td>\n",
    "        <td>Bruna Bellini Faria</td>\n",
    "        <td>RA:</td>\n",
    "        <td>RA00297746</td>\n",
    "    </tr>\n",
    "    <tr>\n",
    "        <td>Nome:</td>\n",
    "        <td>Heloisa Mariani Rodrigues</td>\n",
    "        <td>RA:</td>\n",
    "        <td>RA00297685</td>\n",
    "    </tr>\n",
    "    <tr>\n",
    "        <td>Nome:</td>\n",
    "        <td>Marina Lara</td>\n",
    "        <td>RA:</td>\n",
    "        <td>RA00297673</td>\n",
    "    </tr>\n",
    "</table>"
   ]
  },
  {
   "cell_type": "markdown",
   "metadata": {},
   "source": [
    "# <b> Índice</b>\n",
    "\n",
    "<a name=\"ancora\"></a>\n",
    "### [1. Contextualização e problematização](#ancora1)\n",
    "### [2. Método para exploração de dados](#ancora2)\n",
    "### [3. Transformação dos dados](#ancora3)\n",
    "### [4. Banco de dados ](#ancora4)\n",
    "### [5. Engenharia de Software](#ancora5)\n",
    "### [6. Machine Learning](#ancora6)"
   ]
  },
  {
   "cell_type": "markdown",
   "metadata": {},
   "source": [
    "<a id=\"ancora1\"></a>\n",
    "## <b> 1. Contextualização e problematização </b> "
   ]
  },
  {
   "cell_type": "markdown",
   "metadata": {},
   "source": [
    "<img src=\"./imagens/logo_abamah.png\" alt=\"Imagem do grafo para aplicação\" width=\"480\" />"
   ]
  },
  {
   "cell_type": "markdown",
   "metadata": {},
   "source": [
    "Somos uma empresa de análise de dados chamada ABAMAH, nosso propósito é revolucionar os dados das instituições ligadas a área de saúde proporcionando soluções através do Machine Learning com informações fornecidas por nossos clientes.\n",
    "\n",
    "No mês de maio de 2022 o Hospital Santo Antônio entrou em contato com nossa empresa afim de otimizar a triagem na suspeita de Covid-19 e os médicos que realizam intubação endotraqueal.\n",
    "\n",
    "Sua maior dor seria o pico no aumento de casos de Covid-19, após a realização da triagem e dos exames laboratoriais essências para a detecção do Covid era necessário o envio para os laboratórios que identificavam com os resultados a detecção ou não detecção do Covid-19, porém a sobrecarga de testes e suspeitas está muito grande e a demora nos resultados está afetando o desempenho de cura de quadros agravados. \n",
    "\n",
    "Dentre essa perspectiva, a instalação pede para que **criássemos um sistema de detecção da doença através dos resultados obtidos pelos exames**, além de que em casos de detecção da doença deveríamos **complementar com a gravidade em que está se encontra o quadro (fraco, médio ou forte)**. Entretanto, somente isso não resolveria o problema por completo do hospital, já que o mesmo está com um aumento de casos graves quais precisam de intubação endotraqueal para minimizar o caso e aumentar a chance de sobrevivência do paciente.\n",
    "\n",
    "O procedimento é sempre feito por um médico especialista em Doenças Pulmonares, Medicina Interna, Medicina Emergencial, Intensivista, Doença Infecciosas ou Medicina Geral, áreas que no momento estão em escassez e tem a **urgência de contratar no mínimo 3 médicos que estejam dentro das suas exigências**, essas são:\n",
    "- Morar dentro do estado onde está localizado o hospital\n",
    "- Trabalhar em Instalações Médicas\n",
    "- Ter realizado mais de 15 intubações endotraqueal\n",
    "- Ter menos de 20 anos de experiência\n",
    "- Além de ter o grau de formação intitulado Doutor ou Pós-Doutor\n",
    "\t\n",
    "Nossa missão é encontrar estes profissionais cumprindo todas as exigências o mais rápido possível e para isso é necessário que automatizemos o processo de checagem de currículo de acordo com as exigências do hospital, para quando cheguem currículos, as informações essenciais sejam inseridas já forneça um retorna da avaliação de contratação.\n",
    "\n",
    "Após concluirmos tudo dentro da proposta combinada com o Hospital uma demanda surge, agora é hora de focar nos clientes, muitos dos pacientes que chegam a ter que realizar este o procedimento de intubação endotraqueal não está em condições para aprovar o mesmo por isso seus familiares ou responsáveis tomam as decisões e como muitos sabemos uma decisão de terceiros leva em conta muitos fatores emocionais e um deles é a grande preocupação na confiabilidade no médico. \n",
    "\n",
    "Para solucionar este problema e ajudar famílias e responsáveis em suas decisões da maneira a acolher todas suas preocupações, decidimos por **criar um sistema que sugerisse o melhor médico a realizar o procedimento a partir dos maiores fatores de angústia**, levando em conta a quantidade de procedimentos bem-sucedidos ou mal, a quantidade de procedimentos realizados e beneficiários, grau de escolaridade, e anos de carreira."
   ]
  },
  {
   "cell_type": "markdown",
   "metadata": {},
   "source": [
    "<a id=\"ancora2\"></a>\n",
    "## <b> 2. Método para exploração de dados</b> "
   ]
  },
  {
   "cell_type": "markdown",
   "metadata": {},
   "source": [
    "Para elaborar este projeto, baseamo-nos no modelo de processo **KDD (Knowledge Discovery in Databases)**, um método antigo de 1980, porém que funciona quando queremos dar enfoque na descoberta de conhecimento útil a partir dos dados, com o objetivo de enfatizar que o conhecimento é o produto final de uma descoberta baseada em dados.\n",
    "\n",
    "Esse método é considerado um “processo não trivial”, pois remete a necessidade de execução de várias etapas, de certa forma complexas, para alcançar o objetivo de identificar padrões que sejam “úteis” e de “fácil compreensão” através da análise dos dados. São consideradas cinco etapas do processo KDD.\n",
    "\n",
    "Ainda aparecem duas características importantes do KDD Process, ele é iterativo e interativo. Iterativo porque prevê uma sequência de atividades onde o resultado de uma etapa depende da outra. Interativo porque o analista pode intervir nas atividades. Cada etapa do processo pode ser repetida inúmeras vezes."
   ]
  },
  {
   "cell_type": "markdown",
   "metadata": {},
   "source": [
    "<img src=\"https://miro.medium.com/max/1400/1*rhX0r7cj8YArEkr4bGLpOA.png\" alt=\"Imagem do método KDD\" width=\"780\"  />"
   ]
  },
  {
   "cell_type": "markdown",
   "metadata": {},
   "source": [
    "1. **Seleção:** esta etapa consiste em selecionar um conjunto ou subconjunto de dados que farão parte da análise. Neste caso nossas fontes de dados foram duas Kaggle e Centers for Medicare and Medicaid Services para obter arquivos do tipo CSV de formato estruturado. Porém como apresentamos o projeto em formato de Storytelling, dizemos que estes dados foram fornecidos pelo Hospital Santo Antônio.\n",
    "\n",
    "- Base de dados Covid-19: https://www.kaggle.com/code/midouazerty/symptoms-covid-19-using-7-machine-learning-98/data\n",
    "\n",
    "- Base de dados de indicadores hospitalares (médicos e intubação endotraqueal): https://data.cms.gov/provider-summary-by-type-of-service/medicare-physician-other-practitioners/medicare-physician-other-practitioners-by-provider-and-service\n",
    "\n",
    "2. **Processamento:** esta etapa consiste em fazer a verificação da qualidade dos dados armazenados. Cada uma das bases utilizadas passou por um processo diferente. A base de Covid passou por uma limpeza, além de ter seus dados corrigidos para binários, já na base de indicadores hospitalares além das etapas realizadas na outra base, removemos algumas colunas que não ajudavam em nossas resoluções, e por fim identificamos anomalias (outliers) que tratamos depois.\n",
    "\n",
    "3. **Transformação:** esta etapa consiste em aplicar técnicas de transformação como: normalização, agregação, criação de novos atributos, redução e sintetização dos dados. No nosso caso a cada modelo aplicamos técnicas de transformação diferentes para aperfeiçoar o modelo da melhor maneira possível, porém tivemos transformações gerais da base como a criação de colunas artificiais para melhor aplicação dos modelos de análise, já que os mesmos possuíam correlações fracas que dificultavam a boa avaliação do modelo.\n",
    "\n",
    "4. **Mineração de Dados:** esta etapa consiste em construir modelos ou aplicar técnicas de mineração de dados. Essas técnicas têm por objetivo (1) verificar uma hipótese, (2) descobrir novos padrões de forma autônoma. Nossas descobertas foram preditivas e descritivas, isso quer dizer que aplicamos 6 modelos diferentes cada um em um dos 4 objetivos do trabalho, para que conseguíssemos a partir de dados previamente apresentados prever novos dados e também descrever ocorrências que refletiram na tomada de decisão.\n",
    "\n",
    "5. **Interpretação e Avaliação:** esta etapa consiste em avaliar o desempenho do modelo, aplicando em cima de dados que não foram utilizados na fase de treinamento ou mineração. A validação pode ser feita de diversas formas, algumas delas são: utilizar medidas estatísticas, passar pela avaliação dos profissionais de negócio. Cada um de nossos modelos teve seu método de avaliação aplicado com uma explicação sobre o resultado e caso precário uma nova transformação para ajudar na melhora do desempenho. "
   ]
  },
  {
   "cell_type": "markdown",
   "metadata": {},
   "source": [
    "<a id=\"ancora3\"></a>\n",
    "## <b> 3. Transformação dos dados</b> "
   ]
  },
  {
   "cell_type": "markdown",
   "metadata": {},
   "source": [
    "Durante a exploração do problema, notamos dificuldade na obtenção de dados essenciais para alcançarmos nossos objetivos. Entendemos que tais  barreiras existem justamente pelo caráter de projeto que nossa implementação possui e que, em uma situação real, na qual estivéssemos de fato prestado serviços a um hospital, teríamos acesso à essas informação. Por isso, decidimos criar colunas artificiais que não só nos ajudassem a contornar esses problemas mas que, sobretudo, fossem condizentes com a realidade.\n",
    "\n",
    "Nossa primeira coluna foi baseada em classificar o risco de pacientes que é considerado uma atividade complexa que depende de competências e habilidades próprias de um profissional da saúde. A classificação de risco é tida como uma ferramenta que, avalia de forma criteriosa o estado geral do paciente no primeiro contato entre o paciente e o profissional, garantindo atendimento imediato do usuário com grau de risco elevado, propicia informações aos usuários sobre sua condição de saúde e o tempo de espera.       \n",
    "\n",
    "A coluna `severidade(covid)`, atuando como nosso classificador de risco, é essencial no processo de triagem do hospital, ela consegue dividir os pacientes dependendo de sua complexidade e gravidade, podendo assim, priorizar seu atendimento. Podemos utilizá-la se quisermos analisar a compatibilidade de eventos como uma pandemia com a  demanda e a estrutura do hospital. Com ela, podemos prever se diminuindo o tempo de espera, diminuindo filas de pacientes podemos melhorar a qualidade do ambiente de trabalho dos profissionais.\n",
    "\n",
    "Já a segunda coluna `casos_sucesso(%)`, parte do alastramento mundial da pandemia do corona vírus que trouxe consigo atona inúmeros problemas estruturais em todos os países, principalmente no âmbito hospitalar. Médicos foram forçados a serem criativos e estratégicos em todos os casos em que eram escalados para cuidar, um misto de falta de procedimentos para a cura de pacientes com o vírus, esquipes sobrecarregadas e hospitais superlotados fizeram esse desafio ainda mais difícil para todos. \n",
    "\n",
    "Segundo a matéria da BBC News Brasil, em março de 2021, as primeiras instruções eram para que o entubamento fosse feito o quanto antes, assim que o paciente apresentasse dificuldade para respirar, mas muitos hospitais não obtinham os respiradores mecânicos assim ocorrendo uma alta procura e uma escassez dos aparelhos, nesse meio tempo foi utilizado o método não invasivo de auxílio respiratório, muito eficiente em inúmeros casos, mas não em sua totalidade, pois em casos que julgavam a severidade respiratória baixa não aplicavam o auxílio o que acabava comprometendo o problema respiratório e levando o paciente ao falecimento. Portando a coluna se torna muito importante pois segundo ela podemos visualizar quais médicos tiveram mais casos de sucesso, assim podendo selecionar médicos que possam fazer um trabalho melhor e mais assertivo no combate à doença.\n",
    "\n",
    "Por fim, outra informação importante para o nosso modelo, de acordo com os interesses do hospital, seriam os anos de carreira do profissional.\n",
    "\n",
    "Em um artigo de opinião publicado pelo New York Times, o médico tutor em residência, Haiver Javed, ao buscar desconstruir alguns estereótipos de que os profissionais com mais anos de experiência mereçam mais confiança do que os profissionais com menos tempo de atuação, cita um estudo publicado por pesquisadores de Harvard. Neste, foi observado que pacientes atendidos por médicos mais jovens tem menos chance de ir a óbito, e que além disso, profissionais mais jovens tem menos propensão de solicitar exames desnecessários.\n",
    "\n",
    "Além desse, um artigo publicado pela graduanda da Universidade Federal de Santa Catarina, Joana Mara Medeiros de Carvalho, mostra que dentre profissionais que receberam condenação por erro médico, em sua maioria são médicos que possuem mais de 15 anos de carreira.\n",
    "Desta forma, a pedido da direção do hospital e levando em consideração tais evidências, decidimos dar prioridade a médico com tempo igual ou inferior a 20 anos de carreira e, para isso, criamos a coluna `anos_carreira`, que indica o quantidade de anos de atuação que o profissional possui na área.\n",
    "\n",
    "Além dessas colunas, como iremos treinar o nosso modelo para: \n",
    "- Prever se devemos ou não contratar um profissional\n",
    "- Prever o quão bom é um profissional (em termos de habilidade) para realizar o procedimento de intubação\n",
    "\n",
    "Necessitamos de colunas que possuam as respostas dessas perguntas, ou seja:\n",
    "- Uma coluna que diz se o profissional deve ou não ser contratado\n",
    "- Uma coluna que indica o quão habilidoso é o profissional\n",
    "\n",
    "Para isso, realizamos um processo de rotulação de dados. Escrevemos um código, baseado nas nossas regras de negócio, que atribui um valor a cada uma dessas colunas. Ele é aplicado no dataset  `dados_artificiais_medcare`  ao chamarmos a classe Rotular, que se encontra no arquivo rotulando.py, no diretório `./medcare/` e gera um dataset com as colunas `contratar`  e  `habilidade_score`,  com o qual iremos trabalhar e foi nomeado como `dados_medcare_rotulados.csv`.\"."
   ]
  },
  {
   "cell_type": "markdown",
   "metadata": {},
   "source": [
    "#### Importando bibliotecas"
   ]
  },
  {
   "cell_type": "code",
   "execution_count": 1,
   "metadata": {},
   "outputs": [],
   "source": [
    "import pandas as pd\n",
    "import matplotlib.pyplot as plt\n",
    "import csv\n",
    "pd.set_option('display.max_columns', None)"
   ]
  },
  {
   "cell_type": "markdown",
   "metadata": {},
   "source": [
    "#### Transformações iniciais"
   ]
  },
  {
   "cell_type": "code",
   "execution_count": 2,
   "metadata": {},
   "outputs": [],
   "source": [
    "# Funções\n",
    "\n",
    "def espec_entubacao(text):\n",
    "    # lista de especialidades que considerei como \"relacionadas\" à entubação\n",
    "    espec = ['Pulmonary Disease', 'Critical Care (Intensivists)', 'Emergency Medicine', 'Anesthesiology']\n",
    "    return 1 if text in espec else 0\n",
    "\n",
    "\n",
    "def estado(text):\n",
    "    return 1 if text not in ['CA', 'FL'] else 0"
   ]
  },
  {
   "cell_type": "code",
   "execution_count": 3,
   "metadata": {},
   "outputs": [],
   "source": [
    "medcare_dataset = pd.read_csv('./medcare/dados_hospitalar.csv', sep = ';')\n",
    "\n",
    "# Criando coluna para ver a distribuição de profissionais que são ou não especialistas em entubação \n",
    "medcare_dataset['especialista_entubacao'] = medcare_dataset.prestador_especialidade.apply(espec_entubacao)\n",
    "\n",
    "# Criando coluna que diz se o médico é ou não do estado da instituição \n",
    "# Quando o médico está nos estado da CA ou FL ele NÃO ESTÁ NO ESTADO DA INSTITUIÇÃO,caso contrário, ele ESTÁ NO ESTADO DA INSTITUIÇÃO    \n",
    "medcare_dataset['prestador_estado_instituicao'] = medcare_dataset['prestador_estado'].apply(estado)\n",
    "\n",
    "# Tirando colunas que considramos não ser úteis ou que serão substituídas por artificiais\n",
    "cols = [\n",
    "    'prestador_tipo','prestador_cidade', 'prestador_estado', 'prestador_estado_FIPS', 'prestador_pais', 'procedimento_preco_listado',\n",
    "    'beneficiarios_qntd', 'beneficiarios_dist_qntd', 'medcare_pagamento_medio',  'prestador_grau_formacao',\n",
    "    'procedimento_qntd', 'especialista_entubacao', 'prestador_especialidade', 'prestador_participante_medcare', 'procedimento_instalacao_medica']\n",
    "\n",
    "medcare_dataset.drop(columns=cols, inplace = True)"
   ]
  },
  {
   "cell_type": "markdown",
   "metadata": {},
   "source": [
    "#### Criando Colunas Artificiais"
   ]
  },
  {
   "cell_type": "markdown",
   "metadata": {},
   "source": [
    "##### Severidade Covid-19"
   ]
  },
  {
   "cell_type": "code",
   "execution_count": 4,
   "metadata": {},
   "outputs": [],
   "source": [
    "from colunas.covid.datasets import *\n",
    "# covid_dataset = pd.read_csv('covid/Covid Dataset.csv')\n",
    "# DatasetCovid.GerarDataset(covid_dataset)"
   ]
  },
  {
   "cell_type": "markdown",
   "metadata": {},
   "source": [
    "##### Medcare"
   ]
  },
  {
   "cell_type": "code",
   "execution_count": 5,
   "metadata": {},
   "outputs": [],
   "source": [
    "from colunas.medcare.datasets import *\n",
    "# dados_artificiais_medcare = DatasetMedicare.GerarDataset(medcare_dataset)"
   ]
  },
  {
   "cell_type": "code",
   "execution_count": 6,
   "metadata": {},
   "outputs": [],
   "source": [
    "# Rotular.GerarDataset(dados_artificiais_medcare)"
   ]
  },
  {
   "cell_type": "markdown",
   "metadata": {},
   "source": [
    "<a id=\"ancora4\"></a>\n",
    "## <b> 4. Banco de dados </b> \n",
    "\n",
    "Solução REQ#08"
   ]
  },
  {
   "cell_type": "markdown",
   "metadata": {},
   "source": [
    "### Modelo conceitual\n",
    "\n",
    "Solução REQ#03"
   ]
  },
  {
   "cell_type": "markdown",
   "metadata": {},
   "source": [
    "<img src=\"./imagens/modelo_conceitual.png\" alt=\"Modelo conceitual\" width=\"900\"/>"
   ]
  },
  {
   "cell_type": "markdown",
   "metadata": {},
   "source": [
    "### Modelo lógico\n",
    "\n",
    "Solução REQ#04"
   ]
  },
  {
   "cell_type": "markdown",
   "metadata": {},
   "source": [
    "Este modelo lógico foi desenvolvido com tabelas de relações pois utilizamos de relações do tipo (n,n)"
   ]
  },
  {
   "cell_type": "markdown",
   "metadata": {},
   "source": [
    "<img src=\"./imagens/modelo_logico.jpg\" alt=\"Modelo lógico\" width=\"1000\"/>"
   ]
  },
  {
   "cell_type": "markdown",
   "metadata": {},
   "source": [
    "### Modelo físico\n",
    "\n",
    "Solução REQ#05"
   ]
  },
  {
   "cell_type": "code",
   "execution_count": 7,
   "metadata": {},
   "outputs": [],
   "source": [
    "# Importando bibliotecas necessárias para a criação do BD em SQLite\n",
    "import sqlite3"
   ]
  },
  {
   "cell_type": "code",
   "execution_count": 8,
   "metadata": {},
   "outputs": [],
   "source": [
    "# Conectando nosso servidor ao banco de dados que iremos criar\n",
    "con = sqlite3.connect('saude.db')"
   ]
  },
  {
   "cell_type": "code",
   "execution_count": 10,
   "metadata": {},
   "outputs": [],
   "source": [
    "# Chamando instância para utilizar os métodos que executam instruções do SQLite \n",
    "cur = con.cursor()\n",
    "\n",
    "# Criando tabelas\n",
    "cur.execute('''drop table if EXISTS medcare''')\n",
    "cur.execute('''drop table if EXISTS procedimento''')\n",
    "cur.execute('''drop table if EXISTS prestador''')\n",
    "\n",
    "cur.execute('''create table prestador\n",
    "(\n",
    "  idPrestador Int not null,\n",
    "  nomePrestador varchar,\n",
    "  Pais varchar(40),\n",
    "  Cidade varchar(40),\n",
    "  genero varchar(10),\n",
    "  tipo varchar,\n",
    "  participanteMedcare int not null,\n",
    "  titulo varchar,\n",
    "  estado varchar(2),\n",
    "  estadoFIPS varchar\n",
    "  )''')\n",
    "\n",
    "cur.execute('''CREATE table procedimento\n",
    "(\n",
    "  idProcedimento int not null,\n",
    "  precoListado int not null,\n",
    "  descricao varchar,\n",
    "  instalacaoMedica int not null\n",
    " )''')\n",
    " \n",
    "cur.execute('''CREATE table medcare\n",
    "(\n",
    "  cobrancaMedia int not null,\n",
    "  pagamentoMedio int not null,\n",
    "  cobrancaMediaPermitida int not null,\n",
    "  pagamentoMedioPadrao int not null,\n",
    "  quantidadeProcedimentos int not null,\n",
    "  quantidadeBeneficiarios int not null,\n",
    "  distQuantiade int not null,\n",
    "  idProcedimentoFK int not null,\n",
    "  idPrestadorFK int not null,\n",
    "  FOREIGN KEY (idProcedimentoFK) REFERENCES procedimento(idProcedimento),\n",
    "  FOREIGN KEY (idPrestadorFK) REFERENCES prestador(idPrestador)\n",
    " )''')\n",
    "\n",
    "# Tornando as mudanças na base de dados consistente\n",
    "con.commit()"
   ]
  },
  {
   "cell_type": "markdown",
   "metadata": {},
   "source": [
    "A seguir temos as imagens de retorno quando utilizamos o código no site SQLite Online que confirmam a criação das tabelas"
   ]
  },
  {
   "cell_type": "markdown",
   "metadata": {},
   "source": [
    "<table><tr>\n",
    "<td> <img src=\"./imagens/tabelas.jpeg\" alt=\"Tabelas\" style=\"width: 500;\"/> </td>\n",
    "<td> <img src=\"./imagens/tabela_medcare.jpeg\" alt=\"Tabela Medcare\" style=\"width: 500;\"/> </td>\n",
    "</tr></table>\n",
    "<table><tr>\n",
    "<td> <img src=\"./imagens/tabela_prestador.jpeg\" alt=\"Tabela Medcare\" style=\"width: 600;\"/> </td>\n",
    "<td> <img src=\"./imagens/tabela_proced.jpeg\" alt=\"Tabela Medcare\" style=\"width: 600;\"/> </td>\n",
    "</tr></table>\n",
    "<table><tr>\n",
    "<td> <img src=\"./imagens/tabela_relMprest.jpeg\" alt=\"Tabela Medcare\" style=\"width: 600;\"/> </td>\n",
    "<td> <img src=\"./imagens/tabela_relMproc.jpeg\" alt=\"Tabela Medcare\" style=\"width: 600;\"/> </td>\n",
    "</tr></table>"
   ]
  },
  {
   "cell_type": "markdown",
   "metadata": {},
   "source": [
    "### Populando o banco de dados a partir do Dataset\n",
    "\n",
    "Solução REQ#06"
   ]
  },
  {
   "cell_type": "code",
   "execution_count": 11,
   "metadata": {},
   "outputs": [
    {
     "data": {
      "text/html": [
       "<div>\n",
       "<style scoped>\n",
       "    .dataframe tbody tr th:only-of-type {\n",
       "        vertical-align: middle;\n",
       "    }\n",
       "\n",
       "    .dataframe tbody tr th {\n",
       "        vertical-align: top;\n",
       "    }\n",
       "\n",
       "    .dataframe thead th {\n",
       "        text-align: right;\n",
       "    }\n",
       "</style>\n",
       "<table border=\"1\" class=\"dataframe\">\n",
       "  <thead>\n",
       "    <tr style=\"text-align: right;\">\n",
       "      <th></th>\n",
       "      <th>prestador_id</th>\n",
       "      <th>prestador_nome</th>\n",
       "      <th>prestador_genero</th>\n",
       "      <th>prestador_tipo</th>\n",
       "      <th>prestador_cidade</th>\n",
       "      <th>prestador_estado</th>\n",
       "      <th>prestador_estado_FIPS</th>\n",
       "      <th>prestador_pais</th>\n",
       "      <th>prestador_titulo</th>\n",
       "      <th>prestador_participante_medcare</th>\n",
       "      <th>procedimento_cod</th>\n",
       "      <th>procedimento_desc</th>\n",
       "      <th>procedimento_preco_listado</th>\n",
       "      <th>procedimento_instalacao_medica</th>\n",
       "      <th>beneficiarios_qntd</th>\n",
       "      <th>procedimento_qntd</th>\n",
       "      <th>beneficiarios_dist_qntd</th>\n",
       "      <th>prestador_cobranca_media</th>\n",
       "      <th>medcare_cobranca_media_permitida</th>\n",
       "      <th>medcare_pagamento_medio</th>\n",
       "      <th>medcare_pagamento_medio_padronizado</th>\n",
       "    </tr>\n",
       "  </thead>\n",
       "  <tbody>\n",
       "    <tr>\n",
       "      <th>0</th>\n",
       "      <td>1003000126</td>\n",
       "      <td>Ardalan</td>\n",
       "      <td>M</td>\n",
       "      <td>I</td>\n",
       "      <td>Cumberland</td>\n",
       "      <td>MD</td>\n",
       "      <td>24.0</td>\n",
       "      <td>US</td>\n",
       "      <td>Internal Medicine</td>\n",
       "      <td>Y</td>\n",
       "      <td>99217</td>\n",
       "      <td>Hospital observation care on day of discharge</td>\n",
       "      <td>0</td>\n",
       "      <td>1</td>\n",
       "      <td>40.0</td>\n",
       "      <td>40.0</td>\n",
       "      <td>40.0</td>\n",
       "      <td>232.28</td>\n",
       "      <td>72.59</td>\n",
       "      <td>57.87</td>\n",
       "      <td>58.19</td>\n",
       "    </tr>\n",
       "    <tr>\n",
       "      <th>1</th>\n",
       "      <td>1003000126</td>\n",
       "      <td>Ardalan</td>\n",
       "      <td>M</td>\n",
       "      <td>I</td>\n",
       "      <td>Cumberland</td>\n",
       "      <td>MD</td>\n",
       "      <td>24.0</td>\n",
       "      <td>US</td>\n",
       "      <td>Internal Medicine</td>\n",
       "      <td>Y</td>\n",
       "      <td>99220</td>\n",
       "      <td>Hospital observation care, typically 70 minutes</td>\n",
       "      <td>0</td>\n",
       "      <td>1</td>\n",
       "      <td>25.0</td>\n",
       "      <td>25.0</td>\n",
       "      <td>25.0</td>\n",
       "      <td>712.80</td>\n",
       "      <td>186.73</td>\n",
       "      <td>148.85</td>\n",
       "      <td>147.77</td>\n",
       "    </tr>\n",
       "    <tr>\n",
       "      <th>2</th>\n",
       "      <td>1003000126</td>\n",
       "      <td>Ardalan</td>\n",
       "      <td>M</td>\n",
       "      <td>I</td>\n",
       "      <td>Cumberland</td>\n",
       "      <td>MD</td>\n",
       "      <td>24.0</td>\n",
       "      <td>US</td>\n",
       "      <td>Internal Medicine</td>\n",
       "      <td>Y</td>\n",
       "      <td>99221</td>\n",
       "      <td>Initial hospital inpatient care, typically 30 ...</td>\n",
       "      <td>0</td>\n",
       "      <td>1</td>\n",
       "      <td>24.0</td>\n",
       "      <td>24.0</td>\n",
       "      <td>24.0</td>\n",
       "      <td>320.17</td>\n",
       "      <td>101.12</td>\n",
       "      <td>80.62</td>\n",
       "      <td>80.81</td>\n",
       "    </tr>\n",
       "    <tr>\n",
       "      <th>3</th>\n",
       "      <td>1003000126</td>\n",
       "      <td>Ardalan</td>\n",
       "      <td>M</td>\n",
       "      <td>I</td>\n",
       "      <td>Cumberland</td>\n",
       "      <td>MD</td>\n",
       "      <td>24.0</td>\n",
       "      <td>US</td>\n",
       "      <td>Internal Medicine</td>\n",
       "      <td>Y</td>\n",
       "      <td>99223</td>\n",
       "      <td>Initial hospital inpatient care, typically 70 ...</td>\n",
       "      <td>0</td>\n",
       "      <td>1</td>\n",
       "      <td>157.0</td>\n",
       "      <td>158.0</td>\n",
       "      <td>158.0</td>\n",
       "      <td>651.42</td>\n",
       "      <td>200.93</td>\n",
       "      <td>160.19</td>\n",
       "      <td>161.06</td>\n",
       "    </tr>\n",
       "    <tr>\n",
       "      <th>4</th>\n",
       "      <td>1003000126</td>\n",
       "      <td>Ardalan</td>\n",
       "      <td>M</td>\n",
       "      <td>I</td>\n",
       "      <td>Cumberland</td>\n",
       "      <td>MD</td>\n",
       "      <td>24.0</td>\n",
       "      <td>US</td>\n",
       "      <td>Internal Medicine</td>\n",
       "      <td>Y</td>\n",
       "      <td>99232</td>\n",
       "      <td>Subsequent hospital inpatient care, typically ...</td>\n",
       "      <td>0</td>\n",
       "      <td>1</td>\n",
       "      <td>117.0</td>\n",
       "      <td>205.0</td>\n",
       "      <td>205.0</td>\n",
       "      <td>245.61</td>\n",
       "      <td>72.76</td>\n",
       "      <td>58.01</td>\n",
       "      <td>57.93</td>\n",
       "    </tr>\n",
       "  </tbody>\n",
       "</table>\n",
       "</div>"
      ],
      "text/plain": [
       "   prestador_id prestador_nome prestador_genero prestador_tipo  \\\n",
       "0    1003000126        Ardalan                M              I   \n",
       "1    1003000126        Ardalan                M              I   \n",
       "2    1003000126        Ardalan                M              I   \n",
       "3    1003000126        Ardalan                M              I   \n",
       "4    1003000126        Ardalan                M              I   \n",
       "\n",
       "  prestador_cidade prestador_estado  prestador_estado_FIPS prestador_pais  \\\n",
       "0       Cumberland               MD                   24.0             US   \n",
       "1       Cumberland               MD                   24.0             US   \n",
       "2       Cumberland               MD                   24.0             US   \n",
       "3       Cumberland               MD                   24.0             US   \n",
       "4       Cumberland               MD                   24.0             US   \n",
       "\n",
       "    prestador_titulo prestador_participante_medcare procedimento_cod  \\\n",
       "0  Internal Medicine                              Y            99217   \n",
       "1  Internal Medicine                              Y            99220   \n",
       "2  Internal Medicine                              Y            99221   \n",
       "3  Internal Medicine                              Y            99223   \n",
       "4  Internal Medicine                              Y            99232   \n",
       "\n",
       "                                   procedimento_desc  \\\n",
       "0      Hospital observation care on day of discharge   \n",
       "1    Hospital observation care, typically 70 minutes   \n",
       "2  Initial hospital inpatient care, typically 30 ...   \n",
       "3  Initial hospital inpatient care, typically 70 ...   \n",
       "4  Subsequent hospital inpatient care, typically ...   \n",
       "\n",
       "   procedimento_preco_listado  procedimento_instalacao_medica  \\\n",
       "0                           0                               1   \n",
       "1                           0                               1   \n",
       "2                           0                               1   \n",
       "3                           0                               1   \n",
       "4                           0                               1   \n",
       "\n",
       "   beneficiarios_qntd  procedimento_qntd  beneficiarios_dist_qntd  \\\n",
       "0                40.0               40.0                     40.0   \n",
       "1                25.0               25.0                     25.0   \n",
       "2                24.0               24.0                     24.0   \n",
       "3               157.0              158.0                    158.0   \n",
       "4               117.0              205.0                    205.0   \n",
       "\n",
       "   prestador_cobranca_media  medcare_cobranca_media_permitida  \\\n",
       "0                    232.28                             72.59   \n",
       "1                    712.80                            186.73   \n",
       "2                    320.17                            101.12   \n",
       "3                    651.42                            200.93   \n",
       "4                    245.61                             72.76   \n",
       "\n",
       "   medcare_pagamento_medio  medcare_pagamento_medio_padronizado  \n",
       "0                    57.87                                58.19  \n",
       "1                   148.85                               147.77  \n",
       "2                    80.62                                80.81  \n",
       "3                   160.19                               161.06  \n",
       "4                    58.01                                57.93  "
      ]
     },
     "execution_count": 11,
     "metadata": {},
     "output_type": "execute_result"
    }
   ],
   "source": [
    "# Importando e imprimindo as primeiras linhas do nosso CSV que já contém os dados que iremos adicionar ao nosso BD\n",
    "df = pd.read_csv('prestadores_saude.csv')\n",
    "df.head()"
   ]
  },
  {
   "cell_type": "code",
   "execution_count": 12,
   "metadata": {},
   "outputs": [],
   "source": [
    "# Removendo todas as colunas que tiverem duplicadas e resetando o index\n",
    "df_prestador = df[[\n",
    "    'prestador_id', 'prestador_nome', 'prestador_pais', 'prestador_cidade', 'prestador_genero', 'prestador_tipo', \n",
    "    'prestador_participante_medcare', 'prestador_titulo', 'prestador_estado', 'prestador_estado_FIPS'\n",
    "    ]].drop_duplicates().reset_index(drop=True)\n",
    "\n",
    "df_procedimento = df[[\n",
    "    'procedimento_cod', 'procedimento_preco_listado', 'procedimento_desc', \n",
    "    'procedimento_instalacao_medica'\n",
    "    ]].drop_duplicates().reset_index(drop=True)\n",
    "\n",
    "df_medcare = df[[\n",
    "    'prestador_cobranca_media', 'medcare_pagamento_medio', 'medcare_cobranca_media_permitida', 'medcare_pagamento_medio_padronizado',\n",
    "    'procedimento_qntd', 'beneficiarios_qntd', 'beneficiarios_dist_qntd', 'procedimento_cod', 'prestador_id'\n",
    "    ]].drop_duplicates().reset_index(drop=True)"
   ]
  },
  {
   "cell_type": "code",
   "execution_count": 13,
   "metadata": {},
   "outputs": [],
   "source": [
    "# Inserindo os valores de acordo com o nome da coluna no nosso BD relacionado ao nome da coluna no CSV\n",
    "for index, row in df_prestador.iterrows():\n",
    "    insert_prestador = f'''\n",
    "insert into prestador (idPrestador,nomePrestador ,Pais, Cidade, genero, tipo, participanteMedcare,  titulo, estado, estadoFIPS)\n",
    "values(\n",
    "    \"{row['prestador_id']}\",\n",
    "    \"{row['prestador_nome']}\",\n",
    "    \"{row['prestador_pais']}\",\n",
    "    \"{row['prestador_cidade']}\",\n",
    "    \"{row['prestador_genero']}\",\n",
    "    \"{row['prestador_tipo']}\",\n",
    "    \"{row['prestador_participante_medcare']}\",\n",
    "    \"{row['prestador_titulo']}\",\n",
    "    \"{row['prestador_estado']}\",\n",
    "    \"{row['prestador_estado_FIPS']}\"\n",
    ")'''\n",
    "\n",
    "    con.execute(insert_prestador)\n",
    "\n",
    "for index, row in df_procedimento.iterrows():\n",
    "    insert_procedimento = f'''\n",
    "    insert into procedimento(idProcedimento, precoListado, descricao, instalacaoMedica)\n",
    "    values(\n",
    "        \"{row['procedimento_cod']}\",\n",
    "        \"{row['procedimento_preco_listado']}\",\n",
    "        \"{row['procedimento_desc']}\",\n",
    "        \"{row['procedimento_instalacao_medica']}\"\n",
    "    )'''\n",
    "    con.execute(insert_procedimento)\n",
    "\n",
    "for index, row in df_medcare.iterrows():   \n",
    "    insert_medcare = f'''\n",
    "    insert into medcare(cobrancaMedia , pagamentoMedio,  cobrancaMediaPermitida, pagamentoMedioPadrao, \n",
    "    quantidadeProcedimentos, quantidadeBeneficiarios, distQuantiade, idProcedimentoFK, idPrestadorFK)\n",
    "    values(\n",
    "        \"{row['prestador_cobranca_media']}\",\n",
    "        \"{row['medcare_pagamento_medio']}\",\n",
    "        \"{row['medcare_cobranca_media_permitida']}\",\n",
    "        \"{row['medcare_pagamento_medio_padronizado']}\",\n",
    "        \"{row['procedimento_qntd']}\",\n",
    "        \"{row['beneficiarios_qntd']}\",\n",
    "        \"{row['beneficiarios_dist_qntd']}\",\n",
    "        \"{row['procedimento_cod']}\",\n",
    "        \"{row['prestador_id']}\"\n",
    "    )'''\n",
    "    con.execute(insert_medcare)\n",
    "\n",
    "con.commit()"
   ]
  },
  {
   "cell_type": "markdown",
   "metadata": {},
   "source": [
    "<table><tr>\n",
    "<td> <img src=\"./imagens/prestador_populado.jpeg\" alt=\"Tabela prestador populada\" style=\"width: 500;\"/> </td>\n",
    "<td> <img src=\"./imagens/proced_populado.jpeg\" alt=\"Tabela procedimentos populada\" style=\"width: 500;\"/> </td>\n",
    "</tr></table>\n",
    "<table><tr>\n",
    "<td> <img src=\"./imagens/rel_Mprest_populado.jpeg\" alt=\"Tabela de relação de prestadores populados\" style=\"width: 600;\"/> </td>\n",
    "<td> <img src=\"./imagens/rel_Mproced_populado.jpeg\" alt=\"Tabela de relação de procedimentos populados\" style=\"width: 600;\"/> </td>\n",
    "</tr></table>"
   ]
  },
  {
   "cell_type": "markdown",
   "metadata": {},
   "source": [
    "### Queries\n",
    "\n",
    "Solução REQ#07"
   ]
  },
  {
   "cell_type": "markdown",
   "metadata": {},
   "source": [
    "#### 1. Indique a diferença de provedores do sexo masculino para o feminino quanto a procedimentos realizados. "
   ]
  },
  {
   "cell_type": "markdown",
   "metadata": {},
   "source": [
    "~~~sql\n",
    "SELECT genero, COUNT(genero) FROM prestador GROUP BY genero"
   ]
  },
  {
   "cell_type": "markdown",
   "metadata": {},
   "source": [
    "<img src=\"./imagens/q1.png\" alt=\"Query 1\" style=\"width: 500;\"/>"
   ]
  },
  {
   "cell_type": "markdown",
   "metadata": {},
   "source": [
    "#### 2. Sabendo que nos Estados Unidos o sistema é federalista, onde cada estado oferece diferentes tipos de cobertura de saúde e regula o funcionamento dos convênios médicos em seus territórios. Quais são os estados que fornecem uma cobrança média permitida acima de 100 dólares?"
   ]
  },
  {
   "cell_type": "markdown",
   "metadata": {},
   "source": [
    "~~~sql\n",
    "WITH \n",
    "\ttd_medcare AS (\n",
    "      SELECT \n",
    "      \tcobrancamediapermitida, medcare_fks.idmedcare, medcare_fks.idprestadorfk \n",
    "      FROM \n",
    "      \t(medcare INNER JOIN RelMPrest \n",
    "      \t\tON medcare.idmedcare = RelMPrest.idmedcarefk\n",
    "        ) AS medcare_fks)\n",
    "SELECT \n",
    "\testado, cobrancamediapermitida AS \"Cobrança Média por Estado\"\n",
    "FROM \n",
    "  td_medcare INNER JOIN prestador \n",
    "  ON prestador.idprestador = td_medcare.idprestadorfk\n",
    "WHERE  cobrancamediapermitida > 100\n",
    "GROUP BY estado;"
   ]
  },
  {
   "cell_type": "markdown",
   "metadata": {},
   "source": [
    "<img src=\"./imagens/q2.png\" alt=\"Query 2\" style=\"width: 500;\"/>"
   ]
  },
  {
   "cell_type": "markdown",
   "metadata": {},
   "source": [
    "#### 3. Mediante a uma análise no setor financeiro,  a fim de evitar fraudes no sistema de saúde do país, forneça o valor médio de cada procedimento."
   ]
  },
  {
   "cell_type": "markdown",
   "metadata": {},
   "source": [
    "~~~sql\n",
    "WITH \n",
    "\ttd_medcare AS (\n",
    "      SELECT \n",
    "      \tcobrancaMedia, medcare_fks.idmedcare, medcare_fks.idprocedimentofk \n",
    "      FROM \n",
    "      \t(medcare INNER JOIN RelMProc \n",
    "      \t\tON medcare.idmedcare = RelMProc.idmedcarefk\n",
    "        ) AS medcare_fks)\n",
    "SELECT \n",
    "\tcobrancamedia, descricao \n",
    "FROM \n",
    "  td_medcare INNER JOIN procedimento \n",
    "  ON procedimento.idprocedimento = td_medcare.idprocedimentofk"
   ]
  },
  {
   "cell_type": "markdown",
   "metadata": {},
   "source": [
    "<img src=\"./imagens/q3.png\" alt=\"Query 3\" style=\"width: 500;\"/>"
   ]
  },
  {
   "cell_type": "markdown",
   "metadata": {},
   "source": [
    "#### 4. Correlacione os preços listados dos procedimentos com o lugar das instalações, o custo é maior quando o procedimento é feito em um hospital?"
   ]
  },
  {
   "cell_type": "markdown",
   "metadata": {},
   "source": [
    "~~~sql\n",
    "SELECT cobrancamedia, instalacaomedica FROM medcare GROUP BY instalacaomedica"
   ]
  },
  {
   "cell_type": "markdown",
   "metadata": {},
   "source": [
    "<img src=\"./imagens/q4.png\" alt=\"Query 4\" style=\"width: 500;\"/>"
   ]
  },
  {
   "cell_type": "markdown",
   "metadata": {},
   "source": [
    "#### 5. Um médico deseja ganhar dinheiro realizando uma pequena quantidade de procedimentos mas que tenha um alto lucro, sendo assim quantos procedimentos existem no qual o médico ganha ao menos 500 dólares pelo procedimento e qual a frequência de realização dele?"
   ]
  },
  {
   "cell_type": "markdown",
   "metadata": {},
   "source": [
    "~~~sql\n",
    "SELECT quantidadeprocedimentos, cobrancamedia\n",
    "FROM medcare \n",
    "WHERE cobrancamedia > 500\n",
    "ORDER BY quantidadeprocedimentos asc;"
   ]
  },
  {
   "cell_type": "markdown",
   "metadata": {},
   "source": [
    "<img src=\"./imagens/q5.png\" alt=\"Query 5\" style=\"width: 500;\"/>"
   ]
  },
  {
   "cell_type": "markdown",
   "metadata": {},
   "source": [
    "#### 6. Se algum paciente quisesse realizar um exame feito por um profissional apenas do sexo feminino, quais seriam as cidades com mais dificuldade de realizar o procedimento?"
   ]
  },
  {
   "cell_type": "markdown",
   "metadata": {},
   "source": [
    "~~~sql\n",
    "SELECT cidade, genero, COUNT(genero) AS 'ocorrencia' \n",
    "FROM prestador\n",
    "WHERE genero = 'M'\n",
    "GROUP BY cidade\n",
    "ORDER BY 3 DESC\n",
    "LIMIT 10;"
   ]
  },
  {
   "cell_type": "markdown",
   "metadata": {},
   "source": [
    "<img src=\"./imagens/q6.png\" alt=\"Query 6\" style=\"width: 500;\"/>"
   ]
  },
  {
   "cell_type": "markdown",
   "metadata": {},
   "source": [
    "#### 7. Quais cidades tiveram mais procedimentos realizados?"
   ]
  },
  {
   "cell_type": "markdown",
   "metadata": {},
   "source": [
    "~~~sql\n",
    "SELECT cidade, COUNT (cidade) AS 'ocorrencia' \n",
    "FROM prestador\n",
    "GROUP BY cidade\n",
    "ORDER BY 2 DESC\n",
    "LIMIT 10;"
   ]
  },
  {
   "cell_type": "markdown",
   "metadata": {},
   "source": [
    "<img src=\"./imagens/q7.png\" alt=\"Query 7\" style=\"width: 500;\"/>"
   ]
  },
  {
   "cell_type": "markdown",
   "metadata": {},
   "source": [
    "#### 8. Sabendo que os medicamentos listados na Medicare Part B Drug Average Sales Price são usados para economizar dinheiro do Medicare, mantendo o reembolso adequado para novos tratamentos, quantos procedimentos foram realizados sob essa condição?"
   ]
  },
  {
   "cell_type": "markdown",
   "metadata": {},
   "source": [
    "~~~sql\n",
    "SELECT SUM(precolistado = 1) FROM procedimento"
   ]
  },
  {
   "cell_type": "markdown",
   "metadata": {},
   "source": [
    "<img src=\"./imagens/q8.png\" alt=\"Query 8\" style=\"width: 500;\"/>"
   ]
  },
  {
   "cell_type": "markdown",
   "metadata": {},
   "source": [
    "#### 9. Um paciente quer realizar um procedimento dentro do estado do Texas, o mesmo tem pressa para a realização e precisa da cidade que tenha mais médicos disponíveis quais as cidades ele poderia realiza-lo"
   ]
  },
  {
   "cell_type": "markdown",
   "metadata": {},
   "source": [
    "~~~sql\n",
    "SELECT cidade, COUNT(nomeprestador) AS 'médicos disponíveis' FROM prestador\n",
    "WHERE estado = 'TX' \n",
    "GROUP BY nomeprestador\n",
    "ORDER by 2 DESC "
   ]
  },
  {
   "cell_type": "markdown",
   "metadata": {},
   "source": [
    "<img src=\"./imagens/q9.png\" alt=\"Query 9\" style=\"width: 500;\"/>"
   ]
  },
  {
   "cell_type": "markdown",
   "metadata": {},
   "source": [
    "#### 10. Quais os provedores do sexo masculino são participante do Medicare que trabalham em instituições hospitalares."
   ]
  },
  {
   "cell_type": "markdown",
   "metadata": {},
   "source": [
    "~~~sql\n",
    "WITH \n",
    "\ttd_medcare AS (\n",
    "      SELECT \n",
    "      \tinstalacaomedica, medcare_fks.idmedcare, medcare_fks.idprestadorfk \n",
    "      FROM\n",
    "      \t(medcare INNER join RelMPrest \n",
    "      \t\tON medcare.idmedcare = RelMPrest.idmedcarefk\n",
    "        ) AS medcare_fks)\n",
    "SELECT DISTINCT\n",
    "\t nomeprestador AS \"Médicos homens\"\n",
    "FROM\n",
    "  td_medcare INNER JOIN prestador \n",
    "  ON prestador.idprestador = td_medcare.idprestadorfk\n",
    "WHERE  genero = 'M' AND instalacaomedica = 1\n"
   ]
  },
  {
   "cell_type": "markdown",
   "metadata": {},
   "source": [
    "<img src=\"./imagens/q10.png\" alt=\"Query 10\" style=\"width: 500;\"/>"
   ]
  },
  {
   "cell_type": "markdown",
   "metadata": {},
   "source": [
    "<a id=\"ancora5\"></a>\n",
    "## <b> 5. Engenharia de Software</b> \n",
    "\n",
    "Solução REQ#06"
   ]
  },
  {
   "cell_type": "markdown",
   "metadata": {},
   "source": [
    "#### Contexto geral"
   ]
  },
  {
   "cell_type": "markdown",
   "metadata": {},
   "source": [
    "<title style = \"color: Gray\">\n",
    "    Identificação da severidade de quadros de COVID-19\n",
    "</title>\n",
    "\n",
    "<b>Identificação da severidade de quadros de COVID-19</b>\n",
    "\n",
    "&emsp;Uma das funcionalidades oferecidas pelo nosso serviço é a identificação, ainda no momento da triagem, da severidade do quadro que o paciente com COVID-19 apresenta. \n",
    "\n",
    "&emsp;Para treinar nosso preditor de severidade precisamos alimentar nosso modelo com dados de treinamento, ou seja, exemplos de casos que passaram pela triagem do hospital e já tiveram seu grau de severidade definido. Para isso, os funcionários do Hospital Santo Antônio foram orientados a coletar, no momento da triagem, informações importantes referentes aos sintomas dos pacientes que testaram positivo para Covid-19 e, após a avaliação médica mais profunda fornecer a definição da severidade do quadro, seu grau de severidade.\n",
    "\n",
    "&emsp;No momento anterior à triagem, a única informação que possuímos é a identificação do paciente, que, por motivos éticos, é um identificador numérico que, no mundo lógico, será representado pela variável  $id$. Dessa forma, podemos admitir a seguinte função $Paciente$, que mapeia o paciente em seu id:\n",
    "\n",
    "$$Paciente ≜ { paciente ↦ id }$$ \n",
    "\n",
    "&emsp;Durante a triagem recolhemos dados referentes a sintomas ou comorbidades que o paciente possa apresentar. Neste contexto, consideramos útil verificar se o paciente possui febre, asma ou dificuldade para respirar. No mundo lógico iremos representar essas informações, respectivamente, pelas variáveis $febre$, $asma$ e $dispneia$. \n",
    "\n",
    "&emsp;Já o grau de severidade será a informação que iremos conseguir apenas após a avaliação médica, e iremos representá-lo no mundo lógico pela variável $grauSeveridade$ do tipo <i>Grau</i>. O grau de severidade pode assumir três valores:  0 para \"Leve\", 1 para \" Média\" ou 2 para \"Alta\", e sua representação escrita será dada na variável severidade  do <b>tipo</b> <i>Se</i>."
   ]
  },
  {
   "cell_type": "markdown",
   "metadata": {},
   "source": [
    "#### Definição de <i>variáveis de estado</i> com os seus respectivos domínios de valores no mundo lógico\n",
    "\n",
    "Solução REQ#01"
   ]
  },
  {
   "cell_type": "markdown",
   "metadata": {},
   "source": [
    "Portanto, definimos os tipos abstratos $Se$ e $Grau$ como:\n",
    "\n",
    "$$ Se \\triangleq Leve \\:| \\:Média \\:| \\:Grave$$ \n",
    "$$ Grau \\triangleq 0 \\:| \\: 1  \\:|  \\:2 $$\n",
    "\n",
    "E admitimos que no nosso problema iremos trabalhar com as seguintes <b>variáveis</b> - <i>sendo as cinco primeiras de <b>estado</b></i>:\n",
    "\n",
    "$$ febre : Boolean $$ \n",
    "$$ asma : Boolean $$ \n",
    "$$ dispneia : Boolean $$ \n",
    "$$ grauSeveridade: Grau $$ \n",
    "$$ severidade: Se $$ \n",
    "$$ id: \\mathbb{N} $$ \n"
   ]
  },
  {
   "cell_type": "markdown",
   "metadata": {},
   "source": [
    "#### Início do Atendimento - <i>Predicado de estado Inicial</i>\n",
    "\n",
    "Solução REQ#02"
   ]
  },
  {
   "cell_type": "markdown",
   "metadata": {},
   "source": [
    "Dado um paciente <b>p</b> de código identificador <b>1</b>, iremos acompanhar o processo de seu atendimento. No início, a única informação que possuímos é seu código identificador. Em termos lógicos, sendo p uma variável-paciente,  essa situação pode ser representada pelo seguinte <b>predicado de estado inicial</b>:\n",
    "\n",
    "$$ Atendimento_{início} \\triangleq  \\wedge \\:id(p) = 1  $$\n",
    "$$\\wedge \\: febre(p) = \\bot $$\n",
    "$$\\wedge \\: asma(p) = \\bot $$\n",
    "$$\\wedge \\: dispneia(p) = \\bot $$\n",
    "$$\\wedge \\: grauSeveridade(p) = \\bot $$\n",
    "$$\\wedge \\: severidade(p) = \\bot  $$\n",
    "\n",
    "\n",
    "Podemos representar isso diagramaticamente da seguinte forma:\n",
    "<br>\n",
    "<img src=\"./imagens/2.png\">\n",
    "\n",
    "Em Python:"
   ]
  },
  {
   "cell_type": "code",
   "execution_count": 14,
   "metadata": {},
   "outputs": [
    {
     "name": "stdout",
     "output_type": "stream",
     "text": [
      "Identificador = 1\n"
     ]
    }
   ],
   "source": [
    "# Solução REQ#05\n",
    "\n",
    "# definição do tipo \"paciente-severidade\"\n",
    "class Paciente:\n",
    "   def __init__(self):\n",
    "       self.id = \"\"\n",
    "       self.sintomas = \"\"\n",
    "       self.grauSeveridade = \"\"\n",
    "       self.severidade = \"\"\n",
    "# representação do um paciente \"p\" em Python\n",
    "p = Paciente()\n",
    " \n",
    "# aplicação das funções sobre o um paciente \"p\"\n",
    "p.id = 1\n",
    " \n",
    "# visualizando dados\n",
    "info = \"Identificador = {n}\"\n",
    "print (info.format(n = p.id))"
   ]
  },
  {
   "cell_type": "markdown",
   "metadata": {},
   "source": [
    "#### Triagem - <i>Ação e Predicado de Estado</i>\n",
    "\n",
    "Solução REQ#02"
   ]
  },
  {
   "cell_type": "markdown",
   "metadata": {},
   "source": [
    "Logo em seguida, o paciente 1 passou pela triagem e, além de relatar que possuía dificuldade de respirar, os profissionais puderam constatar que ele estava febril. No contexto lógico, para atribuir tais dados à variável-paciente $ p $, iremos definir tal <b>ação</b>:\n",
    "\n",
    "$$ Triagem   \\triangleq  \\wedge \\: febre(p)‘ = 1  $$\n",
    "$$\\wedge \\:  asma(p)‘ = 0  $$\n",
    "$$ \\wedge \\:  dispneia(p)‘ = 1  $$\n",
    "\n",
    "Quando o processo de triagem termina , significa que esses dados foram considerados verdade e atribuídos ao paciente 1. No mundo lógico isso pode ser representado pelo seguinte <b>predicado de estado</b>:\n",
    "\n",
    "$$ Atendimento_{triagem} \\triangleq   \\wedge \\: id(p) = 1 $$\n",
    "$$\\wedge\\: febre(p) = 1 $$\n",
    "$$\\wedge\\: asma(p) = 0 $$\n",
    "$$\\wedge\\: dispneia(p) = 1 $$\n",
    "$$\\wedge\\: Grauseveridade(p) = \\bot $$\n",
    "$$\\wedge\\: severidade(p) = \\bot $$\n",
    "\n",
    "Representação por diagrama:\n",
    "<br>\n",
    "<img src=\"./imagens/3.png\">\n",
    "\n",
    "Em python, acrescentamos as funções necessárias à classe Paciente e podemos visualizar o resultado:"
   ]
  },
  {
   "cell_type": "code",
   "execution_count": 15,
   "metadata": {},
   "outputs": [
    {
     "name": "stdout",
     "output_type": "stream",
     "text": [
      "Identificador = 1\n",
      "Sintomas = ['Febre', 'Dispneia']\n"
     ]
    }
   ],
   "source": [
    "# Solução REQ#05\n",
    "\n",
    "# definição do tipo \"paciente-severidade\"\n",
    "class Paciente:\n",
    "    def __init__(self):\n",
    "       self.id = \"\"\n",
    "       self.sintomas = \"\"\n",
    "       self.grauSeveridade = \"\"\n",
    "       self.severidade = \"\"\n",
    "    def iniciar_triagem(self):\n",
    "       self.febre = \"\"\n",
    "       self.asma = \"\"\n",
    "       self.dispineia = \"\"\n",
    " \n",
    "    def febril(self):\n",
    "       self.febre = 1\n",
    " \n",
    "    def asmatico(self):\n",
    "       self.asma = 1\n",
    " \n",
    "    def tem_dispineia(self):\n",
    "       self.dispineia = 1\n",
    " \n",
    "    def finalizar_triagem(self):\n",
    "       self.listar_sintomas()\n",
    " \n",
    "    def listar_sintomas(self):\n",
    "       sintomas = []\n",
    "       if self.febre == 1:\n",
    "           sintomas.append('Febre')\n",
    "       if self.asma == 1:\n",
    "           sintomas.append('Asma')\n",
    "       if self.dispineia == 1:\n",
    "           sintomas.append('Dispneia')\n",
    "       self.sintomas = [s for s in sintomas]\n",
    "        \n",
    "# representação do um paciente \"p\" em Python\n",
    "p = Paciente()\n",
    " \n",
    "    \n",
    "# aplicação das funções sobre o um paciente \"p\"\n",
    "p.id = 1\n",
    "p.iniciar_triagem()# iniciando o processo de triagem\n",
    "p.febril() # atribuindo febre como um sintoma do paciente\n",
    "p.tem_dispineia() # atribuindo dispneia como um sintoma do paciente\n",
    "p.finalizar_triagem() # finalizando o processo de triagem\n",
    " \n",
    "# visualizando dados\n",
    "info = \"Identificador = {n}\\nSintomas = {ls}\"\n",
    "print (info.format(n = p.id, ls = p.sintomas))"
   ]
  },
  {
   "cell_type": "markdown",
   "metadata": {},
   "source": [
    "#### Definir Severidade - <i>Ação, Função de Estado e Predicado de Estado</i>\n",
    "\n",
    "Solução REQ#03"
   ]
  },
  {
   "cell_type": "markdown",
   "metadata": {},
   "source": [
    "Após a finalização da avaliação médica do paciente, podemos finalmente definir a severidade para a qual seu quadro se encontra. No caso do paciente 1, a severidade do seu quadro foi definida como “Média” pelo profissional responsável, ou seja, grau 1. Em termos lógicos isso pode ser representado pela seguinte <b>ação</b>:\n",
    "\n",
    "$$ Severidade_{1}  \\triangleq severidade(p)‘ = Média $$\n",
    "\n",
    "Além disso, de acordo com essa atribuição, precisamos também definir o valor da variável $ GrauSeveridade $. Tal definição pode ser representada pelas seguintes <b>funções de estado</b>:\n",
    "$$ DefinirGrauSeveridade_{0} \\triangleq \\lambda \\:severidade : Se | severidade = “baixo” \\bullet 0 $$\n",
    "$$ DefinirGrauSeveridade_{1} \\triangleq \\lambda \\:severidade : Se | severidade = “médio” \\bullet 1 $$\n",
    "$$ DefinirGrauSeveridade_{2} \\triangleq \\lambda \\:severidade : Se | severidade = “alto” \\bullet 2 $$\n",
    "<br>\n",
    "\n",
    "$$ DefinirGrauSeveridade\\triangleq DefinirGrauSeveridade_{0} \\vee  DefinirGrauSeveridade_{1} \\vee DefinirGrauSeveridade_{2} $$\n",
    "\n",
    "Desta forma, podemos melhor definir a ação $ Severidade $ como:\n",
    "\n",
    "$$ Severidade_{2}  \\triangleq \\wedge \\:severidade(p)‘ = Média$$ \n",
    "$$\\wedge \\: Grauseveridade(p)‘ = DefinirGrauSeveridade(severidade(p)) $$\n",
    "\n",
    "Após a realização da ação $Severidade_{2}$ obtemos o seguinte predicado de estado:\n",
    "\n",
    "$$ Atendimento_{severidade}\\triangleq \\wedge \\: id(p) = 1$$\n",
    "$$\\wedge \\: febre(p) = 1$$\n",
    "$$\\wedge \\: asma(p) = 0$$\n",
    "$$\\wedge \\: dispneia(p) = 1$$\n",
    "$$\\wedge \\: severidade(p) = Média$$\n",
    "$$\\wedge \\: Grauseveridade(p) = 1 $$\n",
    "\n",
    "Representação diagramática: \n",
    "<br>\n",
    "<img src=\"./imagens/4.png\">\n",
    "\n",
    "Em python adicionamos a função grau_severidade e severidade_quadro na classe Paciente. A seguir podemos visualizá-las no código completo:"
   ]
  },
  {
   "cell_type": "code",
   "execution_count": 16,
   "metadata": {},
   "outputs": [
    {
     "name": "stdout",
     "output_type": "stream",
     "text": [
      "Identificador = 1\n",
      "Sintomas = ['Febre', 'Dispneia']\n",
      "Severidade = Média\n"
     ]
    }
   ],
   "source": [
    "# Solução REQ#05\n",
    "\n",
    "# Adição de função de atribuição de sintomas\n",
    "class Paciente:\n",
    "   def __init__(self):\n",
    "       self.id = \"\"\n",
    "       self.sintomas = \"\"\n",
    "       self.severidade = \"\"\n",
    " \n",
    "   def iniciar_triagem(self):\n",
    "       self.febre = \"\"\n",
    "       self.asma = \"\"\n",
    "       self.dispineia = \"\"\n",
    " \n",
    "   def febril(self):\n",
    "       self.febre = 1\n",
    " \n",
    "   def asmatico(self):\n",
    "       self.asma = 1\n",
    " \n",
    "   def tem_dispineia(self):\n",
    "       self.dispineia = 1\n",
    " \n",
    "   def finalizar_triagem(self):\n",
    "       self.listar_sintomas()\n",
    " \n",
    "   def listar_sintomas(self):\n",
    "       sintomas = []\n",
    "       if self.febre == 1:\n",
    "           sintomas.append('Febre')\n",
    "       if self.asma == 1:\n",
    "           sintomas.append('Asma')\n",
    "       if self.dispineia == 1:\n",
    "           sintomas.append('Dispneia')\n",
    "       self.sintomas = [s for s in sintomas]\n",
    " \n",
    "   def grau_severidade(self, grau : int):\n",
    "       self.grauSeveridade = grau\n",
    "       self.severidade_quadro()\n",
    "  \n",
    "   def severidade_quadro(self):\n",
    "       if self.grauSeveridade == 0:\n",
    "           self.severidade = \"Leve\"\n",
    "       elif self.grauSeveridade == 1:\n",
    "           self.severidade = \"Média\"\n",
    "       else:\n",
    "           self.severidade = \"Alta\"\n",
    " \n",
    "# representação do um paciente \"p\" em Python\n",
    "p = Paciente()\n",
    " \n",
    "# aplicação das funções sobre o um paciente \"p\"\n",
    "p.id = 1\n",
    "p.iniciar_triagem() # iniciando o processo de triagem\n",
    "p.febril() # atribuindo febre como um sintoma do paciente\n",
    "p.tem_dispineia() # atribuindo dispneia como um sintoma do paciente\n",
    "p.finalizar_triagem() # finalizando o processo de triagem\n",
    "p.grau_severidade(1) # definindo grau de severidade\n",
    " \n",
    "# visualizando dados\n",
    "info = \"Identificador = {n}\\nSintomas = {ls}\\nSeveridade = {s}\"\n",
    "print (info.format(n = p.id, ls = p.sintomas, s = p.severidade))"
   ]
  },
  {
   "cell_type": "markdown",
   "metadata": {},
   "source": [
    "#### Implementação para Múltiplos Pacientes - <i>Função</i>\n",
    "\n",
    "Solução REQ#04"
   ]
  },
  {
   "cell_type": "markdown",
   "metadata": {},
   "source": [
    "Tal processo de atribuição de dados utilizado para o paciente <b>1</b> será estendido para os demais pacientes que tiverem seus dados coletados. Para armazenar tais informações, definimos no mundo lógico a <b>função</b> $InformacõesPaciente$, que mapeia em cada código identificador de paciente (variável $id$) uma sequência de suas respectivas informações.\n",
    "\n",
    "$$Informacões \\triangleq \\:< febre, asma, dispneia, severidade, grauSeveridade >\\\\\n",
    "InformacõesPaciente \\triangleq \\{Informacões ↦ id \\}$$\n",
    "<br>\n",
    "\n",
    "Dadas as variáveis-paciente $p1$ e $p2$, representando, respectivamente, o paciente 1 e um paciente 2, essa seria  aplicação:\n",
    "\n",
    "$$ id(p1) = 1\\\\\n",
    " Informacões(p1) =\\:<1, 0, 1 ,”Média”, 1>$$\n",
    "\n",
    "$$id(p2) = 2\\\\\n",
    "Informacões(p2) =\\: <1, 0, 0 ,”Leve”, 0>$$\n",
    "\n",
    "$$InformacõesPaciente(p1, p2) = \\{Informacões(p1) ↦ id(p1), Informacões(p2) ↦ id(p2)\\}\n",
    "$$\n",
    "\n",
    "<br>\n",
    "Representação diagramática:\n",
    "<br>\n",
    "<img src=\"./imagens/5.jpeg\">\n",
    "\n",
    "No mundo python:"
   ]
  },
  {
   "cell_type": "code",
   "execution_count": 17,
   "metadata": {},
   "outputs": [
    {
     "name": "stdout",
     "output_type": "stream",
     "text": [
      "Identificador Paciente = 1\n",
      "Sintomas = ['Febre', 'Dispneia']\n",
      "Severidade = Média\n",
      "\n",
      "Identificador Paciente = 2\n",
      "Sintomas = ['Febre']\n",
      "Severidade = Leve\n",
      "\n"
     ]
    }
   ],
   "source": [
    "# Solução REQ#05\n",
    "\n",
    "# definimos paciente como um dicionário para que possamos armazenar nele os dados dos diferentes pacientes\n",
    "paciente = {}\n",
    " \n",
    "# aplicação das funções sobre o um paciente \"1\"\n",
    "paciente['1'] = Paciente()\n",
    "paciente['1'].id = 1\n",
    "paciente['1'].iniciar_triagem()\n",
    "paciente['1'].febril()\n",
    "paciente['1'].tem_dispineia()\n",
    "paciente['1'].finalizar_triagem()\n",
    "paciente['1'].grau_severidade(1)\n",
    " \n",
    "# aplicação das funções sobre o um paciente \"2\"\n",
    "paciente['2'] = Paciente()\n",
    "paciente['2'].id = 2\n",
    "paciente['2'].iniciar_triagem()\n",
    "paciente['2'].febril()\n",
    "paciente['2'].finalizar_triagem()\n",
    "paciente['2'].grau_severidade(0)\n",
    " \n",
    "for p in paciente:\n",
    "   # visualizando lista de sintomas\n",
    "   info = \"Identificador Paciente = {n}\\nSintomas = {ls}\\nSeveridade = {s}\\n\"\n",
    "   print (info.format(n = paciente[p].id, ls = paciente[p].sintomas, s = paciente[p].severidade))"
   ]
  },
  {
   "cell_type": "markdown",
   "metadata": {},
   "source": [
    "<a id=\"ancora6\"></a>\n",
    "## <b> 6. Machine Learning</b> "
   ]
  },
  {
   "cell_type": "markdown",
   "metadata": {},
   "source": [
    "### Importando bibliotecas gerais"
   ]
  },
  {
   "cell_type": "code",
   "execution_count": 18,
   "metadata": {},
   "outputs": [],
   "source": [
    "import pandas as pd\n",
    "import numpy as np\n",
    "import matplotlib.pyplot as plt\n",
    "import pickle\n",
    "%matplotlib inline\n",
    "import seaborn as sns\n",
    "import scipy.stats as stats \n",
    "from sklearn.datasets import make_regression\n",
    "from sklearn.model_selection import train_test_split, cross_val_score\n",
    "from sklearn import tree, metrics, svm\n",
    "from sklearn.linear_model import LogisticRegression, LinearRegression\n",
    "from sklearn.neighbors import KNeighborsClassifier\n",
    "from sklearn.naive_bayes import GaussianNB\n",
    "from sklearn.preprocessing import LabelEncoder, MinMaxScaler\n",
    "from sklearn.metrics import classification_report, f1_score, roc_auc_score, accuracy_score, confusion_matrix, roc_curve, r2_score\n",
    "import warnings\n",
    "warnings.simplefilter(action='ignore')"
   ]
  },
  {
   "cell_type": "markdown",
   "metadata": {},
   "source": [
    "### K-Nearest Neighbors\n",
    "\n",
    "O KNN ou Vizinhos mais próximos, é um algoritmo de aprendizagem supervisionada que pode ser utilizado tanto para regressão quanto para classificação. Ele funciona observando-se a classe dos vizinhos mais próximos, em uma votação onde a maioria vence, ou seja, a classe do vizinho que tiver a menor distância do ponto que queremos prever classificará o mesmo.\n",
    "\n",
    "Aplicaremos o modelo em nosso dataset de Covid-19 afim de classificar se uma pessoa com determinados sintomas tem a doença (1 = detectado) ou não (0 = não detectado). Os resultados destes sintomas provém dos exames feitos na triagem de suspeita de Covid, e quando prontos seriam enviados para nós que com o modelo treinado poderíamos classificar a presença da doença."
   ]
  },
  {
   "cell_type": "markdown",
   "metadata": {},
   "source": [
    "#### Importando os dados"
   ]
  },
  {
   "cell_type": "code",
   "execution_count": 19,
   "metadata": {},
   "outputs": [
    {
     "data": {
      "text/html": [
       "<div>\n",
       "<style scoped>\n",
       "    .dataframe tbody tr th:only-of-type {\n",
       "        vertical-align: middle;\n",
       "    }\n",
       "\n",
       "    .dataframe tbody tr th {\n",
       "        vertical-align: top;\n",
       "    }\n",
       "\n",
       "    .dataframe thead th {\n",
       "        text-align: right;\n",
       "    }\n",
       "</style>\n",
       "<table border=\"1\" class=\"dataframe\">\n",
       "  <thead>\n",
       "    <tr style=\"text-align: right;\">\n",
       "      <th></th>\n",
       "      <th>Breathing Problem</th>\n",
       "      <th>Fever</th>\n",
       "      <th>Dry Cough</th>\n",
       "      <th>Sore throat</th>\n",
       "      <th>Running Nose</th>\n",
       "      <th>Asthma</th>\n",
       "      <th>Chronic Lung Disease</th>\n",
       "      <th>Headache</th>\n",
       "      <th>Heart Disease</th>\n",
       "      <th>Diabetes</th>\n",
       "      <th>Hyper Tension</th>\n",
       "      <th>Fatigue</th>\n",
       "      <th>Gastrointestinal</th>\n",
       "      <th>Abroad travel</th>\n",
       "      <th>Contact with COVID Patient</th>\n",
       "      <th>Attended Large Gathering</th>\n",
       "      <th>Visited Public Exposed Places</th>\n",
       "      <th>Family working in Public Exposed Places</th>\n",
       "      <th>Wearing Masks</th>\n",
       "      <th>Sanitization from Market</th>\n",
       "      <th>COVID-19</th>\n",
       "    </tr>\n",
       "  </thead>\n",
       "  <tbody>\n",
       "    <tr>\n",
       "      <th>0</th>\n",
       "      <td>Yes</td>\n",
       "      <td>Yes</td>\n",
       "      <td>Yes</td>\n",
       "      <td>Yes</td>\n",
       "      <td>Yes</td>\n",
       "      <td>No</td>\n",
       "      <td>No</td>\n",
       "      <td>No</td>\n",
       "      <td>No</td>\n",
       "      <td>Yes</td>\n",
       "      <td>Yes</td>\n",
       "      <td>Yes</td>\n",
       "      <td>Yes</td>\n",
       "      <td>No</td>\n",
       "      <td>Yes</td>\n",
       "      <td>No</td>\n",
       "      <td>Yes</td>\n",
       "      <td>Yes</td>\n",
       "      <td>No</td>\n",
       "      <td>No</td>\n",
       "      <td>Yes</td>\n",
       "    </tr>\n",
       "    <tr>\n",
       "      <th>1</th>\n",
       "      <td>Yes</td>\n",
       "      <td>Yes</td>\n",
       "      <td>Yes</td>\n",
       "      <td>Yes</td>\n",
       "      <td>No</td>\n",
       "      <td>Yes</td>\n",
       "      <td>Yes</td>\n",
       "      <td>Yes</td>\n",
       "      <td>No</td>\n",
       "      <td>No</td>\n",
       "      <td>No</td>\n",
       "      <td>Yes</td>\n",
       "      <td>No</td>\n",
       "      <td>No</td>\n",
       "      <td>No</td>\n",
       "      <td>Yes</td>\n",
       "      <td>Yes</td>\n",
       "      <td>No</td>\n",
       "      <td>No</td>\n",
       "      <td>No</td>\n",
       "      <td>Yes</td>\n",
       "    </tr>\n",
       "    <tr>\n",
       "      <th>2</th>\n",
       "      <td>Yes</td>\n",
       "      <td>Yes</td>\n",
       "      <td>Yes</td>\n",
       "      <td>Yes</td>\n",
       "      <td>Yes</td>\n",
       "      <td>Yes</td>\n",
       "      <td>Yes</td>\n",
       "      <td>Yes</td>\n",
       "      <td>No</td>\n",
       "      <td>Yes</td>\n",
       "      <td>No</td>\n",
       "      <td>Yes</td>\n",
       "      <td>Yes</td>\n",
       "      <td>Yes</td>\n",
       "      <td>No</td>\n",
       "      <td>No</td>\n",
       "      <td>No</td>\n",
       "      <td>No</td>\n",
       "      <td>No</td>\n",
       "      <td>No</td>\n",
       "      <td>Yes</td>\n",
       "    </tr>\n",
       "    <tr>\n",
       "      <th>3</th>\n",
       "      <td>Yes</td>\n",
       "      <td>Yes</td>\n",
       "      <td>Yes</td>\n",
       "      <td>No</td>\n",
       "      <td>No</td>\n",
       "      <td>Yes</td>\n",
       "      <td>No</td>\n",
       "      <td>No</td>\n",
       "      <td>Yes</td>\n",
       "      <td>Yes</td>\n",
       "      <td>No</td>\n",
       "      <td>No</td>\n",
       "      <td>No</td>\n",
       "      <td>Yes</td>\n",
       "      <td>No</td>\n",
       "      <td>Yes</td>\n",
       "      <td>Yes</td>\n",
       "      <td>No</td>\n",
       "      <td>No</td>\n",
       "      <td>No</td>\n",
       "      <td>Yes</td>\n",
       "    </tr>\n",
       "    <tr>\n",
       "      <th>4</th>\n",
       "      <td>Yes</td>\n",
       "      <td>Yes</td>\n",
       "      <td>Yes</td>\n",
       "      <td>Yes</td>\n",
       "      <td>Yes</td>\n",
       "      <td>No</td>\n",
       "      <td>Yes</td>\n",
       "      <td>Yes</td>\n",
       "      <td>Yes</td>\n",
       "      <td>Yes</td>\n",
       "      <td>Yes</td>\n",
       "      <td>No</td>\n",
       "      <td>Yes</td>\n",
       "      <td>No</td>\n",
       "      <td>Yes</td>\n",
       "      <td>No</td>\n",
       "      <td>Yes</td>\n",
       "      <td>No</td>\n",
       "      <td>No</td>\n",
       "      <td>No</td>\n",
       "      <td>Yes</td>\n",
       "    </tr>\n",
       "    <tr>\n",
       "      <th>...</th>\n",
       "      <td>...</td>\n",
       "      <td>...</td>\n",
       "      <td>...</td>\n",
       "      <td>...</td>\n",
       "      <td>...</td>\n",
       "      <td>...</td>\n",
       "      <td>...</td>\n",
       "      <td>...</td>\n",
       "      <td>...</td>\n",
       "      <td>...</td>\n",
       "      <td>...</td>\n",
       "      <td>...</td>\n",
       "      <td>...</td>\n",
       "      <td>...</td>\n",
       "      <td>...</td>\n",
       "      <td>...</td>\n",
       "      <td>...</td>\n",
       "      <td>...</td>\n",
       "      <td>...</td>\n",
       "      <td>...</td>\n",
       "      <td>...</td>\n",
       "    </tr>\n",
       "    <tr>\n",
       "      <th>5429</th>\n",
       "      <td>Yes</td>\n",
       "      <td>Yes</td>\n",
       "      <td>No</td>\n",
       "      <td>Yes</td>\n",
       "      <td>Yes</td>\n",
       "      <td>Yes</td>\n",
       "      <td>Yes</td>\n",
       "      <td>No</td>\n",
       "      <td>No</td>\n",
       "      <td>No</td>\n",
       "      <td>No</td>\n",
       "      <td>Yes</td>\n",
       "      <td>Yes</td>\n",
       "      <td>No</td>\n",
       "      <td>No</td>\n",
       "      <td>No</td>\n",
       "      <td>No</td>\n",
       "      <td>No</td>\n",
       "      <td>No</td>\n",
       "      <td>No</td>\n",
       "      <td>Yes</td>\n",
       "    </tr>\n",
       "    <tr>\n",
       "      <th>5430</th>\n",
       "      <td>Yes</td>\n",
       "      <td>Yes</td>\n",
       "      <td>Yes</td>\n",
       "      <td>No</td>\n",
       "      <td>Yes</td>\n",
       "      <td>Yes</td>\n",
       "      <td>No</td>\n",
       "      <td>Yes</td>\n",
       "      <td>No</td>\n",
       "      <td>Yes</td>\n",
       "      <td>Yes</td>\n",
       "      <td>Yes</td>\n",
       "      <td>No</td>\n",
       "      <td>No</td>\n",
       "      <td>No</td>\n",
       "      <td>No</td>\n",
       "      <td>No</td>\n",
       "      <td>No</td>\n",
       "      <td>No</td>\n",
       "      <td>No</td>\n",
       "      <td>Yes</td>\n",
       "    </tr>\n",
       "    <tr>\n",
       "      <th>5431</th>\n",
       "      <td>Yes</td>\n",
       "      <td>Yes</td>\n",
       "      <td>Yes</td>\n",
       "      <td>No</td>\n",
       "      <td>No</td>\n",
       "      <td>No</td>\n",
       "      <td>No</td>\n",
       "      <td>No</td>\n",
       "      <td>Yes</td>\n",
       "      <td>No</td>\n",
       "      <td>Yes</td>\n",
       "      <td>No</td>\n",
       "      <td>No</td>\n",
       "      <td>No</td>\n",
       "      <td>No</td>\n",
       "      <td>No</td>\n",
       "      <td>No</td>\n",
       "      <td>No</td>\n",
       "      <td>No</td>\n",
       "      <td>No</td>\n",
       "      <td>No</td>\n",
       "    </tr>\n",
       "    <tr>\n",
       "      <th>5432</th>\n",
       "      <td>Yes</td>\n",
       "      <td>Yes</td>\n",
       "      <td>Yes</td>\n",
       "      <td>No</td>\n",
       "      <td>Yes</td>\n",
       "      <td>No</td>\n",
       "      <td>No</td>\n",
       "      <td>Yes</td>\n",
       "      <td>Yes</td>\n",
       "      <td>No</td>\n",
       "      <td>No</td>\n",
       "      <td>No</td>\n",
       "      <td>No</td>\n",
       "      <td>No</td>\n",
       "      <td>No</td>\n",
       "      <td>No</td>\n",
       "      <td>No</td>\n",
       "      <td>No</td>\n",
       "      <td>No</td>\n",
       "      <td>No</td>\n",
       "      <td>No</td>\n",
       "    </tr>\n",
       "    <tr>\n",
       "      <th>5433</th>\n",
       "      <td>Yes</td>\n",
       "      <td>Yes</td>\n",
       "      <td>Yes</td>\n",
       "      <td>No</td>\n",
       "      <td>Yes</td>\n",
       "      <td>Yes</td>\n",
       "      <td>No</td>\n",
       "      <td>Yes</td>\n",
       "      <td>No</td>\n",
       "      <td>Yes</td>\n",
       "      <td>Yes</td>\n",
       "      <td>Yes</td>\n",
       "      <td>No</td>\n",
       "      <td>No</td>\n",
       "      <td>No</td>\n",
       "      <td>No</td>\n",
       "      <td>No</td>\n",
       "      <td>No</td>\n",
       "      <td>No</td>\n",
       "      <td>No</td>\n",
       "      <td>No</td>\n",
       "    </tr>\n",
       "  </tbody>\n",
       "</table>\n",
       "<p>5434 rows × 21 columns</p>\n",
       "</div>"
      ],
      "text/plain": [
       "     Breathing Problem Fever Dry Cough Sore throat Running Nose Asthma  \\\n",
       "0                  Yes   Yes       Yes         Yes          Yes     No   \n",
       "1                  Yes   Yes       Yes         Yes           No    Yes   \n",
       "2                  Yes   Yes       Yes         Yes          Yes    Yes   \n",
       "3                  Yes   Yes       Yes          No           No    Yes   \n",
       "4                  Yes   Yes       Yes         Yes          Yes     No   \n",
       "...                ...   ...       ...         ...          ...    ...   \n",
       "5429               Yes   Yes        No         Yes          Yes    Yes   \n",
       "5430               Yes   Yes       Yes          No          Yes    Yes   \n",
       "5431               Yes   Yes       Yes          No           No     No   \n",
       "5432               Yes   Yes       Yes          No          Yes     No   \n",
       "5433               Yes   Yes       Yes          No          Yes    Yes   \n",
       "\n",
       "     Chronic Lung Disease Headache Heart Disease Diabetes Hyper Tension  \\\n",
       "0                      No       No            No      Yes           Yes   \n",
       "1                     Yes      Yes            No       No            No   \n",
       "2                     Yes      Yes            No      Yes            No   \n",
       "3                      No       No           Yes      Yes            No   \n",
       "4                     Yes      Yes           Yes      Yes           Yes   \n",
       "...                   ...      ...           ...      ...           ...   \n",
       "5429                  Yes       No            No       No            No   \n",
       "5430                   No      Yes            No      Yes           Yes   \n",
       "5431                   No       No           Yes       No           Yes   \n",
       "5432                   No      Yes           Yes       No            No   \n",
       "5433                   No      Yes            No      Yes           Yes   \n",
       "\n",
       "     Fatigue  Gastrointestinal  Abroad travel Contact with COVID Patient  \\\n",
       "0         Yes               Yes            No                        Yes   \n",
       "1         Yes                No            No                         No   \n",
       "2         Yes               Yes           Yes                         No   \n",
       "3          No                No           Yes                         No   \n",
       "4          No               Yes            No                        Yes   \n",
       "...       ...               ...           ...                        ...   \n",
       "5429      Yes               Yes            No                         No   \n",
       "5430      Yes                No            No                         No   \n",
       "5431       No                No            No                         No   \n",
       "5432       No                No            No                         No   \n",
       "5433      Yes                No            No                         No   \n",
       "\n",
       "     Attended Large Gathering Visited Public Exposed Places  \\\n",
       "0                          No                           Yes   \n",
       "1                         Yes                           Yes   \n",
       "2                          No                            No   \n",
       "3                         Yes                           Yes   \n",
       "4                          No                           Yes   \n",
       "...                       ...                           ...   \n",
       "5429                       No                            No   \n",
       "5430                       No                            No   \n",
       "5431                       No                            No   \n",
       "5432                       No                            No   \n",
       "5433                       No                            No   \n",
       "\n",
       "     Family working in Public Exposed Places Wearing Masks  \\\n",
       "0                                        Yes            No   \n",
       "1                                         No            No   \n",
       "2                                         No            No   \n",
       "3                                         No            No   \n",
       "4                                         No            No   \n",
       "...                                      ...           ...   \n",
       "5429                                      No            No   \n",
       "5430                                      No            No   \n",
       "5431                                      No            No   \n",
       "5432                                      No            No   \n",
       "5433                                      No            No   \n",
       "\n",
       "     Sanitization from Market COVID-19  \n",
       "0                          No      Yes  \n",
       "1                          No      Yes  \n",
       "2                          No      Yes  \n",
       "3                          No      Yes  \n",
       "4                          No      Yes  \n",
       "...                       ...      ...  \n",
       "5429                       No      Yes  \n",
       "5430                       No      Yes  \n",
       "5431                       No       No  \n",
       "5432                       No       No  \n",
       "5433                       No       No  \n",
       "\n",
       "[5434 rows x 21 columns]"
      ]
     },
     "execution_count": 19,
     "metadata": {},
     "output_type": "execute_result"
    }
   ],
   "source": [
    "# Importando o CSV\n",
    "covid = pd.read_csv('Covid_Dataset.csv',sep=',')\n",
    "pd.set_option('display.max_columns', None)\n",
    "covid"
   ]
  },
  {
   "cell_type": "markdown",
   "metadata": {},
   "source": [
    "##### Fazendo as transformações necessárias para os dados"
   ]
  },
  {
   "cell_type": "code",
   "execution_count": 20,
   "metadata": {},
   "outputs": [],
   "source": [
    "# Criando variável para transformação binária\n",
    "binario=LabelEncoder()"
   ]
  },
  {
   "cell_type": "code",
   "execution_count": 21,
   "metadata": {},
   "outputs": [],
   "source": [
    "# Aplicação do método de codificação binária\n",
    "covid['Breathing Problem']=binario.fit_transform(covid['Breathing Problem'])\n",
    "covid['Fever']=binario.fit_transform(covid['Fever'])\n",
    "covid['Dry Cough']=binario.fit_transform(covid['Dry Cough'])\n",
    "covid['Sore throat']=binario.fit_transform(covid['Sore throat'])\n",
    "covid['Running Nose']=binario.fit_transform(covid['Running Nose'])\n",
    "covid['Asthma']=binario.fit_transform(covid['Asthma'])\n",
    "covid['Chronic Lung Disease']=binario.fit_transform(covid['Chronic Lung Disease'])\n",
    "covid['Headache']=binario.fit_transform(covid['Headache'])\n",
    "covid['Heart Disease']=binario.fit_transform(covid['Heart Disease'])\n",
    "covid['Diabetes']=binario.fit_transform(covid['Diabetes'])\n",
    "covid['Hyper Tension']=binario.fit_transform(covid['Hyper Tension'])\n",
    "covid['Abroad travel']=binario.fit_transform(covid['Abroad travel'])\n",
    "covid['Contact with COVID Patient']=binario.fit_transform(covid['Contact with COVID Patient'])\n",
    "covid['Attended Large Gathering']=binario.fit_transform(covid['Attended Large Gathering'])\n",
    "covid['Visited Public Exposed Places']=binario.fit_transform(covid['Visited Public Exposed Places'])\n",
    "covid['Family working in Public Exposed Places']=binario.fit_transform(covid['Family working in Public Exposed Places'])\n",
    "covid['Wearing Masks']=binario.fit_transform(covid['Wearing Masks'])\n",
    "covid['Sanitization from Market']=binario.fit_transform(covid['Sanitization from Market'])\n",
    "covid['COVID-19']=binario.fit_transform(covid['COVID-19'])\n",
    "covid['Dry Cough']=binario.fit_transform(covid['Dry Cough'])\n",
    "covid['Sore throat']=binario.fit_transform(covid['Sore throat'])\n",
    "covid['Gastrointestinal ']=binario.fit_transform(covid['Gastrointestinal '])\n",
    "covid['Fatigue ']=binario.fit_transform(covid['Fatigue '])"
   ]
  },
  {
   "cell_type": "code",
   "execution_count": 22,
   "metadata": {},
   "outputs": [
    {
     "data": {
      "text/html": [
       "<div>\n",
       "<style scoped>\n",
       "    .dataframe tbody tr th:only-of-type {\n",
       "        vertical-align: middle;\n",
       "    }\n",
       "\n",
       "    .dataframe tbody tr th {\n",
       "        vertical-align: top;\n",
       "    }\n",
       "\n",
       "    .dataframe thead th {\n",
       "        text-align: right;\n",
       "    }\n",
       "</style>\n",
       "<table border=\"1\" class=\"dataframe\">\n",
       "  <thead>\n",
       "    <tr style=\"text-align: right;\">\n",
       "      <th></th>\n",
       "      <th>Breathing Problem</th>\n",
       "      <th>Fever</th>\n",
       "      <th>Dry Cough</th>\n",
       "      <th>Sore throat</th>\n",
       "      <th>Running Nose</th>\n",
       "      <th>Asthma</th>\n",
       "      <th>Chronic Lung Disease</th>\n",
       "      <th>Headache</th>\n",
       "      <th>Heart Disease</th>\n",
       "      <th>Diabetes</th>\n",
       "      <th>Hyper Tension</th>\n",
       "      <th>Fatigue</th>\n",
       "      <th>Gastrointestinal</th>\n",
       "      <th>Abroad travel</th>\n",
       "      <th>Contact with COVID Patient</th>\n",
       "      <th>Attended Large Gathering</th>\n",
       "      <th>Visited Public Exposed Places</th>\n",
       "      <th>Family working in Public Exposed Places</th>\n",
       "      <th>Wearing Masks</th>\n",
       "      <th>Sanitization from Market</th>\n",
       "      <th>COVID-19</th>\n",
       "    </tr>\n",
       "  </thead>\n",
       "  <tbody>\n",
       "    <tr>\n",
       "      <th>Breathing Problem</th>\n",
       "      <td>1.000000</td>\n",
       "      <td>0.089903</td>\n",
       "      <td>0.159562</td>\n",
       "      <td>0.303768</td>\n",
       "      <td>0.055190</td>\n",
       "      <td>0.075318</td>\n",
       "      <td>-0.098291</td>\n",
       "      <td>-0.062172</td>\n",
       "      <td>-0.073366</td>\n",
       "      <td>0.055427</td>\n",
       "      <td>0.045256</td>\n",
       "      <td>0.000561</td>\n",
       "      <td>-0.075390</td>\n",
       "      <td>0.117795</td>\n",
       "      <td>0.214634</td>\n",
       "      <td>0.200304</td>\n",
       "      <td>0.066688</td>\n",
       "      <td>0.018295</td>\n",
       "      <td>NaN</td>\n",
       "      <td>NaN</td>\n",
       "      <td>0.443764</td>\n",
       "    </tr>\n",
       "    <tr>\n",
       "      <th>Fever</th>\n",
       "      <td>0.089903</td>\n",
       "      <td>1.000000</td>\n",
       "      <td>0.127580</td>\n",
       "      <td>0.322235</td>\n",
       "      <td>0.081758</td>\n",
       "      <td>0.073953</td>\n",
       "      <td>-0.025160</td>\n",
       "      <td>-0.035416</td>\n",
       "      <td>-0.031462</td>\n",
       "      <td>0.050286</td>\n",
       "      <td>0.079001</td>\n",
       "      <td>-0.060458</td>\n",
       "      <td>-0.008067</td>\n",
       "      <td>0.128726</td>\n",
       "      <td>0.164704</td>\n",
       "      <td>0.070490</td>\n",
       "      <td>0.002252</td>\n",
       "      <td>0.012102</td>\n",
       "      <td>NaN</td>\n",
       "      <td>NaN</td>\n",
       "      <td>0.352891</td>\n",
       "    </tr>\n",
       "    <tr>\n",
       "      <th>Dry Cough</th>\n",
       "      <td>0.159562</td>\n",
       "      <td>0.127580</td>\n",
       "      <td>1.000000</td>\n",
       "      <td>0.213907</td>\n",
       "      <td>-0.030763</td>\n",
       "      <td>0.086843</td>\n",
       "      <td>-0.043664</td>\n",
       "      <td>-0.035912</td>\n",
       "      <td>0.047566</td>\n",
       "      <td>-0.006593</td>\n",
       "      <td>0.081989</td>\n",
       "      <td>-0.039909</td>\n",
       "      <td>0.008251</td>\n",
       "      <td>0.331418</td>\n",
       "      <td>0.128330</td>\n",
       "      <td>0.117963</td>\n",
       "      <td>0.086176</td>\n",
       "      <td>0.163102</td>\n",
       "      <td>NaN</td>\n",
       "      <td>NaN</td>\n",
       "      <td>0.464292</td>\n",
       "    </tr>\n",
       "    <tr>\n",
       "      <th>Sore throat</th>\n",
       "      <td>0.303768</td>\n",
       "      <td>0.322235</td>\n",
       "      <td>0.213907</td>\n",
       "      <td>1.000000</td>\n",
       "      <td>0.039450</td>\n",
       "      <td>0.081377</td>\n",
       "      <td>-0.050440</td>\n",
       "      <td>-0.015971</td>\n",
       "      <td>0.002177</td>\n",
       "      <td>0.001938</td>\n",
       "      <td>0.042811</td>\n",
       "      <td>-0.023290</td>\n",
       "      <td>0.025886</td>\n",
       "      <td>0.205986</td>\n",
       "      <td>0.189251</td>\n",
       "      <td>0.216438</td>\n",
       "      <td>0.079055</td>\n",
       "      <td>0.104378</td>\n",
       "      <td>NaN</td>\n",
       "      <td>NaN</td>\n",
       "      <td>0.502848</td>\n",
       "    </tr>\n",
       "    <tr>\n",
       "      <th>Running Nose</th>\n",
       "      <td>0.055190</td>\n",
       "      <td>0.081758</td>\n",
       "      <td>-0.030763</td>\n",
       "      <td>0.039450</td>\n",
       "      <td>1.000000</td>\n",
       "      <td>-0.022763</td>\n",
       "      <td>-0.014376</td>\n",
       "      <td>0.068479</td>\n",
       "      <td>-0.056750</td>\n",
       "      <td>0.042961</td>\n",
       "      <td>-0.020445</td>\n",
       "      <td>0.007026</td>\n",
       "      <td>-0.014673</td>\n",
       "      <td>0.034526</td>\n",
       "      <td>0.003776</td>\n",
       "      <td>0.061099</td>\n",
       "      <td>0.032568</td>\n",
       "      <td>-0.061323</td>\n",
       "      <td>NaN</td>\n",
       "      <td>NaN</td>\n",
       "      <td>-0.005657</td>\n",
       "    </tr>\n",
       "    <tr>\n",
       "      <th>Asthma</th>\n",
       "      <td>0.075318</td>\n",
       "      <td>0.073953</td>\n",
       "      <td>0.086843</td>\n",
       "      <td>0.081377</td>\n",
       "      <td>-0.022763</td>\n",
       "      <td>1.000000</td>\n",
       "      <td>-0.033771</td>\n",
       "      <td>0.037064</td>\n",
       "      <td>0.076783</td>\n",
       "      <td>-0.012060</td>\n",
       "      <td>0.017707</td>\n",
       "      <td>0.006564</td>\n",
       "      <td>0.101909</td>\n",
       "      <td>0.068286</td>\n",
       "      <td>0.005046</td>\n",
       "      <td>-0.044592</td>\n",
       "      <td>0.020941</td>\n",
       "      <td>-0.115679</td>\n",
       "      <td>NaN</td>\n",
       "      <td>NaN</td>\n",
       "      <td>0.089930</td>\n",
       "    </tr>\n",
       "    <tr>\n",
       "      <th>Chronic Lung Disease</th>\n",
       "      <td>-0.098291</td>\n",
       "      <td>-0.025160</td>\n",
       "      <td>-0.043664</td>\n",
       "      <td>-0.050440</td>\n",
       "      <td>-0.014376</td>\n",
       "      <td>-0.033771</td>\n",
       "      <td>1.000000</td>\n",
       "      <td>-0.050480</td>\n",
       "      <td>-0.039860</td>\n",
       "      <td>0.046789</td>\n",
       "      <td>-0.010331</td>\n",
       "      <td>-0.047655</td>\n",
       "      <td>-0.050333</td>\n",
       "      <td>-0.088854</td>\n",
       "      <td>-0.062482</td>\n",
       "      <td>-0.020548</td>\n",
       "      <td>-0.093049</td>\n",
       "      <td>0.038343</td>\n",
       "      <td>NaN</td>\n",
       "      <td>NaN</td>\n",
       "      <td>-0.056837</td>\n",
       "    </tr>\n",
       "    <tr>\n",
       "      <th>Headache</th>\n",
       "      <td>-0.062172</td>\n",
       "      <td>-0.035416</td>\n",
       "      <td>-0.035912</td>\n",
       "      <td>-0.015971</td>\n",
       "      <td>0.068479</td>\n",
       "      <td>0.037064</td>\n",
       "      <td>-0.050480</td>\n",
       "      <td>1.000000</td>\n",
       "      <td>0.048471</td>\n",
       "      <td>0.032390</td>\n",
       "      <td>-0.207489</td>\n",
       "      <td>0.052035</td>\n",
       "      <td>0.097778</td>\n",
       "      <td>0.043589</td>\n",
       "      <td>-0.082101</td>\n",
       "      <td>-0.162992</td>\n",
       "      <td>-0.005790</td>\n",
       "      <td>-0.012625</td>\n",
       "      <td>NaN</td>\n",
       "      <td>NaN</td>\n",
       "      <td>-0.027793</td>\n",
       "    </tr>\n",
       "    <tr>\n",
       "      <th>Heart Disease</th>\n",
       "      <td>-0.073366</td>\n",
       "      <td>-0.031462</td>\n",
       "      <td>0.047566</td>\n",
       "      <td>0.002177</td>\n",
       "      <td>-0.056750</td>\n",
       "      <td>0.076783</td>\n",
       "      <td>-0.039860</td>\n",
       "      <td>0.048471</td>\n",
       "      <td>1.000000</td>\n",
       "      <td>-0.032956</td>\n",
       "      <td>0.049139</td>\n",
       "      <td>-0.058925</td>\n",
       "      <td>0.004121</td>\n",
       "      <td>-0.020761</td>\n",
       "      <td>-0.025593</td>\n",
       "      <td>-0.045437</td>\n",
       "      <td>0.086169</td>\n",
       "      <td>0.035000</td>\n",
       "      <td>NaN</td>\n",
       "      <td>NaN</td>\n",
       "      <td>0.027072</td>\n",
       "    </tr>\n",
       "    <tr>\n",
       "      <th>Diabetes</th>\n",
       "      <td>0.055427</td>\n",
       "      <td>0.050286</td>\n",
       "      <td>-0.006593</td>\n",
       "      <td>0.001938</td>\n",
       "      <td>0.042961</td>\n",
       "      <td>-0.012060</td>\n",
       "      <td>0.046789</td>\n",
       "      <td>0.032390</td>\n",
       "      <td>-0.032956</td>\n",
       "      <td>1.000000</td>\n",
       "      <td>0.042543</td>\n",
       "      <td>-0.043903</td>\n",
       "      <td>0.040651</td>\n",
       "      <td>0.039013</td>\n",
       "      <td>-0.085696</td>\n",
       "      <td>-0.061650</td>\n",
       "      <td>-0.078212</td>\n",
       "      <td>0.097696</td>\n",
       "      <td>NaN</td>\n",
       "      <td>NaN</td>\n",
       "      <td>0.040627</td>\n",
       "    </tr>\n",
       "    <tr>\n",
       "      <th>Hyper Tension</th>\n",
       "      <td>0.045256</td>\n",
       "      <td>0.079001</td>\n",
       "      <td>0.081989</td>\n",
       "      <td>0.042811</td>\n",
       "      <td>-0.020445</td>\n",
       "      <td>0.017707</td>\n",
       "      <td>-0.010331</td>\n",
       "      <td>-0.207489</td>\n",
       "      <td>0.049139</td>\n",
       "      <td>0.042543</td>\n",
       "      <td>1.000000</td>\n",
       "      <td>-0.027605</td>\n",
       "      <td>-0.067972</td>\n",
       "      <td>-0.016382</td>\n",
       "      <td>0.027307</td>\n",
       "      <td>0.002911</td>\n",
       "      <td>0.019174</td>\n",
       "      <td>0.048152</td>\n",
       "      <td>NaN</td>\n",
       "      <td>NaN</td>\n",
       "      <td>0.102575</td>\n",
       "    </tr>\n",
       "    <tr>\n",
       "      <th>Fatigue</th>\n",
       "      <td>0.000561</td>\n",
       "      <td>-0.060458</td>\n",
       "      <td>-0.039909</td>\n",
       "      <td>-0.023290</td>\n",
       "      <td>0.007026</td>\n",
       "      <td>0.006564</td>\n",
       "      <td>-0.047655</td>\n",
       "      <td>0.052035</td>\n",
       "      <td>-0.058925</td>\n",
       "      <td>-0.043903</td>\n",
       "      <td>-0.027605</td>\n",
       "      <td>1.000000</td>\n",
       "      <td>0.009356</td>\n",
       "      <td>-0.068401</td>\n",
       "      <td>-0.027383</td>\n",
       "      <td>-0.031058</td>\n",
       "      <td>-0.009562</td>\n",
       "      <td>-0.025623</td>\n",
       "      <td>NaN</td>\n",
       "      <td>NaN</td>\n",
       "      <td>-0.044188</td>\n",
       "    </tr>\n",
       "    <tr>\n",
       "      <th>Gastrointestinal</th>\n",
       "      <td>-0.075390</td>\n",
       "      <td>-0.008067</td>\n",
       "      <td>0.008251</td>\n",
       "      <td>0.025886</td>\n",
       "      <td>-0.014673</td>\n",
       "      <td>0.101909</td>\n",
       "      <td>-0.050333</td>\n",
       "      <td>0.097778</td>\n",
       "      <td>0.004121</td>\n",
       "      <td>0.040651</td>\n",
       "      <td>-0.067972</td>\n",
       "      <td>0.009356</td>\n",
       "      <td>1.000000</td>\n",
       "      <td>0.099577</td>\n",
       "      <td>0.025277</td>\n",
       "      <td>-0.017251</td>\n",
       "      <td>-0.061885</td>\n",
       "      <td>-0.027603</td>\n",
       "      <td>NaN</td>\n",
       "      <td>NaN</td>\n",
       "      <td>-0.003367</td>\n",
       "    </tr>\n",
       "    <tr>\n",
       "      <th>Abroad travel</th>\n",
       "      <td>0.117795</td>\n",
       "      <td>0.128726</td>\n",
       "      <td>0.331418</td>\n",
       "      <td>0.205986</td>\n",
       "      <td>0.034526</td>\n",
       "      <td>0.068286</td>\n",
       "      <td>-0.088854</td>\n",
       "      <td>0.043589</td>\n",
       "      <td>-0.020761</td>\n",
       "      <td>0.039013</td>\n",
       "      <td>-0.016382</td>\n",
       "      <td>-0.068401</td>\n",
       "      <td>0.099577</td>\n",
       "      <td>1.000000</td>\n",
       "      <td>0.080210</td>\n",
       "      <td>0.113399</td>\n",
       "      <td>0.069609</td>\n",
       "      <td>0.143094</td>\n",
       "      <td>NaN</td>\n",
       "      <td>NaN</td>\n",
       "      <td>0.443875</td>\n",
       "    </tr>\n",
       "    <tr>\n",
       "      <th>Contact with COVID Patient</th>\n",
       "      <td>0.214634</td>\n",
       "      <td>0.164704</td>\n",
       "      <td>0.128330</td>\n",
       "      <td>0.189251</td>\n",
       "      <td>0.003776</td>\n",
       "      <td>0.005046</td>\n",
       "      <td>-0.062482</td>\n",
       "      <td>-0.082101</td>\n",
       "      <td>-0.025593</td>\n",
       "      <td>-0.085696</td>\n",
       "      <td>0.027307</td>\n",
       "      <td>-0.027383</td>\n",
       "      <td>0.025277</td>\n",
       "      <td>0.080210</td>\n",
       "      <td>1.000000</td>\n",
       "      <td>0.234649</td>\n",
       "      <td>0.079800</td>\n",
       "      <td>0.006909</td>\n",
       "      <td>NaN</td>\n",
       "      <td>NaN</td>\n",
       "      <td>0.357122</td>\n",
       "    </tr>\n",
       "    <tr>\n",
       "      <th>Attended Large Gathering</th>\n",
       "      <td>0.200304</td>\n",
       "      <td>0.070490</td>\n",
       "      <td>0.117963</td>\n",
       "      <td>0.216438</td>\n",
       "      <td>0.061099</td>\n",
       "      <td>-0.044592</td>\n",
       "      <td>-0.020548</td>\n",
       "      <td>-0.162992</td>\n",
       "      <td>-0.045437</td>\n",
       "      <td>-0.061650</td>\n",
       "      <td>0.002911</td>\n",
       "      <td>-0.031058</td>\n",
       "      <td>-0.017251</td>\n",
       "      <td>0.113399</td>\n",
       "      <td>0.234649</td>\n",
       "      <td>1.000000</td>\n",
       "      <td>0.083795</td>\n",
       "      <td>0.063776</td>\n",
       "      <td>NaN</td>\n",
       "      <td>NaN</td>\n",
       "      <td>0.390145</td>\n",
       "    </tr>\n",
       "    <tr>\n",
       "      <th>Visited Public Exposed Places</th>\n",
       "      <td>0.066688</td>\n",
       "      <td>0.002252</td>\n",
       "      <td>0.086176</td>\n",
       "      <td>0.079055</td>\n",
       "      <td>0.032568</td>\n",
       "      <td>0.020941</td>\n",
       "      <td>-0.093049</td>\n",
       "      <td>-0.005790</td>\n",
       "      <td>0.086169</td>\n",
       "      <td>-0.078212</td>\n",
       "      <td>0.019174</td>\n",
       "      <td>-0.009562</td>\n",
       "      <td>-0.061885</td>\n",
       "      <td>0.069609</td>\n",
       "      <td>0.079800</td>\n",
       "      <td>0.083795</td>\n",
       "      <td>1.000000</td>\n",
       "      <td>0.028486</td>\n",
       "      <td>NaN</td>\n",
       "      <td>NaN</td>\n",
       "      <td>0.119755</td>\n",
       "    </tr>\n",
       "    <tr>\n",
       "      <th>Family working in Public Exposed Places</th>\n",
       "      <td>0.018295</td>\n",
       "      <td>0.012102</td>\n",
       "      <td>0.163102</td>\n",
       "      <td>0.104378</td>\n",
       "      <td>-0.061323</td>\n",
       "      <td>-0.115679</td>\n",
       "      <td>0.038343</td>\n",
       "      <td>-0.012625</td>\n",
       "      <td>0.035000</td>\n",
       "      <td>0.097696</td>\n",
       "      <td>0.048152</td>\n",
       "      <td>-0.025623</td>\n",
       "      <td>-0.027603</td>\n",
       "      <td>0.143094</td>\n",
       "      <td>0.006909</td>\n",
       "      <td>0.063776</td>\n",
       "      <td>0.028486</td>\n",
       "      <td>1.000000</td>\n",
       "      <td>NaN</td>\n",
       "      <td>NaN</td>\n",
       "      <td>0.160208</td>\n",
       "    </tr>\n",
       "    <tr>\n",
       "      <th>Wearing Masks</th>\n",
       "      <td>NaN</td>\n",
       "      <td>NaN</td>\n",
       "      <td>NaN</td>\n",
       "      <td>NaN</td>\n",
       "      <td>NaN</td>\n",
       "      <td>NaN</td>\n",
       "      <td>NaN</td>\n",
       "      <td>NaN</td>\n",
       "      <td>NaN</td>\n",
       "      <td>NaN</td>\n",
       "      <td>NaN</td>\n",
       "      <td>NaN</td>\n",
       "      <td>NaN</td>\n",
       "      <td>NaN</td>\n",
       "      <td>NaN</td>\n",
       "      <td>NaN</td>\n",
       "      <td>NaN</td>\n",
       "      <td>NaN</td>\n",
       "      <td>NaN</td>\n",
       "      <td>NaN</td>\n",
       "      <td>NaN</td>\n",
       "    </tr>\n",
       "    <tr>\n",
       "      <th>Sanitization from Market</th>\n",
       "      <td>NaN</td>\n",
       "      <td>NaN</td>\n",
       "      <td>NaN</td>\n",
       "      <td>NaN</td>\n",
       "      <td>NaN</td>\n",
       "      <td>NaN</td>\n",
       "      <td>NaN</td>\n",
       "      <td>NaN</td>\n",
       "      <td>NaN</td>\n",
       "      <td>NaN</td>\n",
       "      <td>NaN</td>\n",
       "      <td>NaN</td>\n",
       "      <td>NaN</td>\n",
       "      <td>NaN</td>\n",
       "      <td>NaN</td>\n",
       "      <td>NaN</td>\n",
       "      <td>NaN</td>\n",
       "      <td>NaN</td>\n",
       "      <td>NaN</td>\n",
       "      <td>NaN</td>\n",
       "      <td>NaN</td>\n",
       "    </tr>\n",
       "    <tr>\n",
       "      <th>COVID-19</th>\n",
       "      <td>0.443764</td>\n",
       "      <td>0.352891</td>\n",
       "      <td>0.464292</td>\n",
       "      <td>0.502848</td>\n",
       "      <td>-0.005657</td>\n",
       "      <td>0.089930</td>\n",
       "      <td>-0.056837</td>\n",
       "      <td>-0.027793</td>\n",
       "      <td>0.027072</td>\n",
       "      <td>0.040627</td>\n",
       "      <td>0.102575</td>\n",
       "      <td>-0.044188</td>\n",
       "      <td>-0.003367</td>\n",
       "      <td>0.443875</td>\n",
       "      <td>0.357122</td>\n",
       "      <td>0.390145</td>\n",
       "      <td>0.119755</td>\n",
       "      <td>0.160208</td>\n",
       "      <td>NaN</td>\n",
       "      <td>NaN</td>\n",
       "      <td>1.000000</td>\n",
       "    </tr>\n",
       "  </tbody>\n",
       "</table>\n",
       "</div>"
      ],
      "text/plain": [
       "                                         Breathing Problem     Fever  \\\n",
       "Breathing Problem                                 1.000000  0.089903   \n",
       "Fever                                             0.089903  1.000000   \n",
       "Dry Cough                                         0.159562  0.127580   \n",
       "Sore throat                                       0.303768  0.322235   \n",
       "Running Nose                                      0.055190  0.081758   \n",
       "Asthma                                            0.075318  0.073953   \n",
       "Chronic Lung Disease                             -0.098291 -0.025160   \n",
       "Headache                                         -0.062172 -0.035416   \n",
       "Heart Disease                                    -0.073366 -0.031462   \n",
       "Diabetes                                          0.055427  0.050286   \n",
       "Hyper Tension                                     0.045256  0.079001   \n",
       "Fatigue                                           0.000561 -0.060458   \n",
       "Gastrointestinal                                 -0.075390 -0.008067   \n",
       "Abroad travel                                     0.117795  0.128726   \n",
       "Contact with COVID Patient                        0.214634  0.164704   \n",
       "Attended Large Gathering                          0.200304  0.070490   \n",
       "Visited Public Exposed Places                     0.066688  0.002252   \n",
       "Family working in Public Exposed Places           0.018295  0.012102   \n",
       "Wearing Masks                                          NaN       NaN   \n",
       "Sanitization from Market                               NaN       NaN   \n",
       "COVID-19                                          0.443764  0.352891   \n",
       "\n",
       "                                         Dry Cough  Sore throat  Running Nose  \\\n",
       "Breathing Problem                         0.159562     0.303768      0.055190   \n",
       "Fever                                     0.127580     0.322235      0.081758   \n",
       "Dry Cough                                 1.000000     0.213907     -0.030763   \n",
       "Sore throat                               0.213907     1.000000      0.039450   \n",
       "Running Nose                             -0.030763     0.039450      1.000000   \n",
       "Asthma                                    0.086843     0.081377     -0.022763   \n",
       "Chronic Lung Disease                     -0.043664    -0.050440     -0.014376   \n",
       "Headache                                 -0.035912    -0.015971      0.068479   \n",
       "Heart Disease                             0.047566     0.002177     -0.056750   \n",
       "Diabetes                                 -0.006593     0.001938      0.042961   \n",
       "Hyper Tension                             0.081989     0.042811     -0.020445   \n",
       "Fatigue                                  -0.039909    -0.023290      0.007026   \n",
       "Gastrointestinal                          0.008251     0.025886     -0.014673   \n",
       "Abroad travel                             0.331418     0.205986      0.034526   \n",
       "Contact with COVID Patient                0.128330     0.189251      0.003776   \n",
       "Attended Large Gathering                  0.117963     0.216438      0.061099   \n",
       "Visited Public Exposed Places             0.086176     0.079055      0.032568   \n",
       "Family working in Public Exposed Places   0.163102     0.104378     -0.061323   \n",
       "Wearing Masks                                  NaN          NaN           NaN   \n",
       "Sanitization from Market                       NaN          NaN           NaN   \n",
       "COVID-19                                  0.464292     0.502848     -0.005657   \n",
       "\n",
       "                                           Asthma  Chronic Lung Disease  \\\n",
       "Breathing Problem                        0.075318             -0.098291   \n",
       "Fever                                    0.073953             -0.025160   \n",
       "Dry Cough                                0.086843             -0.043664   \n",
       "Sore throat                              0.081377             -0.050440   \n",
       "Running Nose                            -0.022763             -0.014376   \n",
       "Asthma                                   1.000000             -0.033771   \n",
       "Chronic Lung Disease                    -0.033771              1.000000   \n",
       "Headache                                 0.037064             -0.050480   \n",
       "Heart Disease                            0.076783             -0.039860   \n",
       "Diabetes                                -0.012060              0.046789   \n",
       "Hyper Tension                            0.017707             -0.010331   \n",
       "Fatigue                                  0.006564             -0.047655   \n",
       "Gastrointestinal                         0.101909             -0.050333   \n",
       "Abroad travel                            0.068286             -0.088854   \n",
       "Contact with COVID Patient               0.005046             -0.062482   \n",
       "Attended Large Gathering                -0.044592             -0.020548   \n",
       "Visited Public Exposed Places            0.020941             -0.093049   \n",
       "Family working in Public Exposed Places -0.115679              0.038343   \n",
       "Wearing Masks                                 NaN                   NaN   \n",
       "Sanitization from Market                      NaN                   NaN   \n",
       "COVID-19                                 0.089930             -0.056837   \n",
       "\n",
       "                                         Headache  Heart Disease  Diabetes  \\\n",
       "Breathing Problem                       -0.062172      -0.073366  0.055427   \n",
       "Fever                                   -0.035416      -0.031462  0.050286   \n",
       "Dry Cough                               -0.035912       0.047566 -0.006593   \n",
       "Sore throat                             -0.015971       0.002177  0.001938   \n",
       "Running Nose                             0.068479      -0.056750  0.042961   \n",
       "Asthma                                   0.037064       0.076783 -0.012060   \n",
       "Chronic Lung Disease                    -0.050480      -0.039860  0.046789   \n",
       "Headache                                 1.000000       0.048471  0.032390   \n",
       "Heart Disease                            0.048471       1.000000 -0.032956   \n",
       "Diabetes                                 0.032390      -0.032956  1.000000   \n",
       "Hyper Tension                           -0.207489       0.049139  0.042543   \n",
       "Fatigue                                  0.052035      -0.058925 -0.043903   \n",
       "Gastrointestinal                         0.097778       0.004121  0.040651   \n",
       "Abroad travel                            0.043589      -0.020761  0.039013   \n",
       "Contact with COVID Patient              -0.082101      -0.025593 -0.085696   \n",
       "Attended Large Gathering                -0.162992      -0.045437 -0.061650   \n",
       "Visited Public Exposed Places           -0.005790       0.086169 -0.078212   \n",
       "Family working in Public Exposed Places -0.012625       0.035000  0.097696   \n",
       "Wearing Masks                                 NaN            NaN       NaN   \n",
       "Sanitization from Market                      NaN            NaN       NaN   \n",
       "COVID-19                                -0.027793       0.027072  0.040627   \n",
       "\n",
       "                                         Hyper Tension  Fatigue   \\\n",
       "Breathing Problem                             0.045256  0.000561   \n",
       "Fever                                         0.079001 -0.060458   \n",
       "Dry Cough                                     0.081989 -0.039909   \n",
       "Sore throat                                   0.042811 -0.023290   \n",
       "Running Nose                                 -0.020445  0.007026   \n",
       "Asthma                                        0.017707  0.006564   \n",
       "Chronic Lung Disease                         -0.010331 -0.047655   \n",
       "Headache                                     -0.207489  0.052035   \n",
       "Heart Disease                                 0.049139 -0.058925   \n",
       "Diabetes                                      0.042543 -0.043903   \n",
       "Hyper Tension                                 1.000000 -0.027605   \n",
       "Fatigue                                      -0.027605  1.000000   \n",
       "Gastrointestinal                             -0.067972  0.009356   \n",
       "Abroad travel                                -0.016382 -0.068401   \n",
       "Contact with COVID Patient                    0.027307 -0.027383   \n",
       "Attended Large Gathering                      0.002911 -0.031058   \n",
       "Visited Public Exposed Places                 0.019174 -0.009562   \n",
       "Family working in Public Exposed Places       0.048152 -0.025623   \n",
       "Wearing Masks                                      NaN       NaN   \n",
       "Sanitization from Market                           NaN       NaN   \n",
       "COVID-19                                      0.102575 -0.044188   \n",
       "\n",
       "                                         Gastrointestinal   Abroad travel  \\\n",
       "Breathing Problem                                -0.075390       0.117795   \n",
       "Fever                                            -0.008067       0.128726   \n",
       "Dry Cough                                         0.008251       0.331418   \n",
       "Sore throat                                       0.025886       0.205986   \n",
       "Running Nose                                     -0.014673       0.034526   \n",
       "Asthma                                            0.101909       0.068286   \n",
       "Chronic Lung Disease                             -0.050333      -0.088854   \n",
       "Headache                                          0.097778       0.043589   \n",
       "Heart Disease                                     0.004121      -0.020761   \n",
       "Diabetes                                          0.040651       0.039013   \n",
       "Hyper Tension                                    -0.067972      -0.016382   \n",
       "Fatigue                                           0.009356      -0.068401   \n",
       "Gastrointestinal                                  1.000000       0.099577   \n",
       "Abroad travel                                     0.099577       1.000000   \n",
       "Contact with COVID Patient                        0.025277       0.080210   \n",
       "Attended Large Gathering                         -0.017251       0.113399   \n",
       "Visited Public Exposed Places                    -0.061885       0.069609   \n",
       "Family working in Public Exposed Places          -0.027603       0.143094   \n",
       "Wearing Masks                                          NaN            NaN   \n",
       "Sanitization from Market                               NaN            NaN   \n",
       "COVID-19                                         -0.003367       0.443875   \n",
       "\n",
       "                                         Contact with COVID Patient  \\\n",
       "Breathing Problem                                          0.214634   \n",
       "Fever                                                      0.164704   \n",
       "Dry Cough                                                  0.128330   \n",
       "Sore throat                                                0.189251   \n",
       "Running Nose                                               0.003776   \n",
       "Asthma                                                     0.005046   \n",
       "Chronic Lung Disease                                      -0.062482   \n",
       "Headache                                                  -0.082101   \n",
       "Heart Disease                                             -0.025593   \n",
       "Diabetes                                                  -0.085696   \n",
       "Hyper Tension                                              0.027307   \n",
       "Fatigue                                                   -0.027383   \n",
       "Gastrointestinal                                           0.025277   \n",
       "Abroad travel                                              0.080210   \n",
       "Contact with COVID Patient                                 1.000000   \n",
       "Attended Large Gathering                                   0.234649   \n",
       "Visited Public Exposed Places                              0.079800   \n",
       "Family working in Public Exposed Places                    0.006909   \n",
       "Wearing Masks                                                   NaN   \n",
       "Sanitization from Market                                        NaN   \n",
       "COVID-19                                                   0.357122   \n",
       "\n",
       "                                         Attended Large Gathering  \\\n",
       "Breathing Problem                                        0.200304   \n",
       "Fever                                                    0.070490   \n",
       "Dry Cough                                                0.117963   \n",
       "Sore throat                                              0.216438   \n",
       "Running Nose                                             0.061099   \n",
       "Asthma                                                  -0.044592   \n",
       "Chronic Lung Disease                                    -0.020548   \n",
       "Headache                                                -0.162992   \n",
       "Heart Disease                                           -0.045437   \n",
       "Diabetes                                                -0.061650   \n",
       "Hyper Tension                                            0.002911   \n",
       "Fatigue                                                 -0.031058   \n",
       "Gastrointestinal                                        -0.017251   \n",
       "Abroad travel                                            0.113399   \n",
       "Contact with COVID Patient                               0.234649   \n",
       "Attended Large Gathering                                 1.000000   \n",
       "Visited Public Exposed Places                            0.083795   \n",
       "Family working in Public Exposed Places                  0.063776   \n",
       "Wearing Masks                                                 NaN   \n",
       "Sanitization from Market                                      NaN   \n",
       "COVID-19                                                 0.390145   \n",
       "\n",
       "                                         Visited Public Exposed Places  \\\n",
       "Breathing Problem                                             0.066688   \n",
       "Fever                                                         0.002252   \n",
       "Dry Cough                                                     0.086176   \n",
       "Sore throat                                                   0.079055   \n",
       "Running Nose                                                  0.032568   \n",
       "Asthma                                                        0.020941   \n",
       "Chronic Lung Disease                                         -0.093049   \n",
       "Headache                                                     -0.005790   \n",
       "Heart Disease                                                 0.086169   \n",
       "Diabetes                                                     -0.078212   \n",
       "Hyper Tension                                                 0.019174   \n",
       "Fatigue                                                      -0.009562   \n",
       "Gastrointestinal                                             -0.061885   \n",
       "Abroad travel                                                 0.069609   \n",
       "Contact with COVID Patient                                    0.079800   \n",
       "Attended Large Gathering                                      0.083795   \n",
       "Visited Public Exposed Places                                 1.000000   \n",
       "Family working in Public Exposed Places                       0.028486   \n",
       "Wearing Masks                                                      NaN   \n",
       "Sanitization from Market                                           NaN   \n",
       "COVID-19                                                      0.119755   \n",
       "\n",
       "                                         Family working in Public Exposed Places  \\\n",
       "Breathing Problem                                                       0.018295   \n",
       "Fever                                                                   0.012102   \n",
       "Dry Cough                                                               0.163102   \n",
       "Sore throat                                                             0.104378   \n",
       "Running Nose                                                           -0.061323   \n",
       "Asthma                                                                 -0.115679   \n",
       "Chronic Lung Disease                                                    0.038343   \n",
       "Headache                                                               -0.012625   \n",
       "Heart Disease                                                           0.035000   \n",
       "Diabetes                                                                0.097696   \n",
       "Hyper Tension                                                           0.048152   \n",
       "Fatigue                                                                -0.025623   \n",
       "Gastrointestinal                                                       -0.027603   \n",
       "Abroad travel                                                           0.143094   \n",
       "Contact with COVID Patient                                              0.006909   \n",
       "Attended Large Gathering                                                0.063776   \n",
       "Visited Public Exposed Places                                           0.028486   \n",
       "Family working in Public Exposed Places                                 1.000000   \n",
       "Wearing Masks                                                                NaN   \n",
       "Sanitization from Market                                                     NaN   \n",
       "COVID-19                                                                0.160208   \n",
       "\n",
       "                                         Wearing Masks  \\\n",
       "Breathing Problem                                  NaN   \n",
       "Fever                                              NaN   \n",
       "Dry Cough                                          NaN   \n",
       "Sore throat                                        NaN   \n",
       "Running Nose                                       NaN   \n",
       "Asthma                                             NaN   \n",
       "Chronic Lung Disease                               NaN   \n",
       "Headache                                           NaN   \n",
       "Heart Disease                                      NaN   \n",
       "Diabetes                                           NaN   \n",
       "Hyper Tension                                      NaN   \n",
       "Fatigue                                            NaN   \n",
       "Gastrointestinal                                   NaN   \n",
       "Abroad travel                                      NaN   \n",
       "Contact with COVID Patient                         NaN   \n",
       "Attended Large Gathering                           NaN   \n",
       "Visited Public Exposed Places                      NaN   \n",
       "Family working in Public Exposed Places            NaN   \n",
       "Wearing Masks                                      NaN   \n",
       "Sanitization from Market                           NaN   \n",
       "COVID-19                                           NaN   \n",
       "\n",
       "                                         Sanitization from Market  COVID-19  \n",
       "Breathing Problem                                             NaN  0.443764  \n",
       "Fever                                                         NaN  0.352891  \n",
       "Dry Cough                                                     NaN  0.464292  \n",
       "Sore throat                                                   NaN  0.502848  \n",
       "Running Nose                                                  NaN -0.005657  \n",
       "Asthma                                                        NaN  0.089930  \n",
       "Chronic Lung Disease                                          NaN -0.056837  \n",
       "Headache                                                      NaN -0.027793  \n",
       "Heart Disease                                                 NaN  0.027072  \n",
       "Diabetes                                                      NaN  0.040627  \n",
       "Hyper Tension                                                 NaN  0.102575  \n",
       "Fatigue                                                       NaN -0.044188  \n",
       "Gastrointestinal                                              NaN -0.003367  \n",
       "Abroad travel                                                 NaN  0.443875  \n",
       "Contact with COVID Patient                                    NaN  0.357122  \n",
       "Attended Large Gathering                                      NaN  0.390145  \n",
       "Visited Public Exposed Places                                 NaN  0.119755  \n",
       "Family working in Public Exposed Places                       NaN  0.160208  \n",
       "Wearing Masks                                                 NaN       NaN  \n",
       "Sanitization from Market                                      NaN       NaN  \n",
       "COVID-19                                                      NaN  1.000000  "
      ]
     },
     "execution_count": 22,
     "metadata": {},
     "output_type": "execute_result"
    }
   ],
   "source": [
    "# Checando correlações entre colunas\n",
    "covid.corr()"
   ]
  },
  {
   "cell_type": "markdown",
   "metadata": {},
   "source": [
    "#### Dividindo os dados em teste e treinamento"
   ]
  },
  {
   "cell_type": "code",
   "execution_count": 23,
   "metadata": {},
   "outputs": [],
   "source": [
    "# Definindo variáveis independentes\n",
    "X = covid[['Breathing Problem','Fever','Dry Cough','Sore throat','Hyper Tension','Abroad travel',\n",
    "        'Contact with COVID Patient','Attended Large Gathering','Visited Public Exposed Places',\n",
    "           'Family working in Public Exposed Places']]"
   ]
  },
  {
   "cell_type": "code",
   "execution_count": 24,
   "metadata": {},
   "outputs": [],
   "source": [
    "# Definindo variável dependente (alvo)\n",
    "y = covid['COVID-19'].values"
   ]
  },
  {
   "cell_type": "code",
   "execution_count": 25,
   "metadata": {},
   "outputs": [],
   "source": [
    "# Dividindo dataset entre grupo de teste e treinamento\n",
    "X_train, X_test, y_train, y_test = train_test_split(X, y, test_size=0.2, random_state=1, stratify=y)"
   ]
  },
  {
   "cell_type": "markdown",
   "metadata": {},
   "source": [
    "#### Analisando valores e treinando o classificador"
   ]
  },
  {
   "cell_type": "code",
   "execution_count": 26,
   "metadata": {},
   "outputs": [
    {
     "name": "stdout",
     "output_type": "stream",
     "text": [
      "Acurácia do modelo com k=1: 0.968721251149954\n",
      "O valor F1 do modelo com k=1: 0.9804372842347526\n",
      "Acurácia do modelo com k=2: 0.9678012879484821\n",
      "O valor F1 do modelo com k=2: 0.9797101449275362\n",
      "Acurácia do modelo com k=3: 0.9724011039558418\n",
      "O valor F1 do modelo com k=3: 0.9828767123287672\n",
      "Acurácia do modelo com k=4: 0.9678012879484821\n",
      "O valor F1 do modelo com k=4: 0.9797101449275362\n",
      "Acurácia do modelo com k=5: 0.9714811407543699\n",
      "O valor F1 do modelo com k=5: 0.9822349570200574\n",
      "Acurácia do modelo com k=6: 0.9705611775528978\n",
      "O valor F1 do modelo com k=6: 0.981651376146789\n",
      "Acurácia do modelo com k=7: 0.9696412143514259\n",
      "O valor F1 do modelo com k=7: 0.9811104751001718\n",
      "Acurácia do modelo com k=8: 0.968721251149954\n",
      "O valor F1 do modelo com k=8: 0.9803921568627452\n",
      "Acurácia do modelo com k=9: 0.9696412143514259\n",
      "O valor F1 do modelo com k=9: 0.9811104751001718\n",
      "Acurácia do modelo com k=10: 0.9696412143514259\n",
      "O valor F1 do modelo com k=10: 0.9811104751001718\n",
      "Acurácia do modelo com k=11: 0.9696412143514259\n",
      "O valor F1 do modelo com k=11: 0.9811104751001718\n",
      "Acurácia do modelo com k=12: 0.9696412143514259\n",
      "O valor F1 do modelo com k=12: 0.9811104751001718\n",
      "Acurácia do modelo com k=13: 0.9696412143514259\n",
      "O valor F1 do modelo com k=13: 0.9811104751001718\n",
      "Acurácia do modelo com k=14: 0.9696412143514259\n",
      "O valor F1 do modelo com k=14: 0.9811104751001718\n",
      "Acurácia do modelo com k=15: 0.9678012879484821\n",
      "O valor F1 do modelo com k=15: 0.9800342270393612\n",
      "Acurácia do modelo com k=16: 0.9678012879484821\n",
      "O valor F1 do modelo com k=16: 0.9798503166378814\n",
      "Acurácia do modelo com k=17: 0.9659613615455381\n",
      "O valor F1 do modelo com k=17: 0.9788692175899486\n",
      "Acurácia do modelo com k=18: 0.9705611775528978\n",
      "O valor F1 do modelo com k=18: 0.981651376146789\n",
      "Acurácia do modelo com k=19: 0.9696412143514259\n",
      "O valor F1 do modelo com k=19: 0.9811104751001718\n"
     ]
    }
   ],
   "source": [
    "# Testando valores para K’s para ver o de melhor performance no modelo\n",
    "for num in range(1,20,1):\n",
    "    knn = KNeighborsClassifier(n_neighbors = num)\n",
    "    knn.fit(X_train, y_train)\n",
    "    y_pred = knn.predict(X_test)\n",
    "    print(f'Acurácia do modelo com k={num}: {accuracy_score(y_test, y_pred)}')\n",
    "    print(f'O valor F1 do modelo com k={num}: {f1_score(y_test, y_pred)}')"
   ]
  },
  {
   "cell_type": "markdown",
   "metadata": {},
   "source": [
    "Quando testamos diferentes valores para o parâmetro K, estamos querendo demonstrar a melhor variável de controle para a classificação, obtendo por exemplo em nossa função o valor 9, que demonstra uma certa influência do ruído no resultado.  "
   ]
  },
  {
   "cell_type": "code",
   "execution_count": 27,
   "metadata": {},
   "outputs": [],
   "source": [
    "# Treinando modelo de KNN nos dados de treinamento com K=9 qual teve a melhor acurácia e valor de F1 \n",
    "knn_9 = KNeighborsClassifier(n_neighbors = 9)\n",
    "knn_9.fit(X_train,y_train)\n",
    "\n",
    "# compilando modelo em um arquivo .pkl\n",
    "pickle.dump(knn_9, open('./modelos_pkl/model_knn.pkl', 'wb'))"
   ]
  },
  {
   "cell_type": "markdown",
   "metadata": {},
   "source": [
    "#### Prevendo os dados e analisando a frequência dos resultados"
   ]
  },
  {
   "cell_type": "code",
   "execution_count": 28,
   "metadata": {},
   "outputs": [],
   "source": [
    "# Prevendo dados de teste X\n",
    "y_pred=knn_9.predict(X_test)"
   ]
  },
  {
   "cell_type": "code",
   "execution_count": 29,
   "metadata": {},
   "outputs": [
    {
     "data": {
      "text/plain": [
       "Text(0, 0.5, 'Frequência')"
      ]
     },
     "execution_count": 29,
     "metadata": {},
     "output_type": "execute_result"
    },
    {
     "data": {
      "image/png": "[encoded data removed]",
      "text/plain": [
       "<Figure size 432x288 with 1 Axes>"
      ]
     },
     "metadata": {
      "needs_background": "light"
     },
     "output_type": "display_data"
    }
   ],
   "source": [
    "# Gráfico para demonstrar frequência apresentada em K=9 que obteve a melhor acurácia\n",
    "plt.figure(figsize=(6,4))\n",
    "plt.rcParams['font.size'] = 12\n",
    "plt.hist(y_pred, bins = 10, color='green')\n",
    "plt.title('Probabilidade de ter COVID-19')\n",
    "plt.xlabel('Probabilidade prevista')\n",
    "plt.ylabel('Frequência')"
   ]
  },
  {
   "cell_type": "markdown",
   "metadata": {},
   "source": [
    "O gráfico de frequência nos faz entender que há mais pessoas com Covid-19 na base de dados do que pessoas sem a doença."
   ]
  },
  {
   "cell_type": "markdown",
   "metadata": {},
   "source": [
    "#### Obtendo e analisando as validações do modelo"
   ]
  },
  {
   "cell_type": "code",
   "execution_count": 30,
   "metadata": {},
   "outputs": [
    {
     "data": {
      "text/plain": [
       "0.9696412143514259"
      ]
     },
     "execution_count": 30,
     "metadata": {},
     "output_type": "execute_result"
    }
   ],
   "source": [
    "# Testando método de acurácia para o modelo treinado\n",
    "knn_9.score(X_test, y_test)"
   ]
  },
  {
   "cell_type": "markdown",
   "metadata": {},
   "source": [
    "O algoritmo do KNN quando bem planejado com testes de valores em suas variáveis consegue atingir uma ótima acurácia, isto é comprovado com nosso modelo que indica que o algorítimo acerta suas previsões em 97% dos casos."
   ]
  },
  {
   "cell_type": "code",
   "execution_count": 31,
   "metadata": {},
   "outputs": [
    {
     "name": "stdout",
     "output_type": "stream",
     "text": [
      "              precision    recall  f1-score   support\n",
      "\n",
      "           0       0.91      0.94      0.92       210\n",
      "           1       0.99      0.98      0.98       877\n",
      "\n",
      "    accuracy                           0.97      1087\n",
      "   macro avg       0.95      0.96      0.95      1087\n",
      "weighted avg       0.97      0.97      0.97      1087\n",
      "\n"
     ]
    }
   ],
   "source": [
    "# Checando medidas de desempenho da classificação para modelo K=9\n",
    "print(classification_report(y_test, y_pred))"
   ]
  },
  {
   "cell_type": "markdown",
   "metadata": {},
   "source": [
    "O classification report do SciKit-Learn nos provê as três métricas de avaliação apresentadas na figura acima.\n",
    "\n",
    "Precision é a capacidade do modelo de não prever uma instância negativa como positiva (não cometer erro do tipo 1). Para todas as instância classificadas como positivas, qual é o percentual de acerto. Essa métrica em nosso desempenho demonstra que a precisão de casos com Covid (99%) é melhor do que sem a doença (90%).\n",
    "\n",
    "Recall é a capacidade do modelo de encontrar todas as instâncias positivas. Para todas as instâncias que são de fato positivas, qual é o percentual de acerto. Neste, o desempenho da frequência continua melhor em casos com Covid (98%) do que em casos sem a doença (94%).\n",
    "\n",
    "A métrica F1 conjuga as duas anteriores como uma média harmônica entre ambas. Ela deve sempre ser priorizada para comparar modelos de classificação em relação à acurácia. Nesta última métrica vemos que como nas outras o desempenho em casos com Covid (98%) é melhor do que sem a doença (92%)."
   ]
  },
  {
   "cell_type": "code",
   "execution_count": 32,
   "metadata": {},
   "outputs": [
    {
     "name": "stdout",
     "output_type": "stream",
     "text": [
      "Pontuações de validação cruzada:[0.96551724 0.97701149 0.96321839 0.97011494 0.97471264 0.97011494\n",
      " 0.96091954 0.95852535 0.96313364 0.95852535]\n"
     ]
    }
   ],
   "source": [
    "# Checando o método de validação cruzada\n",
    "scores = cross_val_score(knn, X_train, y_train, cv = 10, scoring='accuracy')\n",
    "print('Pontuações de validação cruzada:{}'.format(scores))"
   ]
  },
  {
   "cell_type": "code",
   "execution_count": 33,
   "metadata": {},
   "outputs": [
    {
     "name": "stdout",
     "output_type": "stream",
     "text": [
      "Pontuação média de validação cruzada: 0.9662\n"
     ]
    }
   ],
   "source": [
    "# Média da validação cruzada\n",
    "print('Pontuação média de validação cruzada: {:.4f}'.format(scores.mean()))"
   ]
  },
  {
   "cell_type": "markdown",
   "metadata": {},
   "source": [
    "A validação cruzada é usada para detectar o sobreajuste (overfitting). Quanto maior o valor da validação cruzada menos padronizada e afetada pelo sobreajuste ela é. Em nosso modelo, nossos valores de validação  cruzada e a média entre eles retorna um número alto. Isso quer dizer que nosso modelo não está indo atrás de um viés e está prevendo as classificações bem"
   ]
  },
  {
   "cell_type": "code",
   "execution_count": 34,
   "metadata": {},
   "outputs": [
    {
     "data": {
      "text/html": [
       "<div>\n",
       "<style scoped>\n",
       "    .dataframe tbody tr th:only-of-type {\n",
       "        vertical-align: middle;\n",
       "    }\n",
       "\n",
       "    .dataframe tbody tr th {\n",
       "        vertical-align: top;\n",
       "    }\n",
       "\n",
       "    .dataframe thead th {\n",
       "        text-align: right;\n",
       "    }\n",
       "</style>\n",
       "<table border=\"1\" class=\"dataframe\">\n",
       "  <thead>\n",
       "    <tr style=\"text-align: right;\">\n",
       "      <th></th>\n",
       "      <th>0</th>\n",
       "      <th>1</th>\n",
       "    </tr>\n",
       "  </thead>\n",
       "  <tbody>\n",
       "    <tr>\n",
       "      <th>0</th>\n",
       "      <td>0.526316</td>\n",
       "      <td>0.473684</td>\n",
       "    </tr>\n",
       "    <tr>\n",
       "      <th>1</th>\n",
       "      <td>1.000000</td>\n",
       "      <td>0.000000</td>\n",
       "    </tr>\n",
       "    <tr>\n",
       "      <th>2</th>\n",
       "      <td>0.368421</td>\n",
       "      <td>0.631579</td>\n",
       "    </tr>\n",
       "    <tr>\n",
       "      <th>3</th>\n",
       "      <td>0.000000</td>\n",
       "      <td>1.000000</td>\n",
       "    </tr>\n",
       "    <tr>\n",
       "      <th>4</th>\n",
       "      <td>0.000000</td>\n",
       "      <td>1.000000</td>\n",
       "    </tr>\n",
       "    <tr>\n",
       "      <th>5</th>\n",
       "      <td>0.000000</td>\n",
       "      <td>1.000000</td>\n",
       "    </tr>\n",
       "    <tr>\n",
       "      <th>6</th>\n",
       "      <td>1.000000</td>\n",
       "      <td>0.000000</td>\n",
       "    </tr>\n",
       "    <tr>\n",
       "      <th>7</th>\n",
       "      <td>0.000000</td>\n",
       "      <td>1.000000</td>\n",
       "    </tr>\n",
       "    <tr>\n",
       "      <th>8</th>\n",
       "      <td>0.000000</td>\n",
       "      <td>1.000000</td>\n",
       "    </tr>\n",
       "    <tr>\n",
       "      <th>9</th>\n",
       "      <td>0.000000</td>\n",
       "      <td>1.000000</td>\n",
       "    </tr>\n",
       "  </tbody>\n",
       "</table>\n",
       "</div>"
      ],
      "text/plain": [
       "          0         1\n",
       "0  0.526316  0.473684\n",
       "1  1.000000  0.000000\n",
       "2  0.368421  0.631579\n",
       "3  0.000000  1.000000\n",
       "4  0.000000  1.000000\n",
       "5  0.000000  1.000000\n",
       "6  1.000000  0.000000\n",
       "7  0.000000  1.000000\n",
       "8  0.000000  1.000000\n",
       "9  0.000000  1.000000"
      ]
     },
     "execution_count": 34,
     "metadata": {},
     "output_type": "execute_result"
    }
   ],
   "source": [
    "# Checar a porcentagem de ter ou não Covid-19 nos 10 primeiros indivíduos\n",
    "y_pred_prob = knn.predict_proba(X_test)[0:10]\n",
    "y_pred_prob_df = pd.DataFrame(data=y_pred_prob)\n",
    "y_pred_prob_df"
   ]
  },
  {
   "cell_type": "code",
   "execution_count": 35,
   "metadata": {},
   "outputs": [
    {
     "name": "stdout",
     "output_type": "stream",
     "text": [
      "ROC AUC : 0.9576\n"
     ]
    }
   ],
   "source": [
    "# Testando a aleatoriedade dk modelo\n",
    "ROC_AUC = roc_auc_score(y_test, y_pred)\n",
    "print('ROC AUC : {:.4f}'.format(ROC_AUC))\n",
    "# Maior do que 0.5 indica uma classificação melhor, já se for 0.5 ou menor, o modelo é aleatório"
   ]
  },
  {
   "cell_type": "markdown",
   "metadata": {},
   "source": [
    "ROC AU é uma métrica para identificar aleatoriedade de um modelo. Caso ela esteja em 0.5 ou abaixo ele é aleatório. Como o modelo está muito acima, ela não é aleatório e, consequentemente, tem uma boa performance"
   ]
  },
  {
   "cell_type": "code",
   "execution_count": 36,
   "metadata": {},
   "outputs": [
    {
     "name": "stdout",
     "output_type": "stream",
     "text": [
      "Matriz de confusão\n",
      "\n",
      "[[197  13]\n",
      " [ 20 857]]\n",
      "\n",
      "Verdadeiros positivos(TP) =  197\n",
      "\n",
      "Verdadeiros negativos(TN) =  857\n",
      "\n",
      "Falsos positivos(FP) =  13\n",
      "\n",
      "Falsos negativos(FN) =  20\n"
     ]
    }
   ],
   "source": [
    "# Matriz de confusão para K=9\n",
    "confusion = confusion_matrix(y_test, y_pred)\n",
    "print('Matriz de confusão\\n')\n",
    "print(confusion)\n",
    "print('\\nVerdadeiros positivos(TP) = ', confusion[0,0])\n",
    "print('\\nVerdadeiros negativos(TN) = ', confusion[1,1])\n",
    "print('\\nFalsos positivos(FP) = ', confusion[0,1])\n",
    "print('\\nFalsos negativos(FN) = ', confusion[1,0])"
   ]
  },
  {
   "cell_type": "markdown",
   "metadata": {},
   "source": [
    "A matriz de confusão serve para entender se os valores foram classificados corretamente. Sendo as maiores quantidades de valores em nossa matriz o TN, que ocorre quando no conjunto real, a classe que não estamos buscando prever foi prevista corretamente e o TP que ocorre quando no conjunto real, a classe que estamos buscando foi prevista corretamente, provando ser um modelo de alta performance."
   ]
  },
  {
   "cell_type": "code",
   "execution_count": 37,
   "metadata": {},
   "outputs": [
    {
     "name": "stdout",
     "output_type": "stream",
     "text": [
      "Acurácia de classificação : 0.9696\n",
      "Erro de classificação : 0.0304\n"
     ]
    }
   ],
   "source": [
    "# Testes de Matriz de confusão para K=9\n",
    "TP = confusion[0,0]\n",
    "TN = confusion[1,1]\n",
    "FP = confusion[0,1]\n",
    "FN = confusion[1,0]\n",
    "classification_accuracy_9 = (TP + TN) / float(TP + TN + FP + FN)\n",
    "print('Acurácia de classificação : {0:0.4f}'.format(classification_accuracy_9))\n",
    "classification_error_9 = (FP + FN) / float(TP + TN + FP + FN)\n",
    "print('Erro de classificação : {0:0.4f}'.format(classification_error_9))"
   ]
  },
  {
   "cell_type": "markdown",
   "metadata": {},
   "source": [
    "Temos uma alta performance com poucos erros de classificação."
   ]
  },
  {
   "cell_type": "code",
   "execution_count": 38,
   "metadata": {},
   "outputs": [
    {
     "name": "stdout",
     "output_type": "stream",
     "text": [
      "Frequência de falsos negativos : 0.0149\n"
     ]
    }
   ],
   "source": [
    "# Método para checar frequência de falsos positivos no modelo\n",
    "false_positive_rate = FP / float(FP + TN)\n",
    "print('Frequência de falsos negativos : {0:0.4f}'.format(false_positive_rate))"
   ]
  },
  {
   "cell_type": "code",
   "execution_count": 39,
   "metadata": {},
   "outputs": [
    {
     "name": "stdout",
     "output_type": "stream",
     "text": [
      "Frequência de verdadeiros positivos : 0.9078\n"
     ]
    }
   ],
   "source": [
    "# Método para checar frequência de verdadeiros positivos no modelo\n",
    "true_positive_rate = TP / float(TP + FN)\n",
    "print('Frequência de verdadeiros positivos : {0:0.4f}'.format(true_positive_rate))"
   ]
  },
  {
   "cell_type": "markdown",
   "metadata": {},
   "source": [
    "Sendo que a frequência de falsos negativos é extremamente baixa e frequência de verdadeiros é alta mostramos que modelo previu corretamente a grande maioria os dados"
   ]
  },
  {
   "cell_type": "code",
   "execution_count": 40,
   "metadata": {},
   "outputs": [
    {
     "name": "stdout",
     "output_type": "stream",
     "text": [
      "Especificidade : 0.9851\n"
     ]
    }
   ],
   "source": [
    "# Método para checar performance no modelo\n",
    "specificity = TN / (TN + FP)\n",
    "print('Especificidade : {0:0.4f}'.format(specificity))"
   ]
  },
  {
   "cell_type": "markdown",
   "metadata": {},
   "source": [
    "Specificity é um método de cálculo de performance que verifica se o modelo conseguiu classificar corretamente valores verdadeiros negativos. Nosso modelo apresenta uma alta performance nesse quesito"
   ]
  },
  {
   "cell_type": "markdown",
   "metadata": {},
   "source": [
    "#### Conclusão\n",
    "\n",
    "O modelo apresentou melhor performance na previsão de covid-19 usando os 9 vizinhos mais próximos provando, assim, sua eficiência como classificador na identificação de Covid."
   ]
  },
  {
   "cell_type": "markdown",
   "metadata": {},
   "source": [
    "### Regressão Linear Múltipla\n",
    "\n",
    "A análise de regressão linear Múltipla é responsável por avaliar a relação linear entre múltiplas variáveis, sendo uma resposta e múltiplas explicativas. Quando é realizada a comparação das variáveis explicativas comas, é possível prever um valor de resposta com uma precisão maior que o simples acaso.\n",
    "\n",
    "Na regressão linear múltipla, a relação entre diversas variáveis pode ser representada por uma linha reta, criando uma relação direta de causa e efeito. Assim, será possível prever os valores de uma variável dependente com base nos resultados das variáveis independentes.\n",
    "\n",
    "Nosso algoritmo pode ser utilizado para diversas situações, mas, devido o contexto pandêmico que gera super-lotação e alto número de mortes por insuficiência respiratória, nossa preocupação foi selecionar os profissionais que possuam mais habilidade na realização do procedimento de entubação. Por isso, presamos por características como: anos de carreira, número de vezes que realizou esse procedimento, taxa de sucesso e especialidade médica - como anestesistas e intensivistas."
   ]
  },
  {
   "cell_type": "markdown",
   "metadata": {},
   "source": [
    "#### Importando dados"
   ]
  },
  {
   "cell_type": "code",
   "execution_count": 41,
   "metadata": {},
   "outputs": [
    {
     "data": {
      "text/html": [
       "<div>\n",
       "<style scoped>\n",
       "    .dataframe tbody tr th:only-of-type {\n",
       "        vertical-align: middle;\n",
       "    }\n",
       "\n",
       "    .dataframe tbody tr th {\n",
       "        vertical-align: top;\n",
       "    }\n",
       "\n",
       "    .dataframe thead th {\n",
       "        text-align: right;\n",
       "    }\n",
       "</style>\n",
       "<table border=\"1\" class=\"dataframe\">\n",
       "  <thead>\n",
       "    <tr style=\"text-align: right;\">\n",
       "      <th></th>\n",
       "      <th>anos_carreira</th>\n",
       "      <th>formacao</th>\n",
       "      <th>casos_sucesso(%)</th>\n",
       "      <th>qntd_procedimentos</th>\n",
       "      <th>especialista_entubacao</th>\n",
       "      <th>prestador_id</th>\n",
       "      <th>prestador_nome</th>\n",
       "      <th>prestador_genero</th>\n",
       "      <th>procedimento_cod</th>\n",
       "      <th>prestador_cobranca_media</th>\n",
       "      <th>medcare_cobranca_media_permitida</th>\n",
       "      <th>medcare_pagamento_medio_padronizado</th>\n",
       "      <th>prestador_estado_instituicao</th>\n",
       "      <th>contratar_score</th>\n",
       "      <th>contratar</th>\n",
       "      <th>habilidade_score</th>\n",
       "    </tr>\n",
       "  </thead>\n",
       "  <tbody>\n",
       "    <tr>\n",
       "      <th>0</th>\n",
       "      <td>18</td>\n",
       "      <td>0</td>\n",
       "      <td>99</td>\n",
       "      <td>31</td>\n",
       "      <td>0</td>\n",
       "      <td>1003012022</td>\n",
       "      <td>Corey</td>\n",
       "      <td>0</td>\n",
       "      <td>31500</td>\n",
       "      <td>367.00</td>\n",
       "      <td>126.09</td>\n",
       "      <td>117.04</td>\n",
       "      <td>1</td>\n",
       "      <td>50</td>\n",
       "      <td>1</td>\n",
       "      <td>0</td>\n",
       "    </tr>\n",
       "    <tr>\n",
       "      <th>1</th>\n",
       "      <td>17</td>\n",
       "      <td>0</td>\n",
       "      <td>80</td>\n",
       "      <td>31</td>\n",
       "      <td>0</td>\n",
       "      <td>1003012477</td>\n",
       "      <td>Ariel</td>\n",
       "      <td>0</td>\n",
       "      <td>31500</td>\n",
       "      <td>228.00</td>\n",
       "      <td>145.11</td>\n",
       "      <td>115.00</td>\n",
       "      <td>1</td>\n",
       "      <td>75</td>\n",
       "      <td>1</td>\n",
       "      <td>0</td>\n",
       "    </tr>\n",
       "    <tr>\n",
       "      <th>2</th>\n",
       "      <td>24</td>\n",
       "      <td>1</td>\n",
       "      <td>80</td>\n",
       "      <td>45</td>\n",
       "      <td>1</td>\n",
       "      <td>1003020348</td>\n",
       "      <td>Jennifer</td>\n",
       "      <td>1</td>\n",
       "      <td>31500</td>\n",
       "      <td>410.00</td>\n",
       "      <td>134.44</td>\n",
       "      <td>114.99</td>\n",
       "      <td>1</td>\n",
       "      <td>0</td>\n",
       "      <td>0</td>\n",
       "      <td>59</td>\n",
       "    </tr>\n",
       "    <tr>\n",
       "      <th>3</th>\n",
       "      <td>14</td>\n",
       "      <td>0</td>\n",
       "      <td>74</td>\n",
       "      <td>27</td>\n",
       "      <td>0</td>\n",
       "      <td>1003033317</td>\n",
       "      <td>Barry</td>\n",
       "      <td>0</td>\n",
       "      <td>31500</td>\n",
       "      <td>187.00</td>\n",
       "      <td>146.10</td>\n",
       "      <td>115.00</td>\n",
       "      <td>1</td>\n",
       "      <td>75</td>\n",
       "      <td>1</td>\n",
       "      <td>0</td>\n",
       "    </tr>\n",
       "    <tr>\n",
       "      <th>4</th>\n",
       "      <td>10</td>\n",
       "      <td>0</td>\n",
       "      <td>73</td>\n",
       "      <td>27</td>\n",
       "      <td>0</td>\n",
       "      <td>1003042342</td>\n",
       "      <td>Mostafa</td>\n",
       "      <td>0</td>\n",
       "      <td>31500</td>\n",
       "      <td>300.00</td>\n",
       "      <td>151.11</td>\n",
       "      <td>115.00</td>\n",
       "      <td>0</td>\n",
       "      <td>0</td>\n",
       "      <td>0</td>\n",
       "      <td>0</td>\n",
       "    </tr>\n",
       "    <tr>\n",
       "      <th>...</th>\n",
       "      <td>...</td>\n",
       "      <td>...</td>\n",
       "      <td>...</td>\n",
       "      <td>...</td>\n",
       "      <td>...</td>\n",
       "      <td>...</td>\n",
       "      <td>...</td>\n",
       "      <td>...</td>\n",
       "      <td>...</td>\n",
       "      <td>...</td>\n",
       "      <td>...</td>\n",
       "      <td>...</td>\n",
       "      <td>...</td>\n",
       "      <td>...</td>\n",
       "      <td>...</td>\n",
       "      <td>...</td>\n",
       "    </tr>\n",
       "    <tr>\n",
       "      <th>4025</th>\n",
       "      <td>9</td>\n",
       "      <td>0</td>\n",
       "      <td>76</td>\n",
       "      <td>30</td>\n",
       "      <td>0</td>\n",
       "      <td>1992908065</td>\n",
       "      <td>Richard</td>\n",
       "      <td>0</td>\n",
       "      <td>31500</td>\n",
       "      <td>292.00</td>\n",
       "      <td>133.05</td>\n",
       "      <td>114.58</td>\n",
       "      <td>1</td>\n",
       "      <td>75</td>\n",
       "      <td>1</td>\n",
       "      <td>0</td>\n",
       "    </tr>\n",
       "    <tr>\n",
       "      <th>4026</th>\n",
       "      <td>27</td>\n",
       "      <td>1</td>\n",
       "      <td>83</td>\n",
       "      <td>45</td>\n",
       "      <td>1</td>\n",
       "      <td>1992936256</td>\n",
       "      <td>Jose</td>\n",
       "      <td>0</td>\n",
       "      <td>31500</td>\n",
       "      <td>350.00</td>\n",
       "      <td>135.07</td>\n",
       "      <td>115.00</td>\n",
       "      <td>1</td>\n",
       "      <td>0</td>\n",
       "      <td>0</td>\n",
       "      <td>59</td>\n",
       "    </tr>\n",
       "    <tr>\n",
       "      <th>4027</th>\n",
       "      <td>0</td>\n",
       "      <td>0</td>\n",
       "      <td>69</td>\n",
       "      <td>21</td>\n",
       "      <td>0</td>\n",
       "      <td>1992969604</td>\n",
       "      <td>William</td>\n",
       "      <td>0</td>\n",
       "      <td>31500</td>\n",
       "      <td>210.00</td>\n",
       "      <td>141.08</td>\n",
       "      <td>115.00</td>\n",
       "      <td>1</td>\n",
       "      <td>42</td>\n",
       "      <td>1</td>\n",
       "      <td>0</td>\n",
       "    </tr>\n",
       "    <tr>\n",
       "      <th>4028</th>\n",
       "      <td>9</td>\n",
       "      <td>0</td>\n",
       "      <td>73</td>\n",
       "      <td>28</td>\n",
       "      <td>0</td>\n",
       "      <td>1992971287</td>\n",
       "      <td>Mary</td>\n",
       "      <td>1</td>\n",
       "      <td>31500</td>\n",
       "      <td>417.86</td>\n",
       "      <td>133.97</td>\n",
       "      <td>112.21</td>\n",
       "      <td>1</td>\n",
       "      <td>74</td>\n",
       "      <td>1</td>\n",
       "      <td>0</td>\n",
       "    </tr>\n",
       "    <tr>\n",
       "      <th>4029</th>\n",
       "      <td>14</td>\n",
       "      <td>0</td>\n",
       "      <td>88</td>\n",
       "      <td>21</td>\n",
       "      <td>0</td>\n",
       "      <td>1992994073</td>\n",
       "      <td>Harjoth</td>\n",
       "      <td>0</td>\n",
       "      <td>31500</td>\n",
       "      <td>222.97</td>\n",
       "      <td>143.60</td>\n",
       "      <td>114.98</td>\n",
       "      <td>0</td>\n",
       "      <td>0</td>\n",
       "      <td>0</td>\n",
       "      <td>0</td>\n",
       "    </tr>\n",
       "  </tbody>\n",
       "</table>\n",
       "<p>4030 rows × 16 columns</p>\n",
       "</div>"
      ],
      "text/plain": [
       "      anos_carreira  formacao  casos_sucesso(%)  qntd_procedimentos  \\\n",
       "0                18         0                99                  31   \n",
       "1                17         0                80                  31   \n",
       "2                24         1                80                  45   \n",
       "3                14         0                74                  27   \n",
       "4                10         0                73                  27   \n",
       "...             ...       ...               ...                 ...   \n",
       "4025              9         0                76                  30   \n",
       "4026             27         1                83                  45   \n",
       "4027              0         0                69                  21   \n",
       "4028              9         0                73                  28   \n",
       "4029             14         0                88                  21   \n",
       "\n",
       "      especialista_entubacao  prestador_id prestador_nome  prestador_genero  \\\n",
       "0                          0    1003012022          Corey                 0   \n",
       "1                          0    1003012477          Ariel                 0   \n",
       "2                          1    1003020348       Jennifer                 1   \n",
       "3                          0    1003033317          Barry                 0   \n",
       "4                          0    1003042342        Mostafa                 0   \n",
       "...                      ...           ...            ...               ...   \n",
       "4025                       0    1992908065        Richard                 0   \n",
       "4026                       1    1992936256           Jose                 0   \n",
       "4027                       0    1992969604        William                 0   \n",
       "4028                       0    1992971287           Mary                 1   \n",
       "4029                       0    1992994073        Harjoth                 0   \n",
       "\n",
       "      procedimento_cod  prestador_cobranca_media  \\\n",
       "0                31500                    367.00   \n",
       "1                31500                    228.00   \n",
       "2                31500                    410.00   \n",
       "3                31500                    187.00   \n",
       "4                31500                    300.00   \n",
       "...                ...                       ...   \n",
       "4025             31500                    292.00   \n",
       "4026             31500                    350.00   \n",
       "4027             31500                    210.00   \n",
       "4028             31500                    417.86   \n",
       "4029             31500                    222.97   \n",
       "\n",
       "      medcare_cobranca_media_permitida  medcare_pagamento_medio_padronizado  \\\n",
       "0                               126.09                               117.04   \n",
       "1                               145.11                               115.00   \n",
       "2                               134.44                               114.99   \n",
       "3                               146.10                               115.00   \n",
       "4                               151.11                               115.00   \n",
       "...                                ...                                  ...   \n",
       "4025                            133.05                               114.58   \n",
       "4026                            135.07                               115.00   \n",
       "4027                            141.08                               115.00   \n",
       "4028                            133.97                               112.21   \n",
       "4029                            143.60                               114.98   \n",
       "\n",
       "      prestador_estado_instituicao  contratar_score  contratar  \\\n",
       "0                                1               50          1   \n",
       "1                                1               75          1   \n",
       "2                                1                0          0   \n",
       "3                                1               75          1   \n",
       "4                                0                0          0   \n",
       "...                            ...              ...        ...   \n",
       "4025                             1               75          1   \n",
       "4026                             1                0          0   \n",
       "4027                             1               42          1   \n",
       "4028                             1               74          1   \n",
       "4029                             0                0          0   \n",
       "\n",
       "      habilidade_score  \n",
       "0                    0  \n",
       "1                    0  \n",
       "2                   59  \n",
       "3                    0  \n",
       "4                    0  \n",
       "...                ...  \n",
       "4025                 0  \n",
       "4026                59  \n",
       "4027                 0  \n",
       "4028                 0  \n",
       "4029                 0  \n",
       "\n",
       "[4030 rows x 16 columns]"
      ]
     },
     "execution_count": 41,
     "metadata": {},
     "output_type": "execute_result"
    }
   ],
   "source": [
    "# Imprimindo arquivo CSV completo\n",
    "df_rln_comp = pd.read_csv('dados_medcare_rotulados.csv')\n",
    "df_rln_comp"
   ]
  },
  {
   "cell_type": "markdown",
   "metadata": {},
   "source": [
    "#### Limpando os dados"
   ]
  },
  {
   "cell_type": "code",
   "execution_count": 42,
   "metadata": {},
   "outputs": [
    {
     "data": {
      "text/html": [
       "<div>\n",
       "<style scoped>\n",
       "    .dataframe tbody tr th:only-of-type {\n",
       "        vertical-align: middle;\n",
       "    }\n",
       "\n",
       "    .dataframe tbody tr th {\n",
       "        vertical-align: top;\n",
       "    }\n",
       "\n",
       "    .dataframe thead th {\n",
       "        text-align: right;\n",
       "    }\n",
       "</style>\n",
       "<table border=\"1\" class=\"dataframe\">\n",
       "  <thead>\n",
       "    <tr style=\"text-align: right;\">\n",
       "      <th></th>\n",
       "      <th>anos_carreira</th>\n",
       "      <th>formacao</th>\n",
       "      <th>qntd_procedimentos</th>\n",
       "    </tr>\n",
       "  </thead>\n",
       "  <tbody>\n",
       "    <tr>\n",
       "      <th>0</th>\n",
       "      <td>18</td>\n",
       "      <td>0</td>\n",
       "      <td>31</td>\n",
       "    </tr>\n",
       "    <tr>\n",
       "      <th>1</th>\n",
       "      <td>17</td>\n",
       "      <td>0</td>\n",
       "      <td>31</td>\n",
       "    </tr>\n",
       "    <tr>\n",
       "      <th>2</th>\n",
       "      <td>24</td>\n",
       "      <td>1</td>\n",
       "      <td>45</td>\n",
       "    </tr>\n",
       "    <tr>\n",
       "      <th>3</th>\n",
       "      <td>14</td>\n",
       "      <td>0</td>\n",
       "      <td>27</td>\n",
       "    </tr>\n",
       "    <tr>\n",
       "      <th>4</th>\n",
       "      <td>10</td>\n",
       "      <td>0</td>\n",
       "      <td>27</td>\n",
       "    </tr>\n",
       "    <tr>\n",
       "      <th>...</th>\n",
       "      <td>...</td>\n",
       "      <td>...</td>\n",
       "      <td>...</td>\n",
       "    </tr>\n",
       "    <tr>\n",
       "      <th>4025</th>\n",
       "      <td>9</td>\n",
       "      <td>0</td>\n",
       "      <td>30</td>\n",
       "    </tr>\n",
       "    <tr>\n",
       "      <th>4026</th>\n",
       "      <td>27</td>\n",
       "      <td>1</td>\n",
       "      <td>45</td>\n",
       "    </tr>\n",
       "    <tr>\n",
       "      <th>4027</th>\n",
       "      <td>0</td>\n",
       "      <td>0</td>\n",
       "      <td>21</td>\n",
       "    </tr>\n",
       "    <tr>\n",
       "      <th>4028</th>\n",
       "      <td>9</td>\n",
       "      <td>0</td>\n",
       "      <td>28</td>\n",
       "    </tr>\n",
       "    <tr>\n",
       "      <th>4029</th>\n",
       "      <td>14</td>\n",
       "      <td>0</td>\n",
       "      <td>21</td>\n",
       "    </tr>\n",
       "  </tbody>\n",
       "</table>\n",
       "<p>4030 rows × 3 columns</p>\n",
       "</div>"
      ],
      "text/plain": [
       "      anos_carreira  formacao  qntd_procedimentos\n",
       "0                18         0                  31\n",
       "1                17         0                  31\n",
       "2                24         1                  45\n",
       "3                14         0                  27\n",
       "4                10         0                  27\n",
       "...             ...       ...                 ...\n",
       "4025              9         0                  30\n",
       "4026             27         1                  45\n",
       "4027              0         0                  21\n",
       "4028              9         0                  28\n",
       "4029             14         0                  21\n",
       "\n",
       "[4030 rows x 3 columns]"
      ]
     },
     "execution_count": 42,
     "metadata": {},
     "output_type": "execute_result"
    }
   ],
   "source": [
    "# Retirando colunas irrelevantes para as variáveis independentes\n",
    "df_rln = df_rln_comp.drop(['casos_sucesso(%)','especialista_entubacao','prestador_id','prestador_nome','prestador_genero','procedimento_cod','prestador_cobranca_media','medcare_cobranca_media_permitida','medcare_pagamento_medio_padronizado','prestador_estado_instituicao', 'contratar_score', 'contratar','habilidade_score'], axis=1)\n",
    "df_rln"
   ]
  },
  {
   "cell_type": "markdown",
   "metadata": {},
   "source": [
    "#### Dividindo os dados em variáveis"
   ]
  },
  {
   "cell_type": "code",
   "execution_count": 43,
   "metadata": {},
   "outputs": [],
   "source": [
    "# Definindo x variáveis independentes e y variável alvo \n",
    "x = df_rln.values\n",
    "y= df_rln_comp['casos_sucesso(%)'].values"
   ]
  },
  {
   "cell_type": "markdown",
   "metadata": {},
   "source": [
    "#### Analisando pressupostos  "
   ]
  },
  {
   "cell_type": "code",
   "execution_count": 44,
   "metadata": {},
   "outputs": [
    {
     "data": {
      "text/plain": [
       "Text(0.5, 1.0, 'Linear Relationship Exists')"
      ]
     },
     "execution_count": 44,
     "metadata": {},
     "output_type": "execute_result"
    },
    {
     "data": {
      "image/png": "[encoded data removed]",
      "text/plain": [
       "<Figure size 432x288 with 1 Axes>"
      ]
     },
     "metadata": {
      "needs_background": "light"
     },
     "output_type": "display_data"
    }
   ],
   "source": [
    "# Plotando relação linear entre independente ['anos_carreira'] e dependente\n",
    "x = df_rln['anos_carreira']\n",
    "x, y = make_regression(n_samples=100, n_features=1, noise=10)\n",
    "plt.plot(x, y, 'o', color='black');\n",
    "plt.title(\"Linear Relationship Exists\")"
   ]
  },
  {
   "cell_type": "code",
   "execution_count": 45,
   "metadata": {},
   "outputs": [
    {
     "data": {
      "text/plain": [
       "Text(0.5, 1.0, 'Linear Relationship Exists')"
      ]
     },
     "execution_count": 45,
     "metadata": {},
     "output_type": "execute_result"
    },
    {
     "data": {
      "image/png": "[encoded data removed]",
      "text/plain": [
       "<Figure size 432x288 with 1 Axes>"
      ]
     },
     "metadata": {
      "needs_background": "light"
     },
     "output_type": "display_data"
    }
   ],
   "source": [
    "# Plotando relação linear entre independente ['formacao'] e dependente\n",
    "x = df_rln['formacao']\n",
    "x, y = make_regression(n_samples=100, n_features=1, noise=10)\n",
    "plt.plot(x, y, 'o', color='black');\n",
    "plt.title(\"Linear Relationship Exists\")"
   ]
  },
  {
   "cell_type": "code",
   "execution_count": 46,
   "metadata": {},
   "outputs": [
    {
     "data": {
      "text/plain": [
       "Text(0.5, 1.0, 'Linear Relationship Exists')"
      ]
     },
     "execution_count": 46,
     "metadata": {},
     "output_type": "execute_result"
    },
    {
     "data": {
      "image/png": "[encoded data removed]",
      "text/plain": [
       "<Figure size 432x288 with 1 Axes>"
      ]
     },
     "metadata": {
      "needs_background": "light"
     },
     "output_type": "display_data"
    }
   ],
   "source": [
    "# Plotando relação linear entre independente ['qntd_procedimentos'] e dependente\n",
    "x = df_rln['qntd_procedimentos']\n",
    "x, y = make_regression(n_samples=100, n_features=1, noise=10)\n",
    "plt.plot(x, y, 'o', color='black');\n",
    "plt.title(\"Linear Relationship Exists\")"
   ]
  },
  {
   "cell_type": "markdown",
   "metadata": {},
   "source": [
    "O primeiro pressuposto a ser verificado é a relação linear entre as variáveis independentes, com a variável dependente, isto é, ao plotarmos um gráfico de dispersão apuraremos se podemos traçar uma função de reta que acompanhe todos os dados, no nosso caso temos esse pressuposto cumprido."
   ]
  },
  {
   "cell_type": "markdown",
   "metadata": {},
   "source": [
    "#### Construindo e analisando Q-Q Plot"
   ]
  },
  {
   "cell_type": "code",
   "execution_count": 47,
   "metadata": {},
   "outputs": [
    {
     "data": {
      "image/png": "[encoded data removed]",
      "text/plain": [
       "<Figure size 432x288 with 1 Axes>"
      ]
     },
     "metadata": {
      "needs_background": "light"
     },
     "output_type": "display_data"
    }
   ],
   "source": [
    "# Gráfico que plota as distribuições e probabilidades para quantidade de procedimentos\n",
    "x = df_rln['qntd_procedimentos']\n",
    "stats.probplot(x, dist=\"norm\", plot=plt)\n",
    "plt.show()"
   ]
  },
  {
   "cell_type": "code",
   "execution_count": 48,
   "metadata": {},
   "outputs": [
    {
     "data": {
      "image/png": "[encoded data removed]",
      "text/plain": [
       "<Figure size 432x288 with 1 Axes>"
      ]
     },
     "metadata": {
      "needs_background": "light"
     },
     "output_type": "display_data"
    }
   ],
   "source": [
    "# Gráfico que plota as distribuições e probabilidades para grau de formação\n",
    "x = df_rln['formacao']\n",
    "stats.probplot(x, dist=\"norm\", plot=plt)\n",
    "plt.show()"
   ]
  },
  {
   "cell_type": "code",
   "execution_count": 49,
   "metadata": {},
   "outputs": [
    {
     "data": {
      "image/png": "[encoded data removed]",
      "text/plain": [
       "<Figure size 432x288 with 1 Axes>"
      ]
     },
     "metadata": {
      "needs_background": "light"
     },
     "output_type": "display_data"
    }
   ],
   "source": [
    "# Gráfico que plota as distribuições e probabilidades para anos de carreira\n",
    "x = df_rln['anos_carreira']\n",
    "stats.probplot(x, dist=\"norm\", plot=plt)\n",
    "plt.show()"
   ]
  },
  {
   "cell_type": "markdown",
   "metadata": {},
   "source": [
    "O Q-Q plot é um gráfico de dispersão que verifica se os quartis do seu data possuem uma distribuição normal, comprando a distribuição dos quartis com uma distribuição normal, e verificando com uma linha reta se a maior parte do seus pontos estão sendo traçados por essa linha.\n",
    "No nosso modelo apenas dos dados da coluna de quantidade de procedimentos (primeira coluna), atende a esse pressuposto."
   ]
  },
  {
   "cell_type": "markdown",
   "metadata": {},
   "source": [
    "#### Checando multicolinearidade"
   ]
  },
  {
   "cell_type": "code",
   "execution_count": 50,
   "metadata": {},
   "outputs": [
    {
     "data": {
      "text/html": [
       "<style type=\"text/css\">\n",
       "#T_a63b6_row0_col0, #T_a63b6_row1_col1, #T_a63b6_row2_col2 {\n",
       "  background-color: #00441b;\n",
       "  color: #f1f1f1;\n",
       "}\n",
       "#T_a63b6_row0_col1, #T_a63b6_row1_col0, #T_a63b6_row1_col2, #T_a63b6_row2_col1 {\n",
       "  background-color: #f7fcf5;\n",
       "  color: #000000;\n",
       "}\n",
       "#T_a63b6_row0_col2, #T_a63b6_row2_col0 {\n",
       "  background-color: #0b7734;\n",
       "  color: #f1f1f1;\n",
       "}\n",
       "</style>\n",
       "<table id=\"T_a63b6\">\n",
       "  <thead>\n",
       "    <tr>\n",
       "      <th class=\"blank level0\" >&nbsp;</th>\n",
       "      <th id=\"T_a63b6_level0_col0\" class=\"col_heading level0 col0\" >anos_carreira</th>\n",
       "      <th id=\"T_a63b6_level0_col1\" class=\"col_heading level0 col1\" >formacao</th>\n",
       "      <th id=\"T_a63b6_level0_col2\" class=\"col_heading level0 col2\" >qntd_procedimentos</th>\n",
       "    </tr>\n",
       "  </thead>\n",
       "  <tbody>\n",
       "    <tr>\n",
       "      <th id=\"T_a63b6_level0_row0\" class=\"row_heading level0 row0\" >anos_carreira</th>\n",
       "      <td id=\"T_a63b6_row0_col0\" class=\"data row0 col0\" >1.000000</td>\n",
       "      <td id=\"T_a63b6_row0_col1\" class=\"data row0 col1\" >0.484561</td>\n",
       "      <td id=\"T_a63b6_row0_col2\" class=\"data row0 col2\" >0.914120</td>\n",
       "    </tr>\n",
       "    <tr>\n",
       "      <th id=\"T_a63b6_level0_row1\" class=\"row_heading level0 row1\" >formacao</th>\n",
       "      <td id=\"T_a63b6_row1_col0\" class=\"data row1 col0\" >0.484561</td>\n",
       "      <td id=\"T_a63b6_row1_col1\" class=\"data row1 col1\" >1.000000</td>\n",
       "      <td id=\"T_a63b6_row1_col2\" class=\"data row1 col2\" >0.483733</td>\n",
       "    </tr>\n",
       "    <tr>\n",
       "      <th id=\"T_a63b6_level0_row2\" class=\"row_heading level0 row2\" >qntd_procedimentos</th>\n",
       "      <td id=\"T_a63b6_row2_col0\" class=\"data row2 col0\" >0.914120</td>\n",
       "      <td id=\"T_a63b6_row2_col1\" class=\"data row2 col1\" >0.483733</td>\n",
       "      <td id=\"T_a63b6_row2_col2\" class=\"data row2 col2\" >1.000000</td>\n",
       "    </tr>\n",
       "  </tbody>\n",
       "</table>\n"
      ],
      "text/plain": [
       "<pandas.io.formats.style.Styler at 0x7f01aa31b100>"
      ]
     },
     "execution_count": 50,
     "metadata": {},
     "output_type": "execute_result"
    }
   ],
   "source": [
    "# Imprimindo correlações \n",
    "corr = df_rln.corr()\n",
    "corr.style.background_gradient(cmap='Greens')"
   ]
  },
  {
   "cell_type": "markdown",
   "metadata": {},
   "source": [
    "A regressão linear múltipla assume que nenhuma das variáveis ​​preditoras são altamente correlacionadas entre si.\n",
    "\n",
    "Quando uma ou mais variáveis ​​preditoras são altamente correlacionadas, o modelo de regressão sofre de multicolinearidade, o que faz com que as estimativas dos coeficientes no modelo se tornem não confiáveis. No nosso modelo esse pressuposto foi atendido."
   ]
  },
  {
   "cell_type": "markdown",
   "metadata": {},
   "source": [
    "#### Dividindo dataset de treino e teste"
   ]
  },
  {
   "cell_type": "code",
   "execution_count": 51,
   "metadata": {},
   "outputs": [],
   "source": [
    "# Definindo x variáveis independentes e y variável alvo \n",
    "x = df_rln.values\n",
    "y= df_rln_comp['casos_sucesso(%)'].values"
   ]
  },
  {
   "cell_type": "code",
   "execution_count": 52,
   "metadata": {},
   "outputs": [],
   "source": [
    "x_train,x_test,y_train,y_test =train_test_split(x,y,test_size=0.33, random_state=0)"
   ]
  },
  {
   "cell_type": "markdown",
   "metadata": {},
   "source": [
    "#### Treinando modelo de regressão linear múltipla"
   ]
  },
  {
   "cell_type": "code",
   "execution_count": 53,
   "metadata": {},
   "outputs": [],
   "source": [
    "ml = LinearRegression()\n",
    "ml.fit(x_train,y_train)\n",
    "\n",
    "\n",
    "# compilando modelo em um arquivo .pkl\n",
    "pickle.dump(ml, open('./modelos_pkl/model_ml.pkl', 'wb'))"
   ]
  },
  {
   "cell_type": "markdown",
   "metadata": {},
   "source": [
    "#### Avaliando o modelo"
   ]
  },
  {
   "cell_type": "code",
   "execution_count": 54,
   "metadata": {},
   "outputs": [
    {
     "name": "stdout",
     "output_type": "stream",
     "text": [
      "[83.31246398 74.89098982 80.32375138 ... 88.85889009 84.84572482\n",
      " 95.35805795]\n"
     ]
    }
   ],
   "source": [
    "# Prevendo a porcentagem de casos de sucesso com base nos dados de teste x\n",
    "y_pred = ml.predict(x_test)\n",
    "print(y_pred)"
   ]
  },
  {
   "cell_type": "code",
   "execution_count": 55,
   "metadata": {},
   "outputs": [
    {
     "name": "stdout",
     "output_type": "stream",
     "text": [
      "Valor de R ao quadrado 0.6152962126905352\n"
     ]
    }
   ],
   "source": [
    "# Imprimindo a porcentagem de explicação da variância dos dados \n",
    "print(f'Valor de R ao quadrado {r2_score(y_test,y_pred)}')"
   ]
  },
  {
   "cell_type": "markdown",
   "metadata": {},
   "source": [
    "$R^2$ é a taxa de quantos % o nosso modelo representa melhor a correlação entre os dados, que a média, isso com base nos resíduos quadrados.\n",
    "Nosso modelo teve um resultado de 88%, o que é muito bom valor real, previsto e resíduo"
   ]
  },
  {
   "cell_type": "code",
   "execution_count": 56,
   "metadata": {},
   "outputs": [
    {
     "data": {
      "text/html": [
       "<div>\n",
       "<style scoped>\n",
       "    .dataframe tbody tr th:only-of-type {\n",
       "        vertical-align: middle;\n",
       "    }\n",
       "\n",
       "    .dataframe tbody tr th {\n",
       "        vertical-align: top;\n",
       "    }\n",
       "\n",
       "    .dataframe thead th {\n",
       "        text-align: right;\n",
       "    }\n",
       "</style>\n",
       "<table border=\"1\" class=\"dataframe\">\n",
       "  <thead>\n",
       "    <tr style=\"text-align: right;\">\n",
       "      <th></th>\n",
       "      <th>Valores reais</th>\n",
       "      <th>Valor previsto</th>\n",
       "      <th>Difference</th>\n",
       "    </tr>\n",
       "  </thead>\n",
       "  <tbody>\n",
       "    <tr>\n",
       "      <th>0</th>\n",
       "      <td>81</td>\n",
       "      <td>83.312464</td>\n",
       "      <td>-2.312464</td>\n",
       "    </tr>\n",
       "    <tr>\n",
       "      <th>1</th>\n",
       "      <td>80</td>\n",
       "      <td>74.890990</td>\n",
       "      <td>5.109010</td>\n",
       "    </tr>\n",
       "    <tr>\n",
       "      <th>2</th>\n",
       "      <td>84</td>\n",
       "      <td>80.323751</td>\n",
       "      <td>3.676249</td>\n",
       "    </tr>\n",
       "    <tr>\n",
       "      <th>3</th>\n",
       "      <td>86</td>\n",
       "      <td>93.980415</td>\n",
       "      <td>-7.980415</td>\n",
       "    </tr>\n",
       "    <tr>\n",
       "      <th>4</th>\n",
       "      <td>73</td>\n",
       "      <td>77.335039</td>\n",
       "      <td>-4.335039</td>\n",
       "    </tr>\n",
       "    <tr>\n",
       "      <th>5</th>\n",
       "      <td>82</td>\n",
       "      <td>79.466042</td>\n",
       "      <td>2.533958</td>\n",
       "    </tr>\n",
       "    <tr>\n",
       "      <th>6</th>\n",
       "      <td>82</td>\n",
       "      <td>84.441265</td>\n",
       "      <td>-2.441265</td>\n",
       "    </tr>\n",
       "    <tr>\n",
       "      <th>7</th>\n",
       "      <td>80</td>\n",
       "      <td>81.961361</td>\n",
       "      <td>-1.961361</td>\n",
       "    </tr>\n",
       "    <tr>\n",
       "      <th>8</th>\n",
       "      <td>76</td>\n",
       "      <td>78.088399</td>\n",
       "      <td>-2.088399</td>\n",
       "    </tr>\n",
       "    <tr>\n",
       "      <th>9</th>\n",
       "      <td>84</td>\n",
       "      <td>83.650240</td>\n",
       "      <td>0.349760</td>\n",
       "    </tr>\n",
       "  </tbody>\n",
       "</table>\n",
       "</div>"
      ],
      "text/plain": [
       "   Valores reais  Valor previsto  Difference\n",
       "0             81       83.312464   -2.312464\n",
       "1             80       74.890990    5.109010\n",
       "2             84       80.323751    3.676249\n",
       "3             86       93.980415   -7.980415\n",
       "4             73       77.335039   -4.335039\n",
       "5             82       79.466042    2.533958\n",
       "6             82       84.441265   -2.441265\n",
       "7             80       81.961361   -1.961361\n",
       "8             76       78.088399   -2.088399\n",
       "9             84       83.650240    0.349760"
      ]
     },
     "execution_count": 56,
     "metadata": {},
     "output_type": "execute_result"
    }
   ],
   "source": [
    "# Imprimindo os valores reais, predito e o resíduo\n",
    "pred_y_df=pd.DataFrame({'Valores reais' :y_test, 'Valor previsto':y_pred, 'Difference': y_test-y_pred})\n",
    "pred_y_df[0:10]"
   ]
  },
  {
   "cell_type": "markdown",
   "metadata": {},
   "source": [
    "Esta tabela nos ajuda a visualizar o desempenho do modelo com base nos resíduos (difference), quanto mais o valor dos resíduos se aproximarem de zero melhor foi a predição. "
   ]
  },
  {
   "cell_type": "markdown",
   "metadata": {},
   "source": [
    "#### Checando homoscedasticidade"
   ]
  },
  {
   "cell_type": "code",
   "execution_count": 57,
   "metadata": {},
   "outputs": [
    {
     "data": {
      "image/png": "[encoded data removed]",
      "text/plain": [
       "<Figure size 1080x720 with 1 Axes>"
      ]
     },
     "metadata": {
      "needs_background": "light"
     },
     "output_type": "display_data"
    }
   ],
   "source": [
    "# Gráfico que mostra se os erros da predição tem, variância homogêneos \n",
    "residos = y_test - y_pred\n",
    "plt.figure(figsize=(15,10))\n",
    "plt.scatter(y_pred, residos, color='green')\n",
    "plt.show()"
   ]
  },
  {
   "cell_type": "markdown",
   "metadata": {},
   "source": [
    "O pressuposto de homoscedasticidade avalia se a variância dos dados é homogenia, assim resultando numa predição linear. Se a variância apresentar deslocamentos mais ao longo da reta, por exemplo, isso significa que conforme os dados vão aumentando o modelo tende a errar mais.\n",
    "\n",
    "O nosso modelo atende esse pressuposto\n"
   ]
  },
  {
   "cell_type": "markdown",
   "metadata": {},
   "source": [
    "#### Analisando resultados da predição"
   ]
  },
  {
   "cell_type": "code",
   "execution_count": 58,
   "metadata": {},
   "outputs": [
    {
     "data": {
      "text/plain": [
       "Text(0.5, 1.0, 'real vs predito')"
      ]
     },
     "execution_count": 58,
     "metadata": {},
     "output_type": "execute_result"
    },
    {
     "data": {
      "image/png": "[encoded data removed]",
      "text/plain": [
       "<Figure size 1080x720 with 1 Axes>"
      ]
     },
     "metadata": {
      "needs_background": "light"
     },
     "output_type": "display_data"
    }
   ],
   "source": [
    "# Gráfico que demonstra os valores reais VS os valores preditos\n",
    "plt.figure(figsize =(15,10))\n",
    "plt.scatter(y_test,y_pred, color='green')\n",
    "plt.xlabel('Real')\n",
    "plt.ylabel('Predito')\n",
    "plt.title('real vs predito')"
   ]
  },
  {
   "cell_type": "markdown",
   "metadata": {},
   "source": [
    "Esse gráfico nos ajuda enxergar se os dados reais e os resultados preditos foram próximos, e podemos notar pela forma como os dados estão dispostos que obtemos os valores bem similares, provando a boa performance do modelo."
   ]
  },
  {
   "cell_type": "markdown",
   "metadata": {},
   "source": [
    "#### Classificando o melhor médico"
   ]
  },
  {
   "cell_type": "code",
   "execution_count": 59,
   "metadata": {},
   "outputs": [],
   "source": [
    "# Testando o modelo\n",
    "predict = ml.predict([[5,0,18]])"
   ]
  },
  {
   "cell_type": "code",
   "execution_count": 60,
   "metadata": {},
   "outputs": [
    {
     "data": {
      "text/plain": [
       "(anos_carreira                                  26\n",
       " formacao                                        1\n",
       " casos_sucesso(%)                               81\n",
       " qntd_procedimentos                             45\n",
       " especialista_entubacao                          1\n",
       " prestador_id                           1053414326\n",
       " prestador_nome                            Jeffrey\n",
       " prestador_genero                                0\n",
       " procedimento_cod                            31500\n",
       " prestador_cobranca_media                    349.0\n",
       " medcare_cobranca_media_permitida           135.01\n",
       " medcare_pagamento_medio_padronizado        114.99\n",
       " prestador_estado_instituicao                    1\n",
       " contratar_score                                 0\n",
       " contratar                                       0\n",
       " habilidade_score                               59\n",
       " Name: 202, dtype: object,\n",
       " <pandas.core.indexing._LocIndexer at 0x7f01a127a040>)"
      ]
     },
     "execution_count": 60,
     "metadata": {},
     "output_type": "execute_result"
    }
   ],
   "source": [
    "# Classificando qual médico é o melhor para o procedimento com base na porcentagem de casos de sucesso\n",
    "p_array = predict[0].astype(np.float)\n",
    "result_index = df_rln_comp['casos_sucesso(%)'].sub(p_array).abs().idxmin()\n",
    "df_predito = df_rln_comp.loc[202], df_rln_comp.loc\n",
    "df_predito"
   ]
  },
  {
   "cell_type": "markdown",
   "metadata": {},
   "source": [
    "#### Conclusão\n",
    "\n",
    "Com base no nosso objetivo podemos afirmar que nosso modelo teve sucesso em predizer os melhores médicos. Com um melhora nos erros de 88% em relação a cálculos que relacionam as médias, e ainda atendendo quase 100% dos pressupostos necessários para que o modelo tenha o melhor resultado possível, pressupostos esses pouco utilizados entre profissionais. Podemos selecionar os médicos com base em seus anos de experiencia, formação e quantidade de procedimentos ja feitos.\n",
    "\n",
    "Como pretendemos utilizar este modelo para predizer o melhor médico, iremos conseguir saciando as preocupações das famílias, prevendo o melhor médico a partir da maior angustia familiar."
   ]
  },
  {
   "cell_type": "markdown",
   "metadata": {},
   "source": [
    "### Regressão Logística\n",
    "\n",
    "Regressão logística pode ser definido como uma técnica estatística que busca produzir (usando um conjunto de observações) um modelo que possibilita predizer os valores tomados por uma variável categórica. Ao utilizarmos este tipo de regressão os resultados podem ser mostrados em formato de probabilidade, além de conseguirmos classificar os indivíduos em categorias com um alto grau de confiabilidade nos resultados.\n",
    "\n",
    "Aplicaremos o modelo de regressão logística ao dataset de indicadores médicos com a intencionalidade de ajudarmos na contratação de novos médicos de urgência para o Hospital. Utilizamos como parâmetros no modelo, se o prestador mora no local da instalação médica, os anos de carreira, o grau de sua formação e se tem especialização em entubação, podendo assim explorar as chances do prestador ser contratado ou não."
   ]
  },
  {
   "cell_type": "markdown",
   "metadata": {},
   "source": [
    "#### Importando os dados"
   ]
  },
  {
   "cell_type": "code",
   "execution_count": 61,
   "metadata": {},
   "outputs": [
    {
     "data": {
      "text/html": [
       "<div>\n",
       "<style scoped>\n",
       "    .dataframe tbody tr th:only-of-type {\n",
       "        vertical-align: middle;\n",
       "    }\n",
       "\n",
       "    .dataframe tbody tr th {\n",
       "        vertical-align: top;\n",
       "    }\n",
       "\n",
       "    .dataframe thead th {\n",
       "        text-align: right;\n",
       "    }\n",
       "</style>\n",
       "<table border=\"1\" class=\"dataframe\">\n",
       "  <thead>\n",
       "    <tr style=\"text-align: right;\">\n",
       "      <th></th>\n",
       "      <th>anos_carreira</th>\n",
       "      <th>formacao</th>\n",
       "      <th>casos_sucesso(%)</th>\n",
       "      <th>qntd_procedimentos</th>\n",
       "      <th>especialista_entubacao</th>\n",
       "      <th>prestador_id</th>\n",
       "      <th>prestador_nome</th>\n",
       "      <th>prestador_genero</th>\n",
       "      <th>procedimento_cod</th>\n",
       "      <th>prestador_cobranca_media</th>\n",
       "      <th>medcare_cobranca_media_permitida</th>\n",
       "      <th>medcare_pagamento_medio_padronizado</th>\n",
       "      <th>prestador_estado_instituicao</th>\n",
       "      <th>contratar_score</th>\n",
       "      <th>contratar</th>\n",
       "      <th>habilidade_score</th>\n",
       "    </tr>\n",
       "  </thead>\n",
       "  <tbody>\n",
       "    <tr>\n",
       "      <th>0</th>\n",
       "      <td>18</td>\n",
       "      <td>0</td>\n",
       "      <td>99</td>\n",
       "      <td>31</td>\n",
       "      <td>0</td>\n",
       "      <td>1003012022</td>\n",
       "      <td>Corey</td>\n",
       "      <td>0</td>\n",
       "      <td>31500</td>\n",
       "      <td>367.00</td>\n",
       "      <td>126.09</td>\n",
       "      <td>117.04</td>\n",
       "      <td>1</td>\n",
       "      <td>50</td>\n",
       "      <td>1</td>\n",
       "      <td>0</td>\n",
       "    </tr>\n",
       "    <tr>\n",
       "      <th>1</th>\n",
       "      <td>17</td>\n",
       "      <td>0</td>\n",
       "      <td>80</td>\n",
       "      <td>31</td>\n",
       "      <td>0</td>\n",
       "      <td>1003012477</td>\n",
       "      <td>Ariel</td>\n",
       "      <td>0</td>\n",
       "      <td>31500</td>\n",
       "      <td>228.00</td>\n",
       "      <td>145.11</td>\n",
       "      <td>115.00</td>\n",
       "      <td>1</td>\n",
       "      <td>75</td>\n",
       "      <td>1</td>\n",
       "      <td>0</td>\n",
       "    </tr>\n",
       "    <tr>\n",
       "      <th>2</th>\n",
       "      <td>24</td>\n",
       "      <td>1</td>\n",
       "      <td>80</td>\n",
       "      <td>45</td>\n",
       "      <td>1</td>\n",
       "      <td>1003020348</td>\n",
       "      <td>Jennifer</td>\n",
       "      <td>1</td>\n",
       "      <td>31500</td>\n",
       "      <td>410.00</td>\n",
       "      <td>134.44</td>\n",
       "      <td>114.99</td>\n",
       "      <td>1</td>\n",
       "      <td>0</td>\n",
       "      <td>0</td>\n",
       "      <td>59</td>\n",
       "    </tr>\n",
       "    <tr>\n",
       "      <th>3</th>\n",
       "      <td>14</td>\n",
       "      <td>0</td>\n",
       "      <td>74</td>\n",
       "      <td>27</td>\n",
       "      <td>0</td>\n",
       "      <td>1003033317</td>\n",
       "      <td>Barry</td>\n",
       "      <td>0</td>\n",
       "      <td>31500</td>\n",
       "      <td>187.00</td>\n",
       "      <td>146.10</td>\n",
       "      <td>115.00</td>\n",
       "      <td>1</td>\n",
       "      <td>75</td>\n",
       "      <td>1</td>\n",
       "      <td>0</td>\n",
       "    </tr>\n",
       "    <tr>\n",
       "      <th>4</th>\n",
       "      <td>10</td>\n",
       "      <td>0</td>\n",
       "      <td>73</td>\n",
       "      <td>27</td>\n",
       "      <td>0</td>\n",
       "      <td>1003042342</td>\n",
       "      <td>Mostafa</td>\n",
       "      <td>0</td>\n",
       "      <td>31500</td>\n",
       "      <td>300.00</td>\n",
       "      <td>151.11</td>\n",
       "      <td>115.00</td>\n",
       "      <td>0</td>\n",
       "      <td>0</td>\n",
       "      <td>0</td>\n",
       "      <td>0</td>\n",
       "    </tr>\n",
       "    <tr>\n",
       "      <th>...</th>\n",
       "      <td>...</td>\n",
       "      <td>...</td>\n",
       "      <td>...</td>\n",
       "      <td>...</td>\n",
       "      <td>...</td>\n",
       "      <td>...</td>\n",
       "      <td>...</td>\n",
       "      <td>...</td>\n",
       "      <td>...</td>\n",
       "      <td>...</td>\n",
       "      <td>...</td>\n",
       "      <td>...</td>\n",
       "      <td>...</td>\n",
       "      <td>...</td>\n",
       "      <td>...</td>\n",
       "      <td>...</td>\n",
       "    </tr>\n",
       "    <tr>\n",
       "      <th>4025</th>\n",
       "      <td>9</td>\n",
       "      <td>0</td>\n",
       "      <td>76</td>\n",
       "      <td>30</td>\n",
       "      <td>0</td>\n",
       "      <td>1992908065</td>\n",
       "      <td>Richard</td>\n",
       "      <td>0</td>\n",
       "      <td>31500</td>\n",
       "      <td>292.00</td>\n",
       "      <td>133.05</td>\n",
       "      <td>114.58</td>\n",
       "      <td>1</td>\n",
       "      <td>75</td>\n",
       "      <td>1</td>\n",
       "      <td>0</td>\n",
       "    </tr>\n",
       "    <tr>\n",
       "      <th>4026</th>\n",
       "      <td>27</td>\n",
       "      <td>1</td>\n",
       "      <td>83</td>\n",
       "      <td>45</td>\n",
       "      <td>1</td>\n",
       "      <td>1992936256</td>\n",
       "      <td>Jose</td>\n",
       "      <td>0</td>\n",
       "      <td>31500</td>\n",
       "      <td>350.00</td>\n",
       "      <td>135.07</td>\n",
       "      <td>115.00</td>\n",
       "      <td>1</td>\n",
       "      <td>0</td>\n",
       "      <td>0</td>\n",
       "      <td>59</td>\n",
       "    </tr>\n",
       "    <tr>\n",
       "      <th>4027</th>\n",
       "      <td>0</td>\n",
       "      <td>0</td>\n",
       "      <td>69</td>\n",
       "      <td>21</td>\n",
       "      <td>0</td>\n",
       "      <td>1992969604</td>\n",
       "      <td>William</td>\n",
       "      <td>0</td>\n",
       "      <td>31500</td>\n",
       "      <td>210.00</td>\n",
       "      <td>141.08</td>\n",
       "      <td>115.00</td>\n",
       "      <td>1</td>\n",
       "      <td>42</td>\n",
       "      <td>1</td>\n",
       "      <td>0</td>\n",
       "    </tr>\n",
       "    <tr>\n",
       "      <th>4028</th>\n",
       "      <td>9</td>\n",
       "      <td>0</td>\n",
       "      <td>73</td>\n",
       "      <td>28</td>\n",
       "      <td>0</td>\n",
       "      <td>1992971287</td>\n",
       "      <td>Mary</td>\n",
       "      <td>1</td>\n",
       "      <td>31500</td>\n",
       "      <td>417.86</td>\n",
       "      <td>133.97</td>\n",
       "      <td>112.21</td>\n",
       "      <td>1</td>\n",
       "      <td>74</td>\n",
       "      <td>1</td>\n",
       "      <td>0</td>\n",
       "    </tr>\n",
       "    <tr>\n",
       "      <th>4029</th>\n",
       "      <td>14</td>\n",
       "      <td>0</td>\n",
       "      <td>88</td>\n",
       "      <td>21</td>\n",
       "      <td>0</td>\n",
       "      <td>1992994073</td>\n",
       "      <td>Harjoth</td>\n",
       "      <td>0</td>\n",
       "      <td>31500</td>\n",
       "      <td>222.97</td>\n",
       "      <td>143.60</td>\n",
       "      <td>114.98</td>\n",
       "      <td>0</td>\n",
       "      <td>0</td>\n",
       "      <td>0</td>\n",
       "      <td>0</td>\n",
       "    </tr>\n",
       "  </tbody>\n",
       "</table>\n",
       "<p>4030 rows × 16 columns</p>\n",
       "</div>"
      ],
      "text/plain": [
       "      anos_carreira  formacao  casos_sucesso(%)  qntd_procedimentos  \\\n",
       "0                18         0                99                  31   \n",
       "1                17         0                80                  31   \n",
       "2                24         1                80                  45   \n",
       "3                14         0                74                  27   \n",
       "4                10         0                73                  27   \n",
       "...             ...       ...               ...                 ...   \n",
       "4025              9         0                76                  30   \n",
       "4026             27         1                83                  45   \n",
       "4027              0         0                69                  21   \n",
       "4028              9         0                73                  28   \n",
       "4029             14         0                88                  21   \n",
       "\n",
       "      especialista_entubacao  prestador_id prestador_nome  prestador_genero  \\\n",
       "0                          0    1003012022          Corey                 0   \n",
       "1                          0    1003012477          Ariel                 0   \n",
       "2                          1    1003020348       Jennifer                 1   \n",
       "3                          0    1003033317          Barry                 0   \n",
       "4                          0    1003042342        Mostafa                 0   \n",
       "...                      ...           ...            ...               ...   \n",
       "4025                       0    1992908065        Richard                 0   \n",
       "4026                       1    1992936256           Jose                 0   \n",
       "4027                       0    1992969604        William                 0   \n",
       "4028                       0    1992971287           Mary                 1   \n",
       "4029                       0    1992994073        Harjoth                 0   \n",
       "\n",
       "      procedimento_cod  prestador_cobranca_media  \\\n",
       "0                31500                    367.00   \n",
       "1                31500                    228.00   \n",
       "2                31500                    410.00   \n",
       "3                31500                    187.00   \n",
       "4                31500                    300.00   \n",
       "...                ...                       ...   \n",
       "4025             31500                    292.00   \n",
       "4026             31500                    350.00   \n",
       "4027             31500                    210.00   \n",
       "4028             31500                    417.86   \n",
       "4029             31500                    222.97   \n",
       "\n",
       "      medcare_cobranca_media_permitida  medcare_pagamento_medio_padronizado  \\\n",
       "0                               126.09                               117.04   \n",
       "1                               145.11                               115.00   \n",
       "2                               134.44                               114.99   \n",
       "3                               146.10                               115.00   \n",
       "4                               151.11                               115.00   \n",
       "...                                ...                                  ...   \n",
       "4025                            133.05                               114.58   \n",
       "4026                            135.07                               115.00   \n",
       "4027                            141.08                               115.00   \n",
       "4028                            133.97                               112.21   \n",
       "4029                            143.60                               114.98   \n",
       "\n",
       "      prestador_estado_instituicao  contratar_score  contratar  \\\n",
       "0                                1               50          1   \n",
       "1                                1               75          1   \n",
       "2                                1                0          0   \n",
       "3                                1               75          1   \n",
       "4                                0                0          0   \n",
       "...                            ...              ...        ...   \n",
       "4025                             1               75          1   \n",
       "4026                             1                0          0   \n",
       "4027                             1               42          1   \n",
       "4028                             1               74          1   \n",
       "4029                             0                0          0   \n",
       "\n",
       "      habilidade_score  \n",
       "0                    0  \n",
       "1                    0  \n",
       "2                   59  \n",
       "3                    0  \n",
       "4                    0  \n",
       "...                ...  \n",
       "4025                 0  \n",
       "4026                59  \n",
       "4027                 0  \n",
       "4028                 0  \n",
       "4029                 0  \n",
       "\n",
       "[4030 rows x 16 columns]"
      ]
     },
     "execution_count": 61,
     "metadata": {},
     "output_type": "execute_result"
    }
   ],
   "source": [
    "# Lendo arquivo CSV\n",
    "df_rlg = pd.read_csv('dados_medcare_rotulados.csv')\n",
    "df_rlg"
   ]
  },
  {
   "cell_type": "markdown",
   "metadata": {},
   "source": [
    "#### Visualizando os dados"
   ]
  },
  {
   "cell_type": "code",
   "execution_count": 62,
   "metadata": {},
   "outputs": [
    {
     "data": {
      "text/plain": [
       "1    60.148883\n",
       "0    39.851117\n",
       "Name: contratar, dtype: float64"
      ]
     },
     "execution_count": 62,
     "metadata": {},
     "output_type": "execute_result"
    }
   ],
   "source": [
    "# Retorno dos percentuais da coluna 'contratar'\n",
    "(df_rlg.contratar.value_counts() / df_rlg.shape[0]) * 100"
   ]
  },
  {
   "cell_type": "code",
   "execution_count": 63,
   "metadata": {},
   "outputs": [],
   "source": [
    "# Função que retorna o gráfico com percentual de contratados e não contratados a partir da coluna 'contratar'\n",
    "def freq(x: pd.Series, plot=False):\n",
    "    contagem = x.value_counts()\n",
    "    percentual = round((x.value_counts() / x.shape[0]) * 100, 3)\n",
    "    res = pd.DataFrame({'values': x.unique(), 'n': contagem, 'perc': percentual})\n",
    "    if plot:\n",
    "        sns.countplot(x, palette='Greens')\n",
    "        plt.show()\n",
    "    return res.style.hide_index()"
   ]
  },
  {
   "cell_type": "code",
   "execution_count": 64,
   "metadata": {},
   "outputs": [
    {
     "data": {
      "image/png": "[encoded data removed]",
      "text/plain": [
       "<Figure size 432x288 with 1 Axes>"
      ]
     },
     "metadata": {
      "needs_background": "light"
     },
     "output_type": "display_data"
    },
    {
     "data": {
      "text/html": [
       "<style type=\"text/css\">\n",
       "</style>\n",
       "<table id=\"T_8e767\">\n",
       "  <thead>\n",
       "    <tr>\n",
       "      <th id=\"T_8e767_level0_col0\" class=\"col_heading level0 col0\" >values</th>\n",
       "      <th id=\"T_8e767_level0_col1\" class=\"col_heading level0 col1\" >n</th>\n",
       "      <th id=\"T_8e767_level0_col2\" class=\"col_heading level0 col2\" >perc</th>\n",
       "    </tr>\n",
       "  </thead>\n",
       "  <tbody>\n",
       "    <tr>\n",
       "      <td id=\"T_8e767_row0_col0\" class=\"data row0 col0\" >1</td>\n",
       "      <td id=\"T_8e767_row0_col1\" class=\"data row0 col1\" >2424</td>\n",
       "      <td id=\"T_8e767_row0_col2\" class=\"data row0 col2\" >60.149000</td>\n",
       "    </tr>\n",
       "    <tr>\n",
       "      <td id=\"T_8e767_row1_col0\" class=\"data row1 col0\" >0</td>\n",
       "      <td id=\"T_8e767_row1_col1\" class=\"data row1 col1\" >1606</td>\n",
       "      <td id=\"T_8e767_row1_col2\" class=\"data row1 col2\" >39.851000</td>\n",
       "    </tr>\n",
       "  </tbody>\n",
       "</table>\n"
      ],
      "text/plain": [
       "<pandas.io.formats.style.Styler at 0x7f01a11a3970>"
      ]
     },
     "execution_count": 64,
     "metadata": {},
     "output_type": "execute_result"
    }
   ],
   "source": [
    "# Chamando função e definindo parâmetros \n",
    "freq(df_rlg.contratar, plot=True, )\n"
   ]
  },
  {
   "cell_type": "markdown",
   "metadata": {},
   "source": [
    "#### Dividindo os dados em teste e treinamento"
   ]
  },
  {
   "cell_type": "code",
   "execution_count": 65,
   "metadata": {},
   "outputs": [],
   "source": [
    "# Dividindo entre X variáveis independentes e y variável alvo\n",
    "X = df_rlg[['prestador_estado_instituicao', 'anos_carreira', 'formacao', 'especialista_entubacao', 'prestador_cobranca_media']]\n",
    "y = df_rlg['contratar']\n",
    "X_train,X_test,y_train,y_test = train_test_split(X,y,test_size=0.25,random_state=0)"
   ]
  },
  {
   "cell_type": "markdown",
   "metadata": {},
   "source": [
    "#### Treinando e prevendo o classificador"
   ]
  },
  {
   "cell_type": "code",
   "execution_count": 66,
   "metadata": {},
   "outputs": [],
   "source": [
    "# Treinando a regressão com max_iter=1000 para PESQUISAR\n",
    "logistic_regression= LogisticRegression(max_iter=1000)\n",
    "logistic_regression.fit(X_train,y_train)\n",
    "y_pred=logistic_regression.predict(X_test)\n",
    "\n",
    "# compilando modelo em um arquivo .pkl\n",
    "pickle.dump(logistic_regression, open('./modelos_pkl/model_logistic_regression.pkl', 'wb'))"
   ]
  },
  {
   "cell_type": "markdown",
   "metadata": {},
   "source": [
    "#### Visualizando a Matriz de confusão"
   ]
  },
  {
   "cell_type": "markdown",
   "metadata": {},
   "source": [
    "A maioria das métricas de avaliação de modelos de classificação partem da matriz de confusão, uma matriz onde visualizamos os acertos e erros do modelo. Obtemos a matriz de confusão tabulando os valores observados (linhas) e os valores preditos (colunas). Ela possui, então a seguinte configuração:"
   ]
  },
  {
   "cell_type": "code",
   "execution_count": 67,
   "metadata": {},
   "outputs": [
    {
     "data": {
      "text/plain": [
       "<AxesSubplot:xlabel='Predicted', ylabel='Actual'>"
      ]
     },
     "execution_count": 67,
     "metadata": {},
     "output_type": "execute_result"
    },
    {
     "data": {
      "image/png": "[encoded data removed]",
      "text/plain": [
       "<Figure size 432x288 with 2 Axes>"
      ]
     },
     "metadata": {
      "needs_background": "light"
     },
     "output_type": "display_data"
    }
   ],
   "source": [
    "# Visualizando os acertos e erros do modelo com os valores observados (linhas) e os valores preditos (colunas)\n",
    "confusion_matrix = pd.crosstab(y_test, y_pred, rownames=['Actual'], colnames=['Predicted'])\n",
    "sns.heatmap(confusion_matrix, annot=True, cmap=\"Greens\")"
   ]
  },
  {
   "cell_type": "code",
   "execution_count": 68,
   "metadata": {},
   "outputs": [
    {
     "data": {
      "text/html": [
       "<div>\n",
       "<style scoped>\n",
       "    .dataframe tbody tr th:only-of-type {\n",
       "        vertical-align: middle;\n",
       "    }\n",
       "\n",
       "    .dataframe tbody tr th {\n",
       "        vertical-align: top;\n",
       "    }\n",
       "\n",
       "    .dataframe thead th {\n",
       "        text-align: right;\n",
       "    }\n",
       "</style>\n",
       "<table border=\"1\" class=\"dataframe\">\n",
       "  <thead>\n",
       "    <tr style=\"text-align: right;\">\n",
       "      <th>Predicted</th>\n",
       "      <th>0</th>\n",
       "      <th>1</th>\n",
       "    </tr>\n",
       "    <tr>\n",
       "      <th>Actual</th>\n",
       "      <th></th>\n",
       "      <th></th>\n",
       "    </tr>\n",
       "  </thead>\n",
       "  <tbody>\n",
       "    <tr>\n",
       "      <th>0</th>\n",
       "      <td>398</td>\n",
       "      <td>11</td>\n",
       "    </tr>\n",
       "    <tr>\n",
       "      <th>1</th>\n",
       "      <td>0</td>\n",
       "      <td>599</td>\n",
       "    </tr>\n",
       "  </tbody>\n",
       "</table>\n",
       "</div>"
      ],
      "text/plain": [
       "Predicted    0    1\n",
       "Actual             \n",
       "0          398   11\n",
       "1            0  599"
      ]
     },
     "execution_count": 68,
     "metadata": {},
     "output_type": "execute_result"
    }
   ],
   "source": [
    "confusion_matrix.head()"
   ]
  },
  {
   "cell_type": "markdown",
   "metadata": {},
   "source": [
    "Temos que o modelo previu 398 médicos que foram contratados e de fato foram,  11 que não foram contratados mas foram,  0 que foram contratados mas não foram, e por fim, 599 que não foram contratados e de fato não foram."
   ]
  },
  {
   "cell_type": "markdown",
   "metadata": {},
   "source": [
    "#### Calculando a acurácia do modelo"
   ]
  },
  {
   "cell_type": "code",
   "execution_count": 69,
   "metadata": {},
   "outputs": [
    {
     "name": "stdout",
     "output_type": "stream",
     "text": [
      "Acurácia:  0.9890873015873016\n"
     ]
    }
   ],
   "source": [
    "# Imprimindo o percentual total de acertos do modelo\n",
    "print('Acurácia: ',metrics.accuracy_score(y_test, y_pred))\n",
    "plt.show()"
   ]
  },
  {
   "cell_type": "markdown",
   "metadata": {},
   "source": [
    "Nós conseguimos prever com 98% de acurácia se um médico com determinados requisitos seria contratado ou não para trabalhar no Hospital"
   ]
  },
  {
   "cell_type": "markdown",
   "metadata": {},
   "source": [
    "#### Validando o modelo"
   ]
  },
  {
   "cell_type": "code",
   "execution_count": 70,
   "metadata": {},
   "outputs": [
    {
     "name": "stdout",
     "output_type": "stream",
     "text": [
      "              precision    recall  f1-score   support\n",
      "\n",
      "           0       1.00      0.97      0.99       409\n",
      "           1       0.98      1.00      0.99       599\n",
      "\n",
      "    accuracy                           0.99      1008\n",
      "   macro avg       0.99      0.99      0.99      1008\n",
      "weighted avg       0.99      0.99      0.99      1008\n",
      "\n"
     ]
    }
   ],
   "source": [
    "# Imprimindo novas métricas de validações além da acurácia\n",
    "print(classification_report(y_test, y_pred))"
   ]
  },
  {
   "cell_type": "markdown",
   "metadata": {},
   "source": [
    "O classification report do SciKit-Learn nos provê as três métricas de avaliação apresentadas na figura acima.\n",
    "\n",
    "Precision é a capacidade do modelo de não prever uma instância negativa como positiva (não cometer erro do tipo 1). Para todas as instância classificadas como positivas, qual é o percentual de acerto. Neste podemos observar que apesar de mínima diferença, de 1% a precisão é maior para aqueles com rejeição na contratação\n",
    "\n",
    "Recall é a capacidade do modelo de encontrar todas as instâncias positivas. Para todas as instâncias que são de fato positivas, qual é o percentual de acerto. Ao contrário da métrica acima, na frequência os valores referentes ao sucesso na contratação tem uma melhor porcentagem de 99%.\n",
    "\n",
    "A métrica F1 conjuga as duas anteriores como uma média harmônica entre ambas. Ela deve sempre ser priorizada para comparar modelos de classificação em relação à acurácia. Por fim, quando observamos as porcentagens de F1 notamos uma igualdade de 98% em ser e não ser contratado."
   ]
  },
  {
   "cell_type": "markdown",
   "metadata": {},
   "source": [
    "#### Predizendo as probabilidades"
   ]
  },
  {
   "cell_type": "code",
   "execution_count": 71,
   "metadata": {},
   "outputs": [],
   "source": [
    "# Salvando as predições de probabilidade em uma variável\n",
    "pred_prob = logistic_regression.predict_proba(X)"
   ]
  },
  {
   "cell_type": "code",
   "execution_count": 72,
   "metadata": {},
   "outputs": [],
   "source": [
    "# Selecionando apenas os positivos verdadeiros\n",
    "pred_prob = pred_prob[:, 1] "
   ]
  },
  {
   "cell_type": "code",
   "execution_count": 73,
   "metadata": {},
   "outputs": [
    {
     "name": "stdout",
     "output_type": "stream",
     "text": [
      "AUC: 1.00\n"
     ]
    }
   ],
   "source": [
    "# Imprimindo uma métrica para saber o quanto este modelo é capaz de segmentar o positivo falso do positivo verdadeiro \n",
    "print('AUC: %0.2f' % roc_auc_score(y, pred_prob))"
   ]
  },
  {
   "cell_type": "markdown",
   "metadata": {},
   "source": [
    "A curva ROC (Receiver Operating Characteristic Curve) leva em conta a TPR (True Positive Rate ou Recall ou Sensitity) e a FPR (False Positive Rate ou Specificity).\n",
    "\n",
    "Essa curva traça esses dois parâmetros. o AUC (Area Under the Curve) é um valor que sintetiza a informação da curva ROC. Ela varia de 0.5 a 1. Em suma, essa métrica nos diz o quanto o modelo é capaz de distinguir as duas classes. Vejamos o AUC e a curva RUC para o modelo que estimamos."
   ]
  },
  {
   "cell_type": "code",
   "execution_count": 74,
   "metadata": {},
   "outputs": [],
   "source": [
    "# Função para plotar a curva do ROC (explicação e resultados acima)\n",
    "def plot_roc_curve(y_true, y_score, figsize=(10,6)):\n",
    "    fpr, tpr, _ = roc_curve(y_true, y_score)\n",
    "    plt.figure(figsize=figsize)\n",
    "    auc_value = roc_auc_score(y_true, y_score)\n",
    "    plt.plot(fpr, tpr, color='chartreuse', label='ROC curve (area = %0.2f)' % auc_value)\n",
    "    plt.plot([0, 1], [0, 1], color='green', linestyle='--')\n",
    "    plt.xlabel('False Positive Rate')\n",
    "    plt.ylabel('True Positive Rate')\n",
    "    plt.title('Receiver Operating Characteristic (ROC) Curve')\n",
    "    plt.legend()\n",
    "    plt.show()"
   ]
  },
  {
   "cell_type": "code",
   "execution_count": 75,
   "metadata": {},
   "outputs": [
    {
     "data": {
      "image/png": "[encoded data removed]",
      "text/plain": [
       "<Figure size 720x432 with 1 Axes>"
      ]
     },
     "metadata": {
      "needs_background": "light"
     },
     "output_type": "display_data"
    }
   ],
   "source": [
    "# Retorno da função plot_roc_curve\n",
    "plot_roc_curve(y, pred_prob)"
   ]
  },
  {
   "cell_type": "markdown",
   "metadata": {},
   "source": [
    "Podemos considerar uma área debaixo da curva de mais de 0.7 como aceitável. Mais de 0.8 parece bom. Mais de .9 está excelente. Então nosso modelo está excelente"
   ]
  },
  {
   "cell_type": "markdown",
   "metadata": {},
   "source": [
    "#### Colocando a predição em uso\n",
    "\n",
    "Imagine que você esteja interessado em se candidatar a uma vaga em nosso hospital e seu currículo contém as seguintes informações:\n",
    "\n",
    "\n",
    "1.  Residência: Estado da instituição\n",
    "2.  Carreira: 10 anos \n",
    "3.  Formação: Pós Doutorado\n",
    "4.  Valor do procedimento: 200 doláres"
   ]
  },
  {
   "cell_type": "code",
   "execution_count": 76,
   "metadata": {},
   "outputs": [
    {
     "data": {
      "text/html": [
       "<style type=\"text/css\">\n",
       "</style>\n",
       "<table id=\"T_eaff5\">\n",
       "  <thead>\n",
       "    <tr>\n",
       "      <th id=\"T_eaff5_level0_col0\" class=\"col_heading level0 col0\" >prestador_estado_instituicao</th>\n",
       "      <th id=\"T_eaff5_level0_col1\" class=\"col_heading level0 col1\" >anos_carreira</th>\n",
       "      <th id=\"T_eaff5_level0_col2\" class=\"col_heading level0 col2\" >formacao</th>\n",
       "      <th id=\"T_eaff5_level0_col3\" class=\"col_heading level0 col3\" >especialista_entubacao</th>\n",
       "      <th id=\"T_eaff5_level0_col4\" class=\"col_heading level0 col4\" >prestador_cobranca_media</th>\n",
       "    </tr>\n",
       "  </thead>\n",
       "  <tbody>\n",
       "    <tr>\n",
       "      <td id=\"T_eaff5_row0_col0\" class=\"data row0 col0\" >1</td>\n",
       "      <td id=\"T_eaff5_row0_col1\" class=\"data row0 col1\" >10</td>\n",
       "      <td id=\"T_eaff5_row0_col2\" class=\"data row0 col2\" >1</td>\n",
       "      <td id=\"T_eaff5_row0_col3\" class=\"data row0 col3\" >0</td>\n",
       "      <td id=\"T_eaff5_row0_col4\" class=\"data row0 col4\" >200</td>\n",
       "    </tr>\n",
       "  </tbody>\n",
       "</table>\n"
      ],
      "text/plain": [
       "<pandas.io.formats.style.Styler at 0x7f01a0ef5310>"
      ]
     },
     "execution_count": 76,
     "metadata": {},
     "output_type": "execute_result"
    }
   ],
   "source": [
    "# Estabelecendo os parâmetros para predizer se o médico candidato será contratado ou não\n",
    "teste = {'prestador_estado_instituicao': 1 , \n",
    "         'anos_carreira': 10, 'formacao' : 1, \n",
    "         'especialista_entubacao': 0,\n",
    "         'prestador_cobranca_media': 200}\n",
    "dft = pd.DataFrame(data = teste, index=[0])\n",
    "resultado = logistic_regression.predict(dft)\n",
    "dft.style.hide_index()"
   ]
  },
  {
   "cell_type": "code",
   "execution_count": 77,
   "metadata": {},
   "outputs": [
    {
     "name": "stdout",
     "output_type": "stream",
     "text": [
      "O profissional médico candidato teria apenas 97.94% de probabilidade e por isso pode ser contratado\n"
     ]
    }
   ],
   "source": [
    "medico_candidato = pd.DataFrame({'prestador_estado_instituicao': 1 , 'anos_carreira':10, 'formacao' : 1, 'especialista_entubacao': 0, 'prestador_cobranca_media': 200}, index = [0])\n",
    "minha_prob = logistic_regression.predict_proba(medico_candidato)\n",
    "\n",
    "# Função para mostrar resultado da predicão\n",
    "def contratar():\n",
    "    if resultado == 0:\n",
    "        return 'não pode'\n",
    "    else:\n",
    "        return 'pode'\n",
    "        \n",
    "print(f'O profissional médico candidato teria apenas {round(minha_prob[:,1][0]*100, 2)}% de probabilidade e por isso {contratar()} ser contratado')"
   ]
  },
  {
   "cell_type": "markdown",
   "metadata": {},
   "source": [
    "#### Conclusão\n",
    "\n",
    "A regressão logística é um modelo estatístico usado para determinar a probabilidade de um evento acontecer, tendo como referência nosso dataset de indicadores médicos, previmos a probabilidade de um possível candidato ser contratado ou não,  e o percentual de sua contratação.\n",
    "\n",
    "Sendo nosso modelo extremamente eficiente para o hospital que deseja o serviço, já que seu retorno facilita o hospital classificando a possível ou não contratação do candidato."
   ]
  },
  {
   "cell_type": "markdown",
   "metadata": {},
   "source": [
    "### Support Vector Machine\n",
    "\n",
    "O SVM ou Máquina de Suporte Vetorial, é um algoritmo que realiza a separação de um conjunto de objetos com diferentes classes, ou seja, utiliza o conceito de planos de decisão. Isto é, o SVM escolhe a reta — também chamada de hiperplano em maiores dimensões — entre dois grupos com Vetores de Suporte que se distanciam mais de cada um.\n",
    "\n",
    "Aplicaremos o modelo de SVM ao dataset de indicadores médicos com a intencionalidade de ajudarmos na contratação de novos médicos de urgência para o Hospital. Utilizamos como parâmetros no modelo, se o prestador mora no local da instalação médica, os anos de carreira, o grau de sua formação e se tem especialização em entubação, podendo assim explorar as chances do prestador ser contratado ou não."
   ]
  },
  {
   "cell_type": "markdown",
   "metadata": {},
   "source": [
    "#### Importando os dados"
   ]
  },
  {
   "cell_type": "code",
   "execution_count": 78,
   "metadata": {},
   "outputs": [
    {
     "data": {
      "text/html": [
       "<div>\n",
       "<style scoped>\n",
       "    .dataframe tbody tr th:only-of-type {\n",
       "        vertical-align: middle;\n",
       "    }\n",
       "\n",
       "    .dataframe tbody tr th {\n",
       "        vertical-align: top;\n",
       "    }\n",
       "\n",
       "    .dataframe thead th {\n",
       "        text-align: right;\n",
       "    }\n",
       "</style>\n",
       "<table border=\"1\" class=\"dataframe\">\n",
       "  <thead>\n",
       "    <tr style=\"text-align: right;\">\n",
       "      <th></th>\n",
       "      <th>anos_carreira</th>\n",
       "      <th>formacao</th>\n",
       "      <th>casos_sucesso(%)</th>\n",
       "      <th>qntd_procedimentos</th>\n",
       "      <th>especialista_entubacao</th>\n",
       "      <th>prestador_id</th>\n",
       "      <th>prestador_nome</th>\n",
       "      <th>prestador_genero</th>\n",
       "      <th>procedimento_cod</th>\n",
       "      <th>prestador_cobranca_media</th>\n",
       "      <th>medcare_cobranca_media_permitida</th>\n",
       "      <th>medcare_pagamento_medio_padronizado</th>\n",
       "      <th>prestador_estado_instituicao</th>\n",
       "      <th>contratar_score</th>\n",
       "      <th>contratar</th>\n",
       "      <th>habilidade_score</th>\n",
       "    </tr>\n",
       "  </thead>\n",
       "  <tbody>\n",
       "    <tr>\n",
       "      <th>0</th>\n",
       "      <td>18</td>\n",
       "      <td>0</td>\n",
       "      <td>99</td>\n",
       "      <td>31</td>\n",
       "      <td>0</td>\n",
       "      <td>1003012022</td>\n",
       "      <td>Corey</td>\n",
       "      <td>0</td>\n",
       "      <td>31500</td>\n",
       "      <td>367.0</td>\n",
       "      <td>126.09</td>\n",
       "      <td>117.04</td>\n",
       "      <td>1</td>\n",
       "      <td>50</td>\n",
       "      <td>1</td>\n",
       "      <td>0</td>\n",
       "    </tr>\n",
       "    <tr>\n",
       "      <th>1</th>\n",
       "      <td>17</td>\n",
       "      <td>0</td>\n",
       "      <td>80</td>\n",
       "      <td>31</td>\n",
       "      <td>0</td>\n",
       "      <td>1003012477</td>\n",
       "      <td>Ariel</td>\n",
       "      <td>0</td>\n",
       "      <td>31500</td>\n",
       "      <td>228.0</td>\n",
       "      <td>145.11</td>\n",
       "      <td>115.00</td>\n",
       "      <td>1</td>\n",
       "      <td>75</td>\n",
       "      <td>1</td>\n",
       "      <td>0</td>\n",
       "    </tr>\n",
       "    <tr>\n",
       "      <th>2</th>\n",
       "      <td>24</td>\n",
       "      <td>1</td>\n",
       "      <td>80</td>\n",
       "      <td>45</td>\n",
       "      <td>1</td>\n",
       "      <td>1003020348</td>\n",
       "      <td>Jennifer</td>\n",
       "      <td>1</td>\n",
       "      <td>31500</td>\n",
       "      <td>410.0</td>\n",
       "      <td>134.44</td>\n",
       "      <td>114.99</td>\n",
       "      <td>1</td>\n",
       "      <td>0</td>\n",
       "      <td>0</td>\n",
       "      <td>59</td>\n",
       "    </tr>\n",
       "    <tr>\n",
       "      <th>3</th>\n",
       "      <td>14</td>\n",
       "      <td>0</td>\n",
       "      <td>74</td>\n",
       "      <td>27</td>\n",
       "      <td>0</td>\n",
       "      <td>1003033317</td>\n",
       "      <td>Barry</td>\n",
       "      <td>0</td>\n",
       "      <td>31500</td>\n",
       "      <td>187.0</td>\n",
       "      <td>146.10</td>\n",
       "      <td>115.00</td>\n",
       "      <td>1</td>\n",
       "      <td>75</td>\n",
       "      <td>1</td>\n",
       "      <td>0</td>\n",
       "    </tr>\n",
       "    <tr>\n",
       "      <th>4</th>\n",
       "      <td>10</td>\n",
       "      <td>0</td>\n",
       "      <td>73</td>\n",
       "      <td>27</td>\n",
       "      <td>0</td>\n",
       "      <td>1003042342</td>\n",
       "      <td>Mostafa</td>\n",
       "      <td>0</td>\n",
       "      <td>31500</td>\n",
       "      <td>300.0</td>\n",
       "      <td>151.11</td>\n",
       "      <td>115.00</td>\n",
       "      <td>0</td>\n",
       "      <td>0</td>\n",
       "      <td>0</td>\n",
       "      <td>0</td>\n",
       "    </tr>\n",
       "  </tbody>\n",
       "</table>\n",
       "</div>"
      ],
      "text/plain": [
       "   anos_carreira  formacao  casos_sucesso(%)  qntd_procedimentos  \\\n",
       "0             18         0                99                  31   \n",
       "1             17         0                80                  31   \n",
       "2             24         1                80                  45   \n",
       "3             14         0                74                  27   \n",
       "4             10         0                73                  27   \n",
       "\n",
       "   especialista_entubacao  prestador_id prestador_nome  prestador_genero  \\\n",
       "0                       0    1003012022          Corey                 0   \n",
       "1                       0    1003012477          Ariel                 0   \n",
       "2                       1    1003020348       Jennifer                 1   \n",
       "3                       0    1003033317          Barry                 0   \n",
       "4                       0    1003042342        Mostafa                 0   \n",
       "\n",
       "   procedimento_cod  prestador_cobranca_media  \\\n",
       "0             31500                     367.0   \n",
       "1             31500                     228.0   \n",
       "2             31500                     410.0   \n",
       "3             31500                     187.0   \n",
       "4             31500                     300.0   \n",
       "\n",
       "   medcare_cobranca_media_permitida  medcare_pagamento_medio_padronizado  \\\n",
       "0                            126.09                               117.04   \n",
       "1                            145.11                               115.00   \n",
       "2                            134.44                               114.99   \n",
       "3                            146.10                               115.00   \n",
       "4                            151.11                               115.00   \n",
       "\n",
       "   prestador_estado_instituicao  contratar_score  contratar  habilidade_score  \n",
       "0                             1               50          1                 0  \n",
       "1                             1               75          1                 0  \n",
       "2                             1                0          0                59  \n",
       "3                             1               75          1                 0  \n",
       "4                             0                0          0                 0  "
      ]
     },
     "execution_count": 78,
     "metadata": {},
     "output_type": "execute_result"
    }
   ],
   "source": [
    "# Importando o Dataset com Pandas e imprimindo as primeiras 5 linhas para verificar\n",
    "df_svm_comp = pd.read_csv('dados_medcare_rotulados.csv', sep=',')\n",
    "df_svm_comp.head()"
   ]
  },
  {
   "cell_type": "markdown",
   "metadata": {},
   "source": [
    "#### Limpando os dados"
   ]
  },
  {
   "cell_type": "code",
   "execution_count": 79,
   "metadata": {},
   "outputs": [],
   "source": [
    "# Retirando colunas que não irei utilizar para fazer a correlação e modelo\n",
    "df_svm = df_svm_comp.drop(columns=['casos_sucesso(%)','qntd_procedimentos', 'procedimento_cod', 'contratar_score', 'habilidade_score', 'prestador_nome', 'prestador_id', 'prestador_genero', 'medcare_cobranca_media_permitida', 'medcare_pagamento_medio_padronizado'])"
   ]
  },
  {
   "cell_type": "code",
   "execution_count": 80,
   "metadata": {},
   "outputs": [
    {
     "data": {
      "text/html": [
       "<div>\n",
       "<style scoped>\n",
       "    .dataframe tbody tr th:only-of-type {\n",
       "        vertical-align: middle;\n",
       "    }\n",
       "\n",
       "    .dataframe tbody tr th {\n",
       "        vertical-align: top;\n",
       "    }\n",
       "\n",
       "    .dataframe thead th {\n",
       "        text-align: right;\n",
       "    }\n",
       "</style>\n",
       "<table border=\"1\" class=\"dataframe\">\n",
       "  <thead>\n",
       "    <tr style=\"text-align: right;\">\n",
       "      <th></th>\n",
       "      <th>anos_carreira</th>\n",
       "      <th>formacao</th>\n",
       "      <th>especialista_entubacao</th>\n",
       "      <th>prestador_cobranca_media</th>\n",
       "      <th>prestador_estado_instituicao</th>\n",
       "      <th>contratar</th>\n",
       "    </tr>\n",
       "  </thead>\n",
       "  <tbody>\n",
       "    <tr>\n",
       "      <th>0</th>\n",
       "      <td>18</td>\n",
       "      <td>0</td>\n",
       "      <td>0</td>\n",
       "      <td>367.00</td>\n",
       "      <td>1</td>\n",
       "      <td>1</td>\n",
       "    </tr>\n",
       "    <tr>\n",
       "      <th>1</th>\n",
       "      <td>17</td>\n",
       "      <td>0</td>\n",
       "      <td>0</td>\n",
       "      <td>228.00</td>\n",
       "      <td>1</td>\n",
       "      <td>1</td>\n",
       "    </tr>\n",
       "    <tr>\n",
       "      <th>2</th>\n",
       "      <td>24</td>\n",
       "      <td>1</td>\n",
       "      <td>1</td>\n",
       "      <td>410.00</td>\n",
       "      <td>1</td>\n",
       "      <td>0</td>\n",
       "    </tr>\n",
       "    <tr>\n",
       "      <th>3</th>\n",
       "      <td>14</td>\n",
       "      <td>0</td>\n",
       "      <td>0</td>\n",
       "      <td>187.00</td>\n",
       "      <td>1</td>\n",
       "      <td>1</td>\n",
       "    </tr>\n",
       "    <tr>\n",
       "      <th>4</th>\n",
       "      <td>10</td>\n",
       "      <td>0</td>\n",
       "      <td>0</td>\n",
       "      <td>300.00</td>\n",
       "      <td>0</td>\n",
       "      <td>0</td>\n",
       "    </tr>\n",
       "    <tr>\n",
       "      <th>...</th>\n",
       "      <td>...</td>\n",
       "      <td>...</td>\n",
       "      <td>...</td>\n",
       "      <td>...</td>\n",
       "      <td>...</td>\n",
       "      <td>...</td>\n",
       "    </tr>\n",
       "    <tr>\n",
       "      <th>4025</th>\n",
       "      <td>9</td>\n",
       "      <td>0</td>\n",
       "      <td>0</td>\n",
       "      <td>292.00</td>\n",
       "      <td>1</td>\n",
       "      <td>1</td>\n",
       "    </tr>\n",
       "    <tr>\n",
       "      <th>4026</th>\n",
       "      <td>27</td>\n",
       "      <td>1</td>\n",
       "      <td>1</td>\n",
       "      <td>350.00</td>\n",
       "      <td>1</td>\n",
       "      <td>0</td>\n",
       "    </tr>\n",
       "    <tr>\n",
       "      <th>4027</th>\n",
       "      <td>0</td>\n",
       "      <td>0</td>\n",
       "      <td>0</td>\n",
       "      <td>210.00</td>\n",
       "      <td>1</td>\n",
       "      <td>1</td>\n",
       "    </tr>\n",
       "    <tr>\n",
       "      <th>4028</th>\n",
       "      <td>9</td>\n",
       "      <td>0</td>\n",
       "      <td>0</td>\n",
       "      <td>417.86</td>\n",
       "      <td>1</td>\n",
       "      <td>1</td>\n",
       "    </tr>\n",
       "    <tr>\n",
       "      <th>4029</th>\n",
       "      <td>14</td>\n",
       "      <td>0</td>\n",
       "      <td>0</td>\n",
       "      <td>222.97</td>\n",
       "      <td>0</td>\n",
       "      <td>0</td>\n",
       "    </tr>\n",
       "  </tbody>\n",
       "</table>\n",
       "<p>4030 rows × 6 columns</p>\n",
       "</div>"
      ],
      "text/plain": [
       "      anos_carreira  formacao  especialista_entubacao  \\\n",
       "0                18         0                       0   \n",
       "1                17         0                       0   \n",
       "2                24         1                       1   \n",
       "3                14         0                       0   \n",
       "4                10         0                       0   \n",
       "...             ...       ...                     ...   \n",
       "4025              9         0                       0   \n",
       "4026             27         1                       1   \n",
       "4027              0         0                       0   \n",
       "4028              9         0                       0   \n",
       "4029             14         0                       0   \n",
       "\n",
       "      prestador_cobranca_media  prestador_estado_instituicao  contratar  \n",
       "0                       367.00                             1          1  \n",
       "1                       228.00                             1          1  \n",
       "2                       410.00                             1          0  \n",
       "3                       187.00                             1          1  \n",
       "4                       300.00                             0          0  \n",
       "...                        ...                           ...        ...  \n",
       "4025                    292.00                             1          1  \n",
       "4026                    350.00                             1          0  \n",
       "4027                    210.00                             1          1  \n",
       "4028                    417.86                             1          1  \n",
       "4029                    222.97                             0          0  \n",
       "\n",
       "[4030 rows x 6 columns]"
      ]
     },
     "execution_count": 80,
     "metadata": {},
     "output_type": "execute_result"
    }
   ],
   "source": [
    "# Imprimindo para verificar mudanças\n",
    "df_svm"
   ]
  },
  {
   "cell_type": "markdown",
   "metadata": {},
   "source": [
    "#### Avaliando os dados"
   ]
  },
  {
   "cell_type": "code",
   "execution_count": 81,
   "metadata": {},
   "outputs": [
    {
     "name": "stdout",
     "output_type": "stream",
     "text": [
      "As correlações do DataFrame são:\n"
     ]
    },
    {
     "data": {
      "text/html": [
       "<style type=\"text/css\">\n",
       "#T_e7511_row0_col0, #T_e7511_row1_col1, #T_e7511_row2_col2, #T_e7511_row3_col3, #T_e7511_row4_col4, #T_e7511_row5_col5 {\n",
       "  background-color: #00441b;\n",
       "  color: #f1f1f1;\n",
       "}\n",
       "#T_e7511_row0_col1, #T_e7511_row1_col0 {\n",
       "  background-color: #37a055;\n",
       "  color: #f1f1f1;\n",
       "}\n",
       "#T_e7511_row0_col2, #T_e7511_row2_col0 {\n",
       "  background-color: #17813d;\n",
       "  color: #f1f1f1;\n",
       "}\n",
       "#T_e7511_row0_col3, #T_e7511_row2_col3, #T_e7511_row3_col0, #T_e7511_row3_col2, #T_e7511_row3_col4, #T_e7511_row4_col3 {\n",
       "  background-color: #a8dca2;\n",
       "  color: #000000;\n",
       "}\n",
       "#T_e7511_row0_col4, #T_e7511_row1_col3, #T_e7511_row2_col4, #T_e7511_row3_col1, #T_e7511_row3_col5, #T_e7511_row4_col0, #T_e7511_row4_col2, #T_e7511_row5_col3 {\n",
       "  background-color: #abdda5;\n",
       "  color: #000000;\n",
       "}\n",
       "#T_e7511_row0_col5, #T_e7511_row5_col0 {\n",
       "  background-color: #f7fcf5;\n",
       "  color: #000000;\n",
       "}\n",
       "#T_e7511_row1_col2, #T_e7511_row2_col1 {\n",
       "  background-color: #309950;\n",
       "  color: #f1f1f1;\n",
       "}\n",
       "#T_e7511_row1_col4, #T_e7511_row4_col1 {\n",
       "  background-color: #aadda4;\n",
       "  color: #000000;\n",
       "}\n",
       "#T_e7511_row1_col5, #T_e7511_row5_col1 {\n",
       "  background-color: #dcf2d7;\n",
       "  color: #000000;\n",
       "}\n",
       "#T_e7511_row2_col5, #T_e7511_row5_col2 {\n",
       "  background-color: #f4fbf1;\n",
       "  color: #000000;\n",
       "}\n",
       "#T_e7511_row4_col5, #T_e7511_row5_col4 {\n",
       "  background-color: #238b45;\n",
       "  color: #f1f1f1;\n",
       "}\n",
       "</style>\n",
       "<table id=\"T_e7511\">\n",
       "  <thead>\n",
       "    <tr>\n",
       "      <th class=\"blank level0\" >&nbsp;</th>\n",
       "      <th id=\"T_e7511_level0_col0\" class=\"col_heading level0 col0\" >anos_carreira</th>\n",
       "      <th id=\"T_e7511_level0_col1\" class=\"col_heading level0 col1\" >formacao</th>\n",
       "      <th id=\"T_e7511_level0_col2\" class=\"col_heading level0 col2\" >especialista_entubacao</th>\n",
       "      <th id=\"T_e7511_level0_col3\" class=\"col_heading level0 col3\" >prestador_cobranca_media</th>\n",
       "      <th id=\"T_e7511_level0_col4\" class=\"col_heading level0 col4\" >prestador_estado_instituicao</th>\n",
       "      <th id=\"T_e7511_level0_col5\" class=\"col_heading level0 col5\" >contratar</th>\n",
       "    </tr>\n",
       "  </thead>\n",
       "  <tbody>\n",
       "    <tr>\n",
       "      <th id=\"T_e7511_level0_row0\" class=\"row_heading level0 row0\" >anos_carreira</th>\n",
       "      <td id=\"T_e7511_row0_col0\" class=\"data row0 col0\" >1.000000</td>\n",
       "      <td id=\"T_e7511_row0_col1\" class=\"data row0 col1\" >0.484561</td>\n",
       "      <td id=\"T_e7511_row0_col2\" class=\"data row0 col2\" >0.678847</td>\n",
       "      <td id=\"T_e7511_row0_col3\" class=\"data row0 col3\" >0.006048</td>\n",
       "      <td id=\"T_e7511_row0_col4\" class=\"data row0 col4\" >-0.014144</td>\n",
       "      <td id=\"T_e7511_row0_col5\" class=\"data row0 col5\" >-0.537611</td>\n",
       "    </tr>\n",
       "    <tr>\n",
       "      <th id=\"T_e7511_level0_row1\" class=\"row_heading level0 row1\" >formacao</th>\n",
       "      <td id=\"T_e7511_row1_col0\" class=\"data row1 col0\" >0.484561</td>\n",
       "      <td id=\"T_e7511_row1_col1\" class=\"data row1 col1\" >1.000000</td>\n",
       "      <td id=\"T_e7511_row1_col2\" class=\"data row1 col2\" >0.528116</td>\n",
       "      <td id=\"T_e7511_row1_col3\" class=\"data row1 col3\" >-0.010590</td>\n",
       "      <td id=\"T_e7511_row1_col4\" class=\"data row1 col4\" >-0.005619</td>\n",
       "      <td id=\"T_e7511_row1_col5\" class=\"data row1 col5\" >-0.289245</td>\n",
       "    </tr>\n",
       "    <tr>\n",
       "      <th id=\"T_e7511_level0_row2\" class=\"row_heading level0 row2\" >especialista_entubacao</th>\n",
       "      <td id=\"T_e7511_row2_col0\" class=\"data row2 col0\" >0.678847</td>\n",
       "      <td id=\"T_e7511_row2_col1\" class=\"data row2 col1\" >0.528116</td>\n",
       "      <td id=\"T_e7511_row2_col2\" class=\"data row2 col2\" >1.000000</td>\n",
       "      <td id=\"T_e7511_row2_col3\" class=\"data row2 col3\" >0.005060</td>\n",
       "      <td id=\"T_e7511_row2_col4\" class=\"data row2 col4\" >-0.011732</td>\n",
       "      <td id=\"T_e7511_row2_col5\" class=\"data row2 col5\" >-0.499665</td>\n",
       "    </tr>\n",
       "    <tr>\n",
       "      <th id=\"T_e7511_level0_row3\" class=\"row_heading level0 row3\" >prestador_cobranca_media</th>\n",
       "      <td id=\"T_e7511_row3_col0\" class=\"data row3 col0\" >0.006048</td>\n",
       "      <td id=\"T_e7511_row3_col1\" class=\"data row3 col1\" >-0.010590</td>\n",
       "      <td id=\"T_e7511_row3_col2\" class=\"data row3 col2\" >0.005060</td>\n",
       "      <td id=\"T_e7511_row3_col3\" class=\"data row3 col3\" >1.000000</td>\n",
       "      <td id=\"T_e7511_row3_col4\" class=\"data row3 col4\" >0.003456</td>\n",
       "      <td id=\"T_e7511_row3_col5\" class=\"data row3 col5\" >-0.010637</td>\n",
       "    </tr>\n",
       "    <tr>\n",
       "      <th id=\"T_e7511_level0_row4\" class=\"row_heading level0 row4\" >prestador_estado_instituicao</th>\n",
       "      <td id=\"T_e7511_row4_col0\" class=\"data row4 col0\" >-0.014144</td>\n",
       "      <td id=\"T_e7511_row4_col1\" class=\"data row4 col1\" >-0.005619</td>\n",
       "      <td id=\"T_e7511_row4_col2\" class=\"data row4 col2\" >-0.011732</td>\n",
       "      <td id=\"T_e7511_row4_col3\" class=\"data row4 col3\" >0.003456</td>\n",
       "      <td id=\"T_e7511_row4_col4\" class=\"data row4 col4\" >1.000000</td>\n",
       "      <td id=\"T_e7511_row4_col5\" class=\"data row4 col5\" >0.614276</td>\n",
       "    </tr>\n",
       "    <tr>\n",
       "      <th id=\"T_e7511_level0_row5\" class=\"row_heading level0 row5\" >contratar</th>\n",
       "      <td id=\"T_e7511_row5_col0\" class=\"data row5 col0\" >-0.537611</td>\n",
       "      <td id=\"T_e7511_row5_col1\" class=\"data row5 col1\" >-0.289245</td>\n",
       "      <td id=\"T_e7511_row5_col2\" class=\"data row5 col2\" >-0.499665</td>\n",
       "      <td id=\"T_e7511_row5_col3\" class=\"data row5 col3\" >-0.010637</td>\n",
       "      <td id=\"T_e7511_row5_col4\" class=\"data row5 col4\" >0.614276</td>\n",
       "      <td id=\"T_e7511_row5_col5\" class=\"data row5 col5\" >1.000000</td>\n",
       "    </tr>\n",
       "  </tbody>\n",
       "</table>\n"
      ],
      "text/plain": [
       "<pandas.io.formats.style.Styler at 0x7f01a0ed1a30>"
      ]
     },
     "execution_count": 81,
     "metadata": {},
     "output_type": "execute_result"
    }
   ],
   "source": [
    "# Testando e observando as correlaçõES das classes do modelo através da abstração e apresentação das explorações com o mapa gradiente de relações de variáveis\n",
    "print(\"As correlações do DataFrame são:\")\n",
    "correlacao = df_svm.corr()\n",
    "correlacao.style.background_gradient(cmap='Greens',axis=None)"
   ]
  },
  {
   "cell_type": "markdown",
   "metadata": {},
   "source": [
    "O SVM demonstra que a grande maioria das variáveis ​​preditoras não são altamente correlacionadas entre si, sendo nossa maior correlação de 68%.\n",
    "\n",
    "Porém quando falamos de kernel RBF, este analisa apenas as distâncias entre os pontos de dados. Assim, um recurso que causa impacto no modelo é se houver um atributo que se repete várias vezes, pois esse contribuirá X vezes mais para a distância do que qualquer outro atributo, näo possuindo influência da correlação de atributos."
   ]
  },
  {
   "cell_type": "code",
   "execution_count": 82,
   "metadata": {},
   "outputs": [
    {
     "data": {
      "text/plain": [
       "<seaborn.axisgrid.PairGrid at 0x7f01a0e82490>"
      ]
     },
     "execution_count": 82,
     "metadata": {},
     "output_type": "execute_result"
    },
    {
     "data": {
      "image/png": "[encoded data removed]",
      "text/plain": [
       "<Figure size 965.475x900 with 30 Axes>"
      ]
     },
     "metadata": {
      "needs_background": "light"
     },
     "output_type": "display_data"
    }
   ],
   "source": [
    "# Plotar em pares as características do dataset para discussão do conceito de linearmente separável\n",
    "sns.pairplot(df_svm, hue='contratar', palette=['limegreen', 'darkgreen'])"
   ]
  },
  {
   "cell_type": "markdown",
   "metadata": {},
   "source": [
    "Pair plot é usado para entender o melhor conjunto de características para explicar uma relação entre duas variáveis, ou seja, encontrar a relação entre eles onde as variáveis ​​podem ser contínuas ou categóricas, no nosso caso queremos saber a relação dentre os pares de atributos que temos no nosso dataset usando para mapear os aspectos de plotagem a variável `contratar`.\n",
    "\n",
    "Este gráfico também ajuda a formar alguns modelos de classificação fazendo separação linear, em nosso conjunto de dados é notório que nossos dados não seguem uma linearidade na separação dos dados pela dispersão dos pontos, sendo assim o nosso modelo SVM terá uma certa dificuldade de dividir nossa classificação."
   ]
  },
  {
   "cell_type": "markdown",
   "metadata": {},
   "source": [
    "#### Preparando e dividindo os dados de treinamento e teste"
   ]
  },
  {
   "cell_type": "code",
   "execution_count": 83,
   "metadata": {},
   "outputs": [],
   "source": [
    "# Vamos assumir X (variáveis preditoras) e Y (variável dependente/alvo) para o treinamento do dataset\n",
    "X = df_svm.iloc[:,:-1]\n",
    "y = df_svm.iloc[:,-1]"
   ]
  },
  {
   "cell_type": "code",
   "execution_count": 84,
   "metadata": {},
   "outputs": [
    {
     "data": {
      "text/plain": [
       "(4030, 5)"
      ]
     },
     "execution_count": 84,
     "metadata": {},
     "output_type": "execute_result"
    }
   ],
   "source": [
    "# Normalizando os dados, colocando todos com média 0 e desvio padrão 1\n",
    "std= MinMaxScaler()\n",
    "Xs = std.fit_transform(X) # Treina e transforma o banco de dados\n",
    "Xs.shape"
   ]
  },
  {
   "cell_type": "markdown",
   "metadata": {},
   "source": [
    "Um algoritmo de SVM com kernel RBF converge mais rapidamente quando as características são relativamente menores ou mais próximas da distribuição normal, ou seja, ao normalizarmos os dados estamos alterando o intervalo de valores, mas sem alterar a forma de distribuição, vale dizermos que o intervalo geralmente é definido como 0 a 1.\n",
    "\n",
    "Neste caso específico vamos utilizar a função `MinMaxScaler` que subtrai o valor mínimo no recurso e depois divide pelo intervalo, esse intervalo é a diferença entre o máximo original e o mínimo original, qual é de 0 a 1, como mostra a fórmula:\n",
    "$$\\frac{valor - min}{max - min}$$\n",
    "Ao normalizarmos nossos recursos não mudamos forma da distribuição original, portanto não mudamos significativamente as informações incorporadas nos dados originais e nem reduzimos a importância dos valores discrepantes. Tudo isso importa para que possamos diminuir as escalas do recurso que estavam drasticamente diferentes para uma distribuição melhor dos dados que serão utilizados no modelo."
   ]
  },
  {
   "cell_type": "code",
   "execution_count": 85,
   "metadata": {},
   "outputs": [],
   "source": [
    "# Dividindo entre treinamento e teste (30%), com os dados e labels\n",
    "X_train, X_test, y_train, y_test = train_test_split(X, y, test_size=0.3, random_state=13)"
   ]
  },
  {
   "cell_type": "markdown",
   "metadata": {},
   "source": [
    "#### Analisando melhores valores e treinando o modelo de SVM"
   ]
  },
  {
   "cell_type": "code",
   "execution_count": 86,
   "metadata": {},
   "outputs": [
    {
     "name": "stdout",
     "output_type": "stream",
     "text": [
      "1 0.7679144385026737\n",
      "51 0.8689043698543382\n",
      "101 0.8822784810126582\n",
      "151 0.8890298034242232\n",
      "201 0.9032258064516129\n",
      "251 0.9067850348763474\n",
      "301 0.9092063492063492\n",
      "351 0.9139579349904398\n",
      "401 0.9175718849840255\n",
      "451 0.9216944801026957\n",
      "501 0.9216944801026957\n",
      "551 0.9246619446233096\n",
      "601 0.9252577319587628\n",
      "651 0.9252577319587628\n",
      "701 0.9300518134715026\n",
      "751 0.930654569021387\n",
      "801 0.9330734243014944\n",
      "851 0.9318624269954575\n",
      "901 0.9355048859934854\n",
      "951 0.938562091503268\n",
      "1001 0.937949052906597\n",
      "1051 0.937949052906597\n",
      "1101 0.9410222804718217\n",
      "1151 0.942875902823375\n",
      "1201 0.9422572178477691\n",
      "1251 0.941639344262295\n",
      "1301 0.9410222804718217\n",
      "1351 0.941639344262295\n",
      "1401 0.941639344262295\n",
      "1451 0.941639344262295\n",
      "1501 0.941639344262295\n",
      "1551 0.9422572178477691\n",
      "1601 0.9422572178477691\n",
      "1651 0.942875902823375\n",
      "1701 0.942875902823375\n",
      "1751 0.9434954007884363\n",
      "1801 0.9434954007884363\n",
      "1851 0.9434954007884363\n",
      "1901 0.9422572178477691\n",
      "1951 0.9422572178477691\n",
      "2001 0.941639344262295\n",
      "2051 0.941639344262295\n",
      "2101 0.941639344262295\n",
      "2151 0.941639344262295\n",
      "2201 0.941639344262295\n",
      "2251 0.941639344262295\n",
      "2301 0.941639344262295\n",
      "2351 0.941639344262295\n",
      "2401 0.941639344262295\n",
      "2451 0.941639344262295\n",
      "2501 0.9410222804718217\n",
      "2551 0.9410222804718217\n",
      "2601 0.9410222804718217\n",
      "2651 0.9404060248853963\n",
      "2701 0.9404060248853963\n",
      "2751 0.9404060248853963\n",
      "2801 0.9404060248853963\n",
      "2851 0.9404060248853963\n",
      "2901 0.9404060248853963\n",
      "2951 0.9404060248853963\n"
     ]
    }
   ],
   "source": [
    "# Testando diferentes valores para C para avaliar o melhor\n",
    "# for x in np.linspace(0.1,0.0001,100):\n",
    "for x in range(1,3000,50): \n",
    "# for x in range(1000,5000,100): \n",
    "    clf = svm.SVC(C=x)\n",
    "    clf.fit(X_train, y_train)\n",
    "    y_pred = clf.predict(X_test)\n",
    "    f1 = f1_score(y_test, y_pred)\n",
    "    print(x, f1)"
   ]
  },
  {
   "cell_type": "code",
   "execution_count": 87,
   "metadata": {},
   "outputs": [],
   "source": [
    "# Instanciando um classificador com margem mais suave pelo parâmetro regularizador (C)\n",
    "clf = svm.SVC(C = 1151)"
   ]
  },
  {
   "cell_type": "markdown",
   "metadata": {},
   "source": [
    "Para que possamos treinar o modelo da melhor forma foi necessário o teste de valores C a partir deste `for` acima, isto porque o valor C denota um parâmetro de penalidade que representa um erro ou qualquer forma de classificação incorreta, possibilitando que com um valor de C maior uma margem menor será aceita se a função de decisão for melhor em classificar todos os pontos de treinamento corretamente.\n",
    "\n",
    "Sendo assim, quando observamos a primeira rodada de teste para valores de 1 a 3000 de 50 em 50, obtivemos que o melhor valor seria de 1151 e para confirmar que valores maiores não seriam mais adequados, colocamos o for para rodar novamente porém desta vez de 1000 até 5000 e de 100 em 100, apesar de obtermos maiores valores para F1, assim como os números depois de 1151, a diferença de porcentagem entre os valores era baixa não justificando a mudança para um C mais alto por isso mantivermos C = 1151."
   ]
  },
  {
   "cell_type": "code",
   "execution_count": 88,
   "metadata": {},
   "outputs": [],
   "source": [
    "# Criando um fit para que o modelo seja treinado em cima dos dados de treinamento adequando as características ao rótulo \n",
    "clf.fit(X_train, y_train)\n",
    "\n",
    "# compilando modelo em um arquivo .pkl\n",
    "pickle.dump(clf, open('./modelos_pkl/model_clf.pkl', 'wb'))"
   ]
  },
  {
   "cell_type": "markdown",
   "metadata": {},
   "source": [
    "#### Prevendo e avaliando o modelo"
   ]
  },
  {
   "cell_type": "code",
   "execution_count": 89,
   "metadata": {},
   "outputs": [
    {
     "data": {
      "text/plain": [
       "array([1, 0, 1, ..., 1, 0, 1])"
      ]
     },
     "execution_count": 89,
     "metadata": {},
     "output_type": "execute_result"
    }
   ],
   "source": [
    "# Previsão Output\n",
    "y_pred = clf.predict(X_test)\n",
    "y_pred"
   ]
  },
  {
   "cell_type": "code",
   "execution_count": 90,
   "metadata": {},
   "outputs": [
    {
     "data": {
      "text/plain": [
       "0.9280397022332506"
      ]
     },
     "execution_count": 90,
     "metadata": {},
     "output_type": "execute_result"
    }
   ],
   "source": [
    "# Calculando a acurácia do modelo\n",
    "clf.score(X_test, y_test)"
   ]
  },
  {
   "cell_type": "markdown",
   "metadata": {},
   "source": [
    "Com a normalização e o teste de valores, já esperávamos uma boa acurácia e realmente obtivemos 95% de precisão em nosso modelo, o que demonstra que a performance de classificação correta dos dados testes foi alta e obtivemos poucas classificações erradas."
   ]
  },
  {
   "cell_type": "code",
   "execution_count": 91,
   "metadata": {},
   "outputs": [
    {
     "data": {
      "text/plain": [
       "0.942875902823375"
      ]
     },
     "execution_count": 91,
     "metadata": {},
     "output_type": "execute_result"
    }
   ],
   "source": [
    "# Calculando o valor F1 do modelo\n",
    "f1_score(y_test, y_pred)"
   ]
  },
  {
   "cell_type": "markdown",
   "metadata": {},
   "source": [
    "Para além do score, utilizamos a métrica de F1-Score, também utilizada no teste do valor C, que em muitos dos casos é mais eficaz para verificar a performance do modelo, já que o mesmo combina precisão e recall de modo a trazer um número único que indique a qualidade geral do seu modelo, e como observamos o retorno do nosso modelo foi de 94% comprovando a eficaz."
   ]
  },
  {
   "cell_type": "code",
   "execution_count": 92,
   "metadata": {},
   "outputs": [
    {
     "name": "stdout",
     "output_type": "stream",
     "text": [
      "Matriz de confusão\n",
      "\n",
      "[[404  87]\n",
      " [  0 718]]\n",
      "\n",
      "Verdadeiros positivos(TP) =  404\n",
      "\n",
      "Verdadeiros negativos(TN) =  718\n",
      "\n",
      "Falsos positivos(FP) =  87\n",
      "\n",
      "Falsos negativos(FN) =  0\n"
     ]
    }
   ],
   "source": [
    "# Matriz de confusão para K=9\n",
    "confusion = metrics.confusion_matrix(y_test, y_pred)\n",
    "print('Matriz de confusão\\n')\n",
    "print(confusion)\n",
    "print('\\nVerdadeiros positivos(TP) = ', confusion[0,0])\n",
    "print('\\nVerdadeiros negativos(TN) = ', confusion[1,1])\n",
    "print('\\nFalsos positivos(FP) = ', confusion[0,1])\n",
    "print('\\nFalsos negativos(FN) = ', confusion[1,0])"
   ]
  },
  {
   "cell_type": "markdown",
   "metadata": {},
   "source": [
    "A matriz de confusão serve para entender se os valores foram classificados corretamente. Sendo as maiores quantidades de valores em nossa matriz o TN, que ocorre quando no conjunto real, a classe que não estamos buscando prever foi prevista corretamente e o TP que ocorre quando no conjunto real, a classe que estamos buscando foi prevista corretamente, conseguimos provar ser um modelo de alta performance."
   ]
  },
  {
   "cell_type": "markdown",
   "metadata": {},
   "source": [
    "#### Prevendo com um exemplo de aplicação"
   ]
  },
  {
   "cell_type": "markdown",
   "metadata": {},
   "source": [
    "Para que possamos prever a contratação ou não de um médico candidato é necessário algumas informações básicas como: \n",
    "- Quantidade de anos de carreira\n",
    "- Grau de formação\n",
    "- Se este candidato é ou não especialista em entubação endotraqueal\n",
    "- Cobrança média do prestador pelo serviço\n",
    "- Se o prestador se encontra no mesmo estado que a Instituição está\n",
    "\n",
    "Neste caso usaremos os valores < 34, 1, 1, 180, 0 > para prever a possível contratação\n"
   ]
  },
  {
   "cell_type": "code",
   "execution_count": 93,
   "metadata": {},
   "outputs": [],
   "source": [
    "formacao_dict = {\n",
    "    '0': 'Doutorado em Medicina',\n",
    "    '1': 'Doutor em Medicina', \n",
    "    '2': 'Médico Mestre em saúde pública',\n",
    "    '3': 'Doutor em Medicina e Filosofia',  \n",
    "    '4': 'Doutor em Prática de Enfermagem',\n",
    "    '5': 'Bolsista da Faculdade de Pneumologistas',  \n",
    "    '6': 'Bacharel em Medicina e Cirurgia',  \n",
    "    '7': 'Médicos de Associação Profissional',\n",
    "    '8': 'Doutorado em Medicina',\n",
    "    '9': 'Doutor em Medicina e Mestre em Saúde Pública',\n",
    "    '10': 'Bacharel em Medicina e Cirurgia', \n",
    "    '11': 'Mestre em Medicina',\n",
    "    '12': 'Enfermeiro Especialista',\n",
    "    '13': 'Enfermeiro da Família'\n",
    "    }"
   ]
  },
  {
   "cell_type": "code",
   "execution_count": 94,
   "metadata": {},
   "outputs": [],
   "source": [
    "# Função que estabelece os parâmetros para predizer se o médico candidato será contratado ou não\n",
    "def teste_candidato():\n",
    "    p= int(input('O prestador se encontra no mesmo estado da instituição? 0 = Não 1= Sim'))\n",
    "    a= int(input('Há quantos anos este médico atua?'))\n",
    "    print(formacao_dict)\n",
    "    f= int(input('Qual a sua formação pelo dicionário? Caso necessite olhe no terminal'))\n",
    "    e= int(input('O candidato é especialista em entubação endotraqueal? 0 = Não 1= Sim'))\n",
    "    c= int(input('Qual a cobrança média deste candidato para procedimento de entubação?'))\n",
    "    teste = {'prestador_estado_instituicao': p, \n",
    "         'anos_carreira': a, \n",
    "         'formacao' : f, \n",
    "         'especialista_entubacao': e,\n",
    "         'prestador_cobranca_media': c}\n",
    "    dft = pd.DataFrame(data = teste, index=[0])   \n",
    "    return dft"
   ]
  },
  {
   "cell_type": "code",
   "execution_count": 95,
   "metadata": {},
   "outputs": [],
   "source": [
    "# Função para retornar o resultado se pode ou não ser contraado\n",
    "def contratar(dft):\n",
    "    resultado = clf.predict(dft)\n",
    "    if resultado == 0:\n",
    "        return 'O profissional médico candidato não pode ser contratado'\n",
    "    else:\n",
    "        return 'O profissional médico candidato pode ser contratado'"
   ]
  },
  {
   "cell_type": "code",
   "execution_count": 122,
   "metadata": {},
   "outputs": [
    {
     "name": "stdout",
     "output_type": "stream",
     "text": [
      "{'0': 'Doutorado em Medicina', '1': 'Doutor em Medicina', '2': 'Médico Mestre em saúde pública', '3': 'Doutor em Medicina e Filosofia', '4': 'Doutor em Prática de Enfermagem', '5': 'Bolsista da Faculdade de Pneumologistas', '6': 'Bacharel em Medicina e Cirurgia', '7': 'Médicos de Associação Profissional', '8': 'Doutorado em Medicina', '9': 'Doutor em Medicina e Mestre em Saúde Pública', '10': 'Bacharel em Medicina e Cirurgia', '11': 'Mestre em Medicina', '12': 'Enfermeiro Especialista', '13': 'Enfermeiro da Família'}\n"
     ]
    },
    {
     "data": {
      "text/html": [
       "<style type=\"text/css\">\n",
       "</style>\n",
       "<table id=\"T_ec8a2\">\n",
       "  <thead>\n",
       "    <tr>\n",
       "      <th id=\"T_ec8a2_level0_col0\" class=\"col_heading level0 col0\" >prestador_estado_instituicao</th>\n",
       "      <th id=\"T_ec8a2_level0_col1\" class=\"col_heading level0 col1\" >anos_carreira</th>\n",
       "      <th id=\"T_ec8a2_level0_col2\" class=\"col_heading level0 col2\" >formacao</th>\n",
       "      <th id=\"T_ec8a2_level0_col3\" class=\"col_heading level0 col3\" >especialista_entubacao</th>\n",
       "      <th id=\"T_ec8a2_level0_col4\" class=\"col_heading level0 col4\" >prestador_cobranca_media</th>\n",
       "    </tr>\n",
       "  </thead>\n",
       "  <tbody>\n",
       "    <tr>\n",
       "      <td id=\"T_ec8a2_row0_col0\" class=\"data row0 col0\" >0</td>\n",
       "      <td id=\"T_ec8a2_row0_col1\" class=\"data row0 col1\" >34</td>\n",
       "      <td id=\"T_ec8a2_row0_col2\" class=\"data row0 col2\" >1</td>\n",
       "      <td id=\"T_ec8a2_row0_col3\" class=\"data row0 col3\" >1</td>\n",
       "      <td id=\"T_ec8a2_row0_col4\" class=\"data row0 col4\" >180</td>\n",
       "    </tr>\n",
       "  </tbody>\n",
       "</table>\n"
      ],
      "text/plain": [
       "<pandas.io.formats.style.Styler at 0x7f01a0656e20>"
      ]
     },
     "execution_count": 122,
     "metadata": {},
     "output_type": "execute_result"
    }
   ],
   "source": [
    "teste1 = teste_candidato()\n",
    "teste1.style.hide_index()"
   ]
  },
  {
   "cell_type": "code",
   "execution_count": 97,
   "metadata": {},
   "outputs": [
    {
     "name": "stdout",
     "output_type": "stream",
     "text": [
      "O profissional médico candidato pode ser contratado\n"
     ]
    }
   ],
   "source": [
    "print(contratar(teste1)) "
   ]
  },
  {
   "cell_type": "markdown",
   "metadata": {},
   "source": [
    "#### Conclusão\n",
    "\n",
    "O modelo de SVM apesar de ter um começo de dados que aparentava ser difícil de utilizar com os tratamentos corretos e lógicas aplicadas obteve uma boa precisão de acertos nos dados previstos, o que favorece nosso problema, ja que o hospital deseja contratar médicos de urgência, mas que se encaixem em seus requisitos.\n",
    "\n",
    "Com tudo isso conseguimos refletir que o modelo de SVM cumpriu seu propósito quando conseguiu dividir os dados de maneira a determinar onde novos candidatos se classificariam de maneira correta."
   ]
  },
  {
   "cell_type": "markdown",
   "metadata": {},
   "source": [
    "### Árvore de decisão\n",
    "\n",
    "Uma árvore de decisão é um algoritmo de aprendizado de máquina supervisionado que é utilizado para classificação e para regressão. De forma geral, podemos dizer que as árvores de decisão têm a vantagem de serem de fácil leitura e entendimento, um dos poucos modelos interpretáveis em todos os seus níveis, o que a torna muito útil.\n",
    "\n",
    "A composição desse algoritmo é similar a de um fluxograma e mapeia possíveis resultados de uma série de escolhas relacionadas. Uma árvore estabelece nós que se relacionam entre si por uma hierarquia. Existe o nó-raiz (root node), que é um dos atributos da base de dados, e os nós-folha (leaf nodes), que são a classe ou o valor que será gerado como resposta , sendo a ligação de nós-nós ou nó-folhas formadas por regras.\n",
    "\n",
    "A boa realização de procedimentos é um dos pontos mais importantes para garantir a qualidade de um serviço de saúde e, para alcançar isso, é essencial designar os profissionais mais capacitados para realizar cada procedimento. \n",
    "\n",
    "Nosso algoritmo pode ser utilizado para diversas situações, mas, devido o contexto pandêmico que gera super-lotação e alto número de mortes por insuficiência respiratória, nossa preocupação foi selecionar os profissionais que possuam mais habilidade na realização do procedimento de entubação. Por isso, presamos por características como: anos de carreira, número de vezes que realizou esse procedimento, taxa de sucesso e especialidade médica - como anestesistas e intensivistas."
   ]
  },
  {
   "cell_type": "markdown",
   "metadata": {},
   "source": [
    "#### Tratando os dados"
   ]
  },
  {
   "cell_type": "code",
   "execution_count": 98,
   "metadata": {},
   "outputs": [],
   "source": [
    "# Dicionário contendo o número relacionado ao grau de formação do médico\n",
    "formacao_dict = {\n",
    "    '0': 'Doutorado em Medicina',\n",
    "    '1': 'Doutor em Medicina', \n",
    "    '2': 'Médico Mestre em saúde pública',\n",
    "    '3': 'Doutor em Medicina e Filosofia',  \n",
    "    '4': 'Doutor em Prática de Enfermagem',\n",
    "    '5': 'Bolsista da Faculdade de Pneumologistas',  \n",
    "    '6': 'Bacharel em Medicina e Cirurgia',  \n",
    "    '7': 'Médicos de Associação Profissional',\n",
    "    '8': 'Doutorado em Medicina',\n",
    "    '9': 'Doutor em Medicina e Mestre em Saúde Pública',\n",
    "    '10': 'Bacharel em Medicina e Cirurgia', \n",
    "    '11': 'Mestre em Medicina',\n",
    "    '12': 'Enfermeiro Especialista',\n",
    "    '13': 'Enfermeiro da Família'\n",
    "    }\n",
    "\n",
    "# Calcula as métricas de acurácia e f1 para a predição dos médicos que possuem o maior score\n",
    "def metricas_melhor_contratacao(y_test, y_pred):\n",
    "    max_t = max(list(y_test))\n",
    "    max_p = max(list(y_pred))\n",
    "\n",
    "    melhores_test = [i for i,x in enumerate(list(y_test)) if x==max_t] \n",
    "    melhores_pred = [i for i,x in enumerate(list(y_pred)) if x==max_p] \n",
    "\n",
    "    melhores = melhores_test.copy()\n",
    "    [melhores.append(int(i)) for i in melhores_pred]\n",
    "    melhores = list(set(melhores))\n",
    "\n",
    "    melhores_test_bi = [1 if melhores[i] in melhores_test else 0 for i in range(len(melhores))]\n",
    "    melhores_pred_bi = [1 if melhores[i] in melhores_pred else 0 for i in range(len(melhores))]\n",
    "\n",
    "    f1 = f1_score(melhores_test_bi, melhores_pred_bi)\n",
    "    acuracia = accuracy_score(melhores_test_bi, melhores_pred_bi)\n",
    "    return f'''F1-score: {f1}\\nAcurácia: {acuracia}'''\n",
    "\n",
    "# Calcula  e imprime as métricas de acurácia e f1 não apenas para a previsão do score dos médicos, mas também na predição dos que obtém o maior score\n",
    "def metricas_contratacao(y_test, y_pred):\n",
    "    return print(f'''\n",
    "                    MÉTRICAS\n",
    "\n",
    "========== Prever o score do profissional ===========\n",
    "F1-score:{f1_score(y_test, y_pred, average='macro')}\n",
    "Acurácia: {accuracy_score(y_test, y_pred)}\\n\\n\n",
    "==== Prever os profissionais com maior pontuação ====\n",
    "{metricas_melhor_contratacao(y_test, y_pred)}\n",
    "    ''')\n",
    "\n",
    "# Lista os dados previstos e os dados reais e os coloca em um dicionário\n",
    "def comparar_pred_test(y_test, y_pred):\n",
    "    # pega o score máximo dos dados de predição e dos dados de teste e lista quais médicos tem essa pontuação\n",
    "    max_p = max(list(y_pred))\n",
    "    max_t = max(list(y_test))\n",
    "\n",
    "    return {'pred':[i for i,x in enumerate(list(y_pred)) if x==max_p],'real': [i for i,x in enumerate(list(y_test)) if x==max_t]}\n",
    "\n",
    "# Imprime os resultados obtidos, identificando as predição corretas, os falsos negativos e falsos positivos\n",
    "def verificar_resultados(y_test, y_pred, df_original, tipo):\n",
    "    pred_test_dict = comparar_pred_test(y_test, y_pred.astype(int))\n",
    "    falso_negativo = list(set(pred_test_dict['real']).difference(pred_test_dict['pred']))\n",
    "    falso_positivo = list(set(pred_test_dict['pred']).difference(pred_test_dict['real']))\n",
    "    predicoes_corretas = list(set(pred_test_dict['pred']).intersection(pred_test_dict['real']))\n",
    "    for verificar in ['predicoes_corretas', 'falso_positivo', 'falso_negativo']:\n",
    "        if verificar == 'predicoes_corretas':\n",
    "            index_real = corrigir_index(y_test, predicoes_corretas)\n",
    "            titulo = 'Predições Corretas'\n",
    "        elif verificar == 'falso_positivo':\n",
    "            index_real = corrigir_index(y_test, falso_positivo)\n",
    "            titulo = 'Médicos que foram selecionados como melhores, mas não deveriam'\n",
    "        elif verificar == 'falso_negativo':\n",
    "            index_real = corrigir_index(y_test, falso_negativo)\n",
    "            titulo = 'Médicos que deveriam ser selecionados como melhores e não foram'\n",
    "        print(titulo)\n",
    "        if tipo == 'contratar':\n",
    "            verificar_resultados_contratar(index_real, df_original)\n",
    "        else:\n",
    "            verificar_resultados_habilidade(index_real, df_original)\n",
    "\n",
    "# Cria um dataframe que identifica as previsões corretas, os falsos negativos e falsos positivos para os dados relativos à habilidade\n",
    "def verificar_resultados_habilidade(index_real, df_original,formacao_dict = formacao_dict):\n",
    "    df_infos = []\n",
    "    for index, row in df_original.loc[index_real].iterrows():\n",
    "        dict_infos = {}\n",
    "        dict_infos['Nome do Prestador'] = row['prestador_nome']\n",
    "        dict_infos['Anos de carreira'] = row['anos_carreira']\n",
    "        dict_infos['Formação'] = formacao_dict[row['formacao']]\n",
    "        dict_infos['Número de vezes que realizou o procedimento de Entubação'] = row['qntd_procedimentos']\n",
    "        dict_infos['Percentual de Casos de Sucesso(%)'] = row['casos_sucesso(%)']\n",
    "        df_infos.append(dict_infos)\n",
    "    df = pd.DataFrame(df_infos)\n",
    "    display(df) if len(df) > 0 else print('- Não há ocorrências')\n",
    "\n",
    "# Transforma variáveis categóricas em binárias\n",
    "def get_OHE(df, cols_transforma):\n",
    "    df_OHE = pd.concat([df.drop(columns=cols_transforma),\n",
    "    pd.get_dummies(df[cols_transforma], drop_first = False)], axis = 1)\n",
    "    return df_OHE\n",
    "\n",
    "# Recebe os index dos resultados dos dados previstos e retorna os index correspondentes à este registro no dataframe usado de base para treinar o modelo (df_habilidade)\n",
    "def corrigir_index(y_test, lista):\n",
    "    index_real_lista = []\n",
    "    for l in lista:\n",
    "        index_real = (pd.DataFrame(y_test).iloc[l]).name\n",
    "        index_real_lista.append(index_real)\n",
    "    return index_real_lista"
   ]
  },
  {
   "cell_type": "code",
   "execution_count": 99,
   "metadata": {},
   "outputs": [],
   "source": [
    "# Importando o CSV\n",
    "df_ad = pd.read_csv('dados_medcare_rotulados.csv')"
   ]
  },
  {
   "cell_type": "code",
   "execution_count": 100,
   "metadata": {},
   "outputs": [],
   "source": [
    "# Selecionando colunas necessárias\n",
    "df_habilidade = df_ad[['anos_carreira','formacao', 'casos_sucesso(%)', 'qntd_procedimentos', 'habilidade_score', 'prestador_nome']]\n",
    "\n",
    "# Transformando variáveis categóricas em binárias (obs: OHE = OneHotEncoder)\n",
    "df_habilidade['formacao'] = df_habilidade['formacao'].astype(str)\n",
    "cols_transforma = ['formacao']\n",
    "df_habilidade_OHE = get_OHE(df_habilidade, cols_transforma) # Aplicando função\n",
    "\n",
    "# Definindo X variáveis independentes e y variável dependente\n",
    "X = df_habilidade_OHE.drop(columns=['habilidade_score', 'prestador_nome'])\n",
    "y = df_habilidade_OHE['habilidade_score']\n",
    "\n",
    "# Separando dados de treino e teste\n",
    "X_train, X_test, y_train, y_test = train_test_split( X, y, test_size=0.25, random_state=42)"
   ]
  },
  {
   "cell_type": "markdown",
   "metadata": {},
   "source": [
    "#### Modelando a árvore de decisão"
   ]
  },
  {
   "cell_type": "code",
   "execution_count": 101,
   "metadata": {},
   "outputs": [
    {
     "name": "stdout",
     "output_type": "stream",
     "text": [
      "\n",
      "                    MÉTRICAS\n",
      "\n",
      "========== Prever o score do profissional ===========\n",
      "F1-score:0.8393374954433046\n",
      "Acurácia: 0.9563492063492064\n",
      "\n",
      "\n",
      "==== Prever os profissionais com maior pontuação ====\n",
      "F1-score: 0.888888888888889\n",
      "Acurácia: 0.8\n",
      "    \n"
     ]
    }
   ],
   "source": [
    "# Instanciando modelo\n",
    "# O coeficiente de gini ou entropy mede a heterogeneidade dos dados. Neste caso, utilizamos a entropy com o objetivo de aumentar o ganho de informação reduzindo a entropia (heterogeneidade) da próxima profundidade.\n",
    "model_tree = tree.DecisionTreeClassifier(criterion='entropy') \n",
    "\n",
    "# Treinando o modelo usando os dados de treino\n",
    "model_tree.fit(X_train, y_train)\n",
    "\n",
    "# Prevendo o resultado para os dados de teste\n",
    "y_pred= model_tree.predict(X_test)\n",
    "\n",
    "# compilando modelo em um arquivo .pkl\n",
    "pickle.dump(model_tree, open('./modelos_pkl/model_tree.pkl', 'wb'))\n",
    "\n",
    "# Comparando dados previsto com os dados reais\n",
    "comparar_pred_test(y_test, y_pred.astype(int))\n",
    "\n",
    "# Verificar métricas referentes à previsão do score e seleção dos melhores médicos\n",
    "metricas_contratacao(y_test, y_pred.astype(int))"
   ]
  },
  {
   "cell_type": "markdown",
   "metadata": {},
   "source": [
    "Considerando que nosso problema não exige um extremo grau de confiabilidade no momento de sua predição, o valor de acurácia de 0.8 para seleção dos melhores médico é bastante satisfatório, visto que esse número indica que o algoritmo acerta suas previsões 80% das vezes. <br>Outro ponto positivo é que mesmo que o ele não esteja 100% correto na seleção dos melhores profissionais, a probabilidade de que ele selecione um profissional com baixa habilidade é baixa, já que sua taxa de acerto de score é de aproximadamente 96%."
   ]
  },
  {
   "cell_type": "markdown",
   "metadata": {},
   "source": [
    "#### Verificando resultados"
   ]
  },
  {
   "cell_type": "code",
   "execution_count": 102,
   "metadata": {},
   "outputs": [
    {
     "name": "stdout",
     "output_type": "stream",
     "text": [
      "Predições Corretas\n"
     ]
    },
    {
     "data": {
      "text/html": [
       "<div>\n",
       "<style scoped>\n",
       "    .dataframe tbody tr th:only-of-type {\n",
       "        vertical-align: middle;\n",
       "    }\n",
       "\n",
       "    .dataframe tbody tr th {\n",
       "        vertical-align: top;\n",
       "    }\n",
       "\n",
       "    .dataframe thead th {\n",
       "        text-align: right;\n",
       "    }\n",
       "</style>\n",
       "<table border=\"1\" class=\"dataframe\">\n",
       "  <thead>\n",
       "    <tr style=\"text-align: right;\">\n",
       "      <th></th>\n",
       "      <th>Nome do Prestador</th>\n",
       "      <th>Anos de carreira</th>\n",
       "      <th>Formação</th>\n",
       "      <th>Número de vezes que realizou o procedimento de Entubação</th>\n",
       "      <th>Percentual de Casos de Sucesso(%)</th>\n",
       "    </tr>\n",
       "  </thead>\n",
       "  <tbody>\n",
       "    <tr>\n",
       "      <th>0</th>\n",
       "      <td>Ravis</td>\n",
       "      <td>41</td>\n",
       "      <td>Mestre em Medicina</td>\n",
       "      <td>60</td>\n",
       "      <td>96</td>\n",
       "    </tr>\n",
       "    <tr>\n",
       "      <th>1</th>\n",
       "      <td>Syed</td>\n",
       "      <td>43</td>\n",
       "      <td>Mestre em Medicina</td>\n",
       "      <td>60</td>\n",
       "      <td>96</td>\n",
       "    </tr>\n",
       "    <tr>\n",
       "      <th>2</th>\n",
       "      <td>Amy</td>\n",
       "      <td>40</td>\n",
       "      <td>Enfermeiro da Família</td>\n",
       "      <td>57</td>\n",
       "      <td>96</td>\n",
       "    </tr>\n",
       "    <tr>\n",
       "      <th>3</th>\n",
       "      <td>Kamal</td>\n",
       "      <td>33</td>\n",
       "      <td>Doutor em Medicina</td>\n",
       "      <td>60</td>\n",
       "      <td>98</td>\n",
       "    </tr>\n",
       "  </tbody>\n",
       "</table>\n",
       "</div>"
      ],
      "text/plain": [
       "  Nome do Prestador  Anos de carreira               Formação  \\\n",
       "0             Ravis                41     Mestre em Medicina   \n",
       "1              Syed                43     Mestre em Medicina   \n",
       "2               Amy                40  Enfermeiro da Família   \n",
       "3             Kamal                33     Doutor em Medicina   \n",
       "\n",
       "   Número de vezes que realizou o procedimento de Entubação  \\\n",
       "0                                                 60          \n",
       "1                                                 60          \n",
       "2                                                 57          \n",
       "3                                                 60          \n",
       "\n",
       "   Percentual de Casos de Sucesso(%)  \n",
       "0                                 96  \n",
       "1                                 96  \n",
       "2                                 96  \n",
       "3                                 98  "
      ]
     },
     "metadata": {},
     "output_type": "display_data"
    },
    {
     "name": "stdout",
     "output_type": "stream",
     "text": [
      "Médicos que foram selecionados como melhores, mas não deveriam\n",
      "- Não há ocorrências\n",
      "Médicos que deveriam ser selecionados como melhores e não foram\n"
     ]
    },
    {
     "data": {
      "text/html": [
       "<div>\n",
       "<style scoped>\n",
       "    .dataframe tbody tr th:only-of-type {\n",
       "        vertical-align: middle;\n",
       "    }\n",
       "\n",
       "    .dataframe tbody tr th {\n",
       "        vertical-align: top;\n",
       "    }\n",
       "\n",
       "    .dataframe thead th {\n",
       "        text-align: right;\n",
       "    }\n",
       "</style>\n",
       "<table border=\"1\" class=\"dataframe\">\n",
       "  <thead>\n",
       "    <tr style=\"text-align: right;\">\n",
       "      <th></th>\n",
       "      <th>Nome do Prestador</th>\n",
       "      <th>Anos de carreira</th>\n",
       "      <th>Formação</th>\n",
       "      <th>Número de vezes que realizou o procedimento de Entubação</th>\n",
       "      <th>Percentual de Casos de Sucesso(%)</th>\n",
       "    </tr>\n",
       "  </thead>\n",
       "  <tbody>\n",
       "    <tr>\n",
       "      <th>0</th>\n",
       "      <td>Victor</td>\n",
       "      <td>28</td>\n",
       "      <td>Doutor em Medicina</td>\n",
       "      <td>51</td>\n",
       "      <td>100</td>\n",
       "    </tr>\n",
       "  </tbody>\n",
       "</table>\n",
       "</div>"
      ],
      "text/plain": [
       "  Nome do Prestador  Anos de carreira            Formação  \\\n",
       "0            Victor                28  Doutor em Medicina   \n",
       "\n",
       "   Número de vezes que realizou o procedimento de Entubação  \\\n",
       "0                                                 51          \n",
       "\n",
       "   Percentual de Casos de Sucesso(%)  \n",
       "0                                100  "
      ]
     },
     "metadata": {},
     "output_type": "display_data"
    }
   ],
   "source": [
    "# Verificando os resultados e imprimindo se foi correta, falso positivo e falso negativo \n",
    "verificar_resultados(y_test, y_pred, df_habilidade, 'habilidade')"
   ]
  },
  {
   "cell_type": "markdown",
   "metadata": {},
   "source": [
    "#### Conclusão\n",
    "\n",
    "Dado nosso objetivo, o modelo cumpriu seu papel com boa acurácia e, portanto, pode selecionar corretamente os médicos que consideramos ter maior habilidade na realização do procedimento de entubação.\n",
    "\n",
    "Tendo comprovado tal eficiência, podemos aplicá-lo para outros procedimentos com o objetivo de tornar mais eficientes as escalas dos profissionais e como consequência melhorar as métricas referentes a qualidade do serviço prestado como um todo."
   ]
  },
  {
   "cell_type": "markdown",
   "metadata": {},
   "source": [
    "### Naive Bayes\n",
    "\n",
    "O Naive Bayes é um classificador poderoso e fácil de treinar, frequentemente usado para categorização de texto, pois a dimensionalidade dos dados é frequentemente bastante grande. Este determina a probabilidade de um resultado, de acordo com um conjunto de condições usando o teorema de Bayes que assume que os preditores contribuem de forma igual e independente para selecionar a classe de saída. Embora a suposição do modelo Naive Bayes de que todos os preditores são independentes uns dos outros seja inviável em circunstâncias do mundo real, essa suposição produz um resultado satisfatório na maioria das instâncias. \n",
    "\n",
    "O teorema de Bayes é uma fórmula que oferece uma probabilidade condicional de um evento A ocorrer, \n",
    "dado que outro evento B ocorreu anteriormente. Sua fórmula matemática é a seguinte: \n",
    "\n",
    "<img src=\"./formula.png\" alt=\"Fórmula teorema de Bayes\" width=\"900\"/>\n",
    "\n",
    "Neste modelo, usamos o classificador Naive Bayes, por meio do algoritmo Gaussiana (GaussianNB) a fim de classificar a severidade de Covid-19, na qual consiste em encontrar uma probabilidade a posteriori (possuir a doença, dado que tenha tais sintomas), multiplicando a probabilidade a priori (possuir a doença) pela probabilidade de “receber tem os sintomas, dado que tem a doença”. "
   ]
  },
  {
   "cell_type": "code",
   "execution_count": 103,
   "metadata": {},
   "outputs": [
    {
     "data": {
      "text/html": [
       "<div>\n",
       "<style scoped>\n",
       "    .dataframe tbody tr th:only-of-type {\n",
       "        vertical-align: middle;\n",
       "    }\n",
       "\n",
       "    .dataframe tbody tr th {\n",
       "        vertical-align: top;\n",
       "    }\n",
       "\n",
       "    .dataframe thead th {\n",
       "        text-align: right;\n",
       "    }\n",
       "</style>\n",
       "<table border=\"1\" class=\"dataframe\">\n",
       "  <thead>\n",
       "    <tr style=\"text-align: right;\">\n",
       "      <th></th>\n",
       "      <th>severidade</th>\n",
       "      <th>Breathing Problem</th>\n",
       "      <th>Asthma</th>\n",
       "      <th>Chronic Lung Disease</th>\n",
       "      <th>Diabetes</th>\n",
       "      <th>Hyper Tension</th>\n",
       "      <th>Fatigue</th>\n",
       "      <th>Fever</th>\n",
       "    </tr>\n",
       "  </thead>\n",
       "  <tbody>\n",
       "    <tr>\n",
       "      <th>0</th>\n",
       "      <td>1</td>\n",
       "      <td>1</td>\n",
       "      <td>1</td>\n",
       "      <td>1</td>\n",
       "      <td>1</td>\n",
       "      <td>1</td>\n",
       "      <td>1</td>\n",
       "      <td>1</td>\n",
       "    </tr>\n",
       "    <tr>\n",
       "      <th>1</th>\n",
       "      <td>2</td>\n",
       "      <td>1</td>\n",
       "      <td>0</td>\n",
       "      <td>0</td>\n",
       "      <td>1</td>\n",
       "      <td>1</td>\n",
       "      <td>0</td>\n",
       "      <td>1</td>\n",
       "    </tr>\n",
       "    <tr>\n",
       "      <th>2</th>\n",
       "      <td>0</td>\n",
       "      <td>0</td>\n",
       "      <td>0</td>\n",
       "      <td>0</td>\n",
       "      <td>0</td>\n",
       "      <td>0</td>\n",
       "      <td>0</td>\n",
       "      <td>0</td>\n",
       "    </tr>\n",
       "    <tr>\n",
       "      <th>3</th>\n",
       "      <td>1</td>\n",
       "      <td>1</td>\n",
       "      <td>1</td>\n",
       "      <td>1</td>\n",
       "      <td>1</td>\n",
       "      <td>1</td>\n",
       "      <td>1</td>\n",
       "      <td>1</td>\n",
       "    </tr>\n",
       "    <tr>\n",
       "      <th>4</th>\n",
       "      <td>1</td>\n",
       "      <td>1</td>\n",
       "      <td>1</td>\n",
       "      <td>1</td>\n",
       "      <td>1</td>\n",
       "      <td>1</td>\n",
       "      <td>0</td>\n",
       "      <td>1</td>\n",
       "    </tr>\n",
       "  </tbody>\n",
       "</table>\n",
       "</div>"
      ],
      "text/plain": [
       "   severidade  Breathing Problem  Asthma  Chronic Lung Disease  Diabetes  \\\n",
       "0           1                  1       1                     1         1   \n",
       "1           2                  1       0                     0         1   \n",
       "2           0                  0       0                     0         0   \n",
       "3           1                  1       1                     1         1   \n",
       "4           1                  1       1                     1         1   \n",
       "\n",
       "   Hyper Tension  Fatigue  Fever  \n",
       "0              1        1      1  \n",
       "1              1        0      1  \n",
       "2              0        0      0  \n",
       "3              1        1      1  \n",
       "4              1        0      1  "
      ]
     },
     "execution_count": 103,
     "metadata": {},
     "output_type": "execute_result"
    }
   ],
   "source": [
    "# Importando e imprimindo as primeiras linhas do CSV\n",
    "df_nb = pd.read_csv('covid_dataset_severidade.csv')\n",
    "df_nb.head()"
   ]
  },
  {
   "cell_type": "code",
   "execution_count": 104,
   "metadata": {},
   "outputs": [
    {
     "data": {
      "text/html": [
       "<style type=\"text/css\">\n",
       "#T_f220f_row0_col0, #T_f220f_row1_col1, #T_f220f_row2_col2, #T_f220f_row3_col3, #T_f220f_row4_col4, #T_f220f_row5_col5, #T_f220f_row6_col6, #T_f220f_row7_col7 {\n",
       "  background-color: #00441b;\n",
       "  color: #f1f1f1;\n",
       "}\n",
       "#T_f220f_row0_col1, #T_f220f_row0_col4, #T_f220f_row0_col6, #T_f220f_row1_col0, #T_f220f_row4_col0, #T_f220f_row6_col0 {\n",
       "  background-color: #f6fcf4;\n",
       "  color: #000000;\n",
       "}\n",
       "#T_f220f_row0_col2, #T_f220f_row2_col0 {\n",
       "  background-color: #f0f9ec;\n",
       "  color: #000000;\n",
       "}\n",
       "#T_f220f_row0_col3, #T_f220f_row3_col0 {\n",
       "  background-color: #f3faf0;\n",
       "  color: #000000;\n",
       "}\n",
       "#T_f220f_row0_col5, #T_f220f_row5_col0 {\n",
       "  background-color: #eef8ea;\n",
       "  color: #000000;\n",
       "}\n",
       "#T_f220f_row0_col7, #T_f220f_row7_col0 {\n",
       "  background-color: #f7fcf5;\n",
       "  color: #000000;\n",
       "}\n",
       "#T_f220f_row1_col2, #T_f220f_row1_col5, #T_f220f_row2_col1, #T_f220f_row5_col1 {\n",
       "  background-color: #aedea7;\n",
       "  color: #000000;\n",
       "}\n",
       "#T_f220f_row1_col3, #T_f220f_row3_col1 {\n",
       "  background-color: #b6e2af;\n",
       "  color: #000000;\n",
       "}\n",
       "#T_f220f_row1_col4, #T_f220f_row4_col1, #T_f220f_row5_col6, #T_f220f_row5_col7, #T_f220f_row6_col5, #T_f220f_row7_col5 {\n",
       "  background-color: #b2e0ac;\n",
       "  color: #000000;\n",
       "}\n",
       "#T_f220f_row1_col6, #T_f220f_row6_col1 {\n",
       "  background-color: #bce4b5;\n",
       "  color: #000000;\n",
       "}\n",
       "#T_f220f_row1_col7, #T_f220f_row2_col7, #T_f220f_row7_col1, #T_f220f_row7_col2 {\n",
       "  background-color: #abdda5;\n",
       "  color: #000000;\n",
       "}\n",
       "#T_f220f_row2_col3, #T_f220f_row3_col2 {\n",
       "  background-color: #aadda4;\n",
       "  color: #000000;\n",
       "}\n",
       "#T_f220f_row2_col4, #T_f220f_row4_col2 {\n",
       "  background-color: #a8dca2;\n",
       "  color: #000000;\n",
       "}\n",
       "#T_f220f_row2_col5, #T_f220f_row4_col6, #T_f220f_row5_col2, #T_f220f_row6_col4 {\n",
       "  background-color: #afdfa8;\n",
       "  color: #000000;\n",
       "}\n",
       "#T_f220f_row2_col6, #T_f220f_row3_col6, #T_f220f_row6_col2, #T_f220f_row6_col3 {\n",
       "  background-color: #acdea6;\n",
       "  color: #000000;\n",
       "}\n",
       "#T_f220f_row3_col4, #T_f220f_row4_col3 {\n",
       "  background-color: #b0dfaa;\n",
       "  color: #000000;\n",
       "}\n",
       "#T_f220f_row3_col5, #T_f220f_row5_col3 {\n",
       "  background-color: #b5e1ae;\n",
       "  color: #000000;\n",
       "}\n",
       "#T_f220f_row3_col7, #T_f220f_row7_col3 {\n",
       "  background-color: #a9dca3;\n",
       "  color: #000000;\n",
       "}\n",
       "#T_f220f_row4_col5, #T_f220f_row5_col4 {\n",
       "  background-color: #b4e1ad;\n",
       "  color: #000000;\n",
       "}\n",
       "#T_f220f_row4_col7, #T_f220f_row7_col4 {\n",
       "  background-color: #bde5b6;\n",
       "  color: #000000;\n",
       "}\n",
       "#T_f220f_row6_col7, #T_f220f_row7_col6 {\n",
       "  background-color: #b1e0ab;\n",
       "  color: #000000;\n",
       "}\n",
       "</style>\n",
       "<table id=\"T_f220f\">\n",
       "  <thead>\n",
       "    <tr>\n",
       "      <th class=\"blank level0\" >&nbsp;</th>\n",
       "      <th id=\"T_f220f_level0_col0\" class=\"col_heading level0 col0\" >severidade</th>\n",
       "      <th id=\"T_f220f_level0_col1\" class=\"col_heading level0 col1\" >Breathing Problem</th>\n",
       "      <th id=\"T_f220f_level0_col2\" class=\"col_heading level0 col2\" >Asthma</th>\n",
       "      <th id=\"T_f220f_level0_col3\" class=\"col_heading level0 col3\" >Chronic Lung Disease</th>\n",
       "      <th id=\"T_f220f_level0_col4\" class=\"col_heading level0 col4\" >Diabetes</th>\n",
       "      <th id=\"T_f220f_level0_col5\" class=\"col_heading level0 col5\" >Hyper Tension</th>\n",
       "      <th id=\"T_f220f_level0_col6\" class=\"col_heading level0 col6\" >Fatigue</th>\n",
       "      <th id=\"T_f220f_level0_col7\" class=\"col_heading level0 col7\" >Fever</th>\n",
       "    </tr>\n",
       "  </thead>\n",
       "  <tbody>\n",
       "    <tr>\n",
       "      <th id=\"T_f220f_level0_row0\" class=\"row_heading level0 row0\" >severidade</th>\n",
       "      <td id=\"T_f220f_row0_col0\" class=\"data row0 col0\" >1.000000</td>\n",
       "      <td id=\"T_f220f_row0_col1\" class=\"data row0 col1\" >0.275032</td>\n",
       "      <td id=\"T_f220f_row0_col2\" class=\"data row0 col2\" >0.305518</td>\n",
       "      <td id=\"T_f220f_row0_col3\" class=\"data row0 col3\" >0.290069</td>\n",
       "      <td id=\"T_f220f_row0_col4\" class=\"data row0 col4\" >0.274589</td>\n",
       "      <td id=\"T_f220f_row0_col5\" class=\"data row0 col5\" >0.314796</td>\n",
       "      <td id=\"T_f220f_row0_col6\" class=\"data row0 col6\" >0.272870</td>\n",
       "      <td id=\"T_f220f_row0_col7\" class=\"data row0 col7\" >0.267440</td>\n",
       "    </tr>\n",
       "    <tr>\n",
       "      <th id=\"T_f220f_level0_row1\" class=\"row_heading level0 row1\" >Breathing Problem</th>\n",
       "      <td id=\"T_f220f_row1_col0\" class=\"data row1 col0\" >0.275032</td>\n",
       "      <td id=\"T_f220f_row1_col1\" class=\"data row1 col1\" >1.000000</td>\n",
       "      <td id=\"T_f220f_row1_col2\" class=\"data row1 col2\" >0.510945</td>\n",
       "      <td id=\"T_f220f_row1_col3\" class=\"data row1 col3\" >0.491343</td>\n",
       "      <td id=\"T_f220f_row1_col4\" class=\"data row1 col4\" >0.501165</td>\n",
       "      <td id=\"T_f220f_row1_col5\" class=\"data row1 col5\" >0.513368</td>\n",
       "      <td id=\"T_f220f_row1_col6\" class=\"data row1 col6\" >0.476560</td>\n",
       "      <td id=\"T_f220f_row1_col7\" class=\"data row1 col7\" >0.517582</td>\n",
       "    </tr>\n",
       "    <tr>\n",
       "      <th id=\"T_f220f_level0_row2\" class=\"row_heading level0 row2\" >Asthma</th>\n",
       "      <td id=\"T_f220f_row2_col0\" class=\"data row2 col0\" >0.305518</td>\n",
       "      <td id=\"T_f220f_row2_col1\" class=\"data row2 col1\" >0.510945</td>\n",
       "      <td id=\"T_f220f_row2_col2\" class=\"data row2 col2\" >1.000000</td>\n",
       "      <td id=\"T_f220f_row2_col3\" class=\"data row2 col3\" >0.521316</td>\n",
       "      <td id=\"T_f220f_row2_col4\" class=\"data row2 col4\" >0.525132</td>\n",
       "      <td id=\"T_f220f_row2_col5\" class=\"data row2 col5\" >0.508206</td>\n",
       "      <td id=\"T_f220f_row2_col6\" class=\"data row2 col6\" >0.514106</td>\n",
       "      <td id=\"T_f220f_row2_col7\" class=\"data row2 col7\" >0.516982</td>\n",
       "    </tr>\n",
       "    <tr>\n",
       "      <th id=\"T_f220f_level0_row3\" class=\"row_heading level0 row3\" >Chronic Lung Disease</th>\n",
       "      <td id=\"T_f220f_row3_col0\" class=\"data row3 col0\" >0.290069</td>\n",
       "      <td id=\"T_f220f_row3_col1\" class=\"data row3 col1\" >0.491343</td>\n",
       "      <td id=\"T_f220f_row3_col2\" class=\"data row3 col2\" >0.521316</td>\n",
       "      <td id=\"T_f220f_row3_col3\" class=\"data row3 col3\" >1.000000</td>\n",
       "      <td id=\"T_f220f_row3_col4\" class=\"data row3 col4\" >0.507358</td>\n",
       "      <td id=\"T_f220f_row3_col5\" class=\"data row3 col5\" >0.495838</td>\n",
       "      <td id=\"T_f220f_row3_col6\" class=\"data row3 col6\" >0.513666</td>\n",
       "      <td id=\"T_f220f_row3_col7\" class=\"data row3 col7\" >0.524773</td>\n",
       "    </tr>\n",
       "    <tr>\n",
       "      <th id=\"T_f220f_level0_row4\" class=\"row_heading level0 row4\" >Diabetes</th>\n",
       "      <td id=\"T_f220f_row4_col0\" class=\"data row4 col0\" >0.274589</td>\n",
       "      <td id=\"T_f220f_row4_col1\" class=\"data row4 col1\" >0.501165</td>\n",
       "      <td id=\"T_f220f_row4_col2\" class=\"data row4 col2\" >0.525132</td>\n",
       "      <td id=\"T_f220f_row4_col3\" class=\"data row4 col3\" >0.507358</td>\n",
       "      <td id=\"T_f220f_row4_col4\" class=\"data row4 col4\" >1.000000</td>\n",
       "      <td id=\"T_f220f_row4_col5\" class=\"data row4 col5\" >0.496600</td>\n",
       "      <td id=\"T_f220f_row4_col6\" class=\"data row4 col6\" >0.508956</td>\n",
       "      <td id=\"T_f220f_row4_col7\" class=\"data row4 col7\" >0.476004</td>\n",
       "    </tr>\n",
       "    <tr>\n",
       "      <th id=\"T_f220f_level0_row5\" class=\"row_heading level0 row5\" >Hyper Tension</th>\n",
       "      <td id=\"T_f220f_row5_col0\" class=\"data row5 col0\" >0.314796</td>\n",
       "      <td id=\"T_f220f_row5_col1\" class=\"data row5 col1\" >0.513368</td>\n",
       "      <td id=\"T_f220f_row5_col2\" class=\"data row5 col2\" >0.508206</td>\n",
       "      <td id=\"T_f220f_row5_col3\" class=\"data row5 col3\" >0.495838</td>\n",
       "      <td id=\"T_f220f_row5_col4\" class=\"data row5 col4\" >0.496600</td>\n",
       "      <td id=\"T_f220f_row5_col5\" class=\"data row5 col5\" >1.000000</td>\n",
       "      <td id=\"T_f220f_row5_col6\" class=\"data row5 col6\" >0.500006</td>\n",
       "      <td id=\"T_f220f_row5_col7\" class=\"data row5 col7\" >0.501355</td>\n",
       "    </tr>\n",
       "    <tr>\n",
       "      <th id=\"T_f220f_level0_row6\" class=\"row_heading level0 row6\" >Fatigue</th>\n",
       "      <td id=\"T_f220f_row6_col0\" class=\"data row6 col0\" >0.272870</td>\n",
       "      <td id=\"T_f220f_row6_col1\" class=\"data row6 col1\" >0.476560</td>\n",
       "      <td id=\"T_f220f_row6_col2\" class=\"data row6 col2\" >0.514106</td>\n",
       "      <td id=\"T_f220f_row6_col3\" class=\"data row6 col3\" >0.513666</td>\n",
       "      <td id=\"T_f220f_row6_col4\" class=\"data row6 col4\" >0.508956</td>\n",
       "      <td id=\"T_f220f_row6_col5\" class=\"data row6 col5\" >0.500006</td>\n",
       "      <td id=\"T_f220f_row6_col6\" class=\"data row6 col6\" >1.000000</td>\n",
       "      <td id=\"T_f220f_row6_col7\" class=\"data row6 col7\" >0.504392</td>\n",
       "    </tr>\n",
       "    <tr>\n",
       "      <th id=\"T_f220f_level0_row7\" class=\"row_heading level0 row7\" >Fever</th>\n",
       "      <td id=\"T_f220f_row7_col0\" class=\"data row7 col0\" >0.267440</td>\n",
       "      <td id=\"T_f220f_row7_col1\" class=\"data row7 col1\" >0.517582</td>\n",
       "      <td id=\"T_f220f_row7_col2\" class=\"data row7 col2\" >0.516982</td>\n",
       "      <td id=\"T_f220f_row7_col3\" class=\"data row7 col3\" >0.524773</td>\n",
       "      <td id=\"T_f220f_row7_col4\" class=\"data row7 col4\" >0.476004</td>\n",
       "      <td id=\"T_f220f_row7_col5\" class=\"data row7 col5\" >0.501355</td>\n",
       "      <td id=\"T_f220f_row7_col6\" class=\"data row7 col6\" >0.504392</td>\n",
       "      <td id=\"T_f220f_row7_col7\" class=\"data row7 col7\" >1.000000</td>\n",
       "    </tr>\n",
       "  </tbody>\n",
       "</table>\n"
      ],
      "text/plain": [
       "<pandas.io.formats.style.Styler at 0x7f01a06afa00>"
      ]
     },
     "execution_count": 104,
     "metadata": {},
     "output_type": "execute_result"
    }
   ],
   "source": [
    "# Imprimindo correlações entre todas as colunas \n",
    "corr = df_nb.corr()\n",
    "corr.style.background_gradient(cmap='Greens',axis=None)"
   ]
  },
  {
   "cell_type": "markdown",
   "metadata": {},
   "source": [
    "Conforme a matriz gerada, podemos afirmar a correlação entre as sintomas e a severidade é baixa, pois os atributos da severidade não são binários, o que acaba por dificultar estas correlações."
   ]
  },
  {
   "cell_type": "code",
   "execution_count": 105,
   "metadata": {},
   "outputs": [],
   "source": [
    "# Dividindo em X variáveis independentes e y variável dependente (alvo)\n",
    "X = df_nb.drop(['severidade','Hyper Tension'], axis = 1)\n",
    "y = df_nb['severidade']"
   ]
  },
  {
   "cell_type": "code",
   "execution_count": 106,
   "metadata": {},
   "outputs": [],
   "source": [
    "# Dividindo entre dados de treinamento e teste\n",
    "X_train, X_test, y_train, y_test = train_test_split(X, y, test_size = 0.3, random_state = 42)"
   ]
  },
  {
   "cell_type": "code",
   "execution_count": 107,
   "metadata": {},
   "outputs": [
    {
     "data": {
      "text/plain": [
       "((3068, 6), (1315, 6))"
      ]
     },
     "execution_count": 107,
     "metadata": {},
     "output_type": "execute_result"
    }
   ],
   "source": [
    "# Verificando dimensão dos dados divididos\n",
    "X_train.shape, X_test.shape"
   ]
  },
  {
   "cell_type": "code",
   "execution_count": 108,
   "metadata": {},
   "outputs": [
    {
     "data": {
      "text/plain": [
       "69.58174904942965"
      ]
     },
     "execution_count": 108,
     "metadata": {},
     "output_type": "execute_result"
    }
   ],
   "source": [
    "# Treinando o modelo de Naive Bayes com o tipo Gaussian que treina por meio de média e variável \n",
    "gnb = GaussianNB()\n",
    "gnb.fit(X,y)\n",
    "\n",
    "# Prevendo os dados x de teste\n",
    "y_pred = gnb.predict(X_test)\n",
    "\n",
    "# compilando modelo em um arquivo .pkl\n",
    "pickle.dump(gnb, open('./modelos_pkl/model_gnb.pkl', 'wb'))\n",
    "\n",
    "# Imprimindo a acurácia do modelo em porcentagem \n",
    "acuracia = accuracy_score(y_test,y_pred) * 100\n",
    "acuracia"
   ]
  },
  {
   "cell_type": "markdown",
   "metadata": {},
   "source": [
    "Nesta primeira previsão, podemos afirmar que a acurácia é ruim, pois os atributos da severidade não são binários da severidade, dificultando a classificação corretas dos dados que desejamos testar com os dados treinados."
   ]
  },
  {
   "cell_type": "markdown",
   "metadata": {},
   "source": [
    "#### Testando o modelo em ação"
   ]
  },
  {
   "cell_type": "markdown",
   "metadata": {},
   "source": [
    "Casos de pacientes: \n",
    "\n",
    "I = Paciente sem sintomas\n",
    "\n",
    "II = Pacientes com problemas respiratórios e asma \n",
    "\n",
    "III = Pacientes com problemas respiratórios, diabetes e febre\n",
    "\n",
    "obs: \n",
    "no código : 0 = não e 1 = sim\n",
    "no output : 0 = leve , 1 = moderado e 2 = grave"
   ]
  },
  {
   "cell_type": "code",
   "execution_count": 109,
   "metadata": {},
   "outputs": [
    {
     "name": "stdout",
     "output_type": "stream",
     "text": [
      "estado leve\n",
      "estado grave\n",
      "estado moderado\n",
      "[0 2 1]\n"
     ]
    }
   ],
   "source": [
    "# Prevendo o estado do paciente por meio de uma estrutura de repetições para três casos distintos apresentados acima\n",
    "previsao = gnb.predict([[0,0,0,0,0,0],[1,1,0,0,0,0],[1,0,0,1,0,1]]) \n",
    "\n",
    "# O resultado da previsão é aplicado ao for que gera o estado do paciente\n",
    "for i in previsao:\n",
    "  if i == 0:\n",
    "    print(f'estado leve')\n",
    "  elif i == 1:\n",
    "    print(f'estado moderado')\n",
    "  else:\n",
    "    print(f'estado grave')\n",
    "print(previsao)"
   ]
  },
  {
   "cell_type": "markdown",
   "metadata": {},
   "source": [
    "Identificando resultados de casos com pacientes já presentes no BD"
   ]
  },
  {
   "cell_type": "code",
   "execution_count": 110,
   "metadata": {},
   "outputs": [
    {
     "data": {
      "text/html": [
       "<div>\n",
       "<style scoped>\n",
       "    .dataframe tbody tr th:only-of-type {\n",
       "        vertical-align: middle;\n",
       "    }\n",
       "\n",
       "    .dataframe tbody tr th {\n",
       "        vertical-align: top;\n",
       "    }\n",
       "\n",
       "    .dataframe thead th {\n",
       "        text-align: right;\n",
       "    }\n",
       "</style>\n",
       "<table border=\"1\" class=\"dataframe\">\n",
       "  <thead>\n",
       "    <tr style=\"text-align: right;\">\n",
       "      <th></th>\n",
       "      <th>severidade</th>\n",
       "      <th>Breathing Problem</th>\n",
       "      <th>Asthma</th>\n",
       "      <th>Chronic Lung Disease</th>\n",
       "      <th>Diabetes</th>\n",
       "      <th>Hyper Tension</th>\n",
       "      <th>Fatigue</th>\n",
       "      <th>Fever</th>\n",
       "    </tr>\n",
       "  </thead>\n",
       "  <tbody>\n",
       "    <tr>\n",
       "      <th>0</th>\n",
       "      <td>1</td>\n",
       "      <td>1</td>\n",
       "      <td>1</td>\n",
       "      <td>1</td>\n",
       "      <td>1</td>\n",
       "      <td>1</td>\n",
       "      <td>1</td>\n",
       "      <td>1</td>\n",
       "    </tr>\n",
       "    <tr>\n",
       "      <th>1</th>\n",
       "      <td>1</td>\n",
       "      <td>1</td>\n",
       "      <td>0</td>\n",
       "      <td>0</td>\n",
       "      <td>1</td>\n",
       "      <td>1</td>\n",
       "      <td>0</td>\n",
       "      <td>1</td>\n",
       "    </tr>\n",
       "    <tr>\n",
       "      <th>2</th>\n",
       "      <td>0</td>\n",
       "      <td>0</td>\n",
       "      <td>0</td>\n",
       "      <td>0</td>\n",
       "      <td>0</td>\n",
       "      <td>0</td>\n",
       "      <td>0</td>\n",
       "      <td>0</td>\n",
       "    </tr>\n",
       "    <tr>\n",
       "      <th>3</th>\n",
       "      <td>1</td>\n",
       "      <td>1</td>\n",
       "      <td>1</td>\n",
       "      <td>1</td>\n",
       "      <td>1</td>\n",
       "      <td>1</td>\n",
       "      <td>1</td>\n",
       "      <td>1</td>\n",
       "    </tr>\n",
       "    <tr>\n",
       "      <th>4</th>\n",
       "      <td>1</td>\n",
       "      <td>1</td>\n",
       "      <td>1</td>\n",
       "      <td>1</td>\n",
       "      <td>1</td>\n",
       "      <td>1</td>\n",
       "      <td>0</td>\n",
       "      <td>1</td>\n",
       "    </tr>\n",
       "    <tr>\n",
       "      <th>...</th>\n",
       "      <td>...</td>\n",
       "      <td>...</td>\n",
       "      <td>...</td>\n",
       "      <td>...</td>\n",
       "      <td>...</td>\n",
       "      <td>...</td>\n",
       "      <td>...</td>\n",
       "      <td>...</td>\n",
       "    </tr>\n",
       "    <tr>\n",
       "      <th>4378</th>\n",
       "      <td>1</td>\n",
       "      <td>0</td>\n",
       "      <td>0</td>\n",
       "      <td>1</td>\n",
       "      <td>1</td>\n",
       "      <td>0</td>\n",
       "      <td>1</td>\n",
       "      <td>1</td>\n",
       "    </tr>\n",
       "    <tr>\n",
       "      <th>4379</th>\n",
       "      <td>1</td>\n",
       "      <td>1</td>\n",
       "      <td>0</td>\n",
       "      <td>1</td>\n",
       "      <td>1</td>\n",
       "      <td>1</td>\n",
       "      <td>0</td>\n",
       "      <td>0</td>\n",
       "    </tr>\n",
       "    <tr>\n",
       "      <th>4380</th>\n",
       "      <td>1</td>\n",
       "      <td>1</td>\n",
       "      <td>1</td>\n",
       "      <td>1</td>\n",
       "      <td>1</td>\n",
       "      <td>1</td>\n",
       "      <td>1</td>\n",
       "      <td>1</td>\n",
       "    </tr>\n",
       "    <tr>\n",
       "      <th>4381</th>\n",
       "      <td>1</td>\n",
       "      <td>1</td>\n",
       "      <td>0</td>\n",
       "      <td>1</td>\n",
       "      <td>0</td>\n",
       "      <td>1</td>\n",
       "      <td>1</td>\n",
       "      <td>0</td>\n",
       "    </tr>\n",
       "    <tr>\n",
       "      <th>4382</th>\n",
       "      <td>1</td>\n",
       "      <td>0</td>\n",
       "      <td>1</td>\n",
       "      <td>1</td>\n",
       "      <td>1</td>\n",
       "      <td>1</td>\n",
       "      <td>0</td>\n",
       "      <td>1</td>\n",
       "    </tr>\n",
       "  </tbody>\n",
       "</table>\n",
       "<p>4383 rows × 8 columns</p>\n",
       "</div>"
      ],
      "text/plain": [
       "      severidade  Breathing Problem  Asthma  Chronic Lung Disease  Diabetes  \\\n",
       "0              1                  1       1                     1         1   \n",
       "1              1                  1       0                     0         1   \n",
       "2              0                  0       0                     0         0   \n",
       "3              1                  1       1                     1         1   \n",
       "4              1                  1       1                     1         1   \n",
       "...          ...                ...     ...                   ...       ...   \n",
       "4378           1                  0       0                     1         1   \n",
       "4379           1                  1       0                     1         1   \n",
       "4380           1                  1       1                     1         1   \n",
       "4381           1                  1       0                     1         0   \n",
       "4382           1                  0       1                     1         1   \n",
       "\n",
       "      Hyper Tension  Fatigue  Fever  \n",
       "0                 1        1      1  \n",
       "1                 1        0      1  \n",
       "2                 0        0      0  \n",
       "3                 1        1      1  \n",
       "4                 1        0      1  \n",
       "...             ...      ...    ...  \n",
       "4378              0        1      1  \n",
       "4379              1        0      0  \n",
       "4380              1        1      1  \n",
       "4381              1        1      0  \n",
       "4382              1        0      1  \n",
       "\n",
       "[4383 rows x 8 columns]"
      ]
     },
     "execution_count": 110,
     "metadata": {},
     "output_type": "execute_result"
    }
   ],
   "source": [
    "# Substituindo os estados graves para moderados a fim de tornar o atributo em binário, sendo assim teríamos casos leves opu casos não leves\n",
    "df_nb_2 = df_nb.replace({2:1})\n",
    "df_nb_2"
   ]
  },
  {
   "cell_type": "markdown",
   "metadata": {},
   "source": [
    "Transformamos a severidade em binaria por meio da substituição da severidade 'Grave' como 'Moderado', tornando os atributos binários a fim de prever se o caso é leve ou não, pois, no caso contrário, resultaria em uma acurácia baixa como vimos anteriormente na primeira previsão."
   ]
  },
  {
   "cell_type": "code",
   "execution_count": 111,
   "metadata": {},
   "outputs": [],
   "source": [
    "# Dividindo em X variáveis independentes e y variável dependente (alvo) nosso novo banco de dados\n",
    "X = df_nb_2.drop(['severidade','Hyper Tension'], axis = 1)\n",
    "y = df_nb_2['severidade']"
   ]
  },
  {
   "cell_type": "code",
   "execution_count": 112,
   "metadata": {},
   "outputs": [],
   "source": [
    "# Dividindo entre dados de treinamento e teste o novo banco de dados\n",
    "X_train, X_test, y_train, y_test = train_test_split(X, y, test_size = 0.3, random_state = 42)"
   ]
  },
  {
   "cell_type": "code",
   "execution_count": 113,
   "metadata": {},
   "outputs": [
    {
     "data": {
      "text/plain": [
       "89.73384030418251"
      ]
     },
     "execution_count": 113,
     "metadata": {},
     "output_type": "execute_result"
    }
   ],
   "source": [
    "# Treinando o modelo de Naive Bayes com o tipo Gaussian que treina por meio de média e variável \n",
    "gnb = GaussianNB()\n",
    "gnb.fit(X,y)\n",
    "\n",
    "# Prevendo os dados x de teste\n",
    "y_pred = gnb.predict(X_test)\n",
    "\n",
    "# Imprimindo a acurácia do modelo em porcentagem \n",
    "acc = accuracy_score(y_test,y_pred) * 100\n",
    "acc"
   ]
  },
  {
   "cell_type": "markdown",
   "metadata": {},
   "source": [
    "A melhora na segunda previsão provém da transformação binária da variável alvo em binário,, como explicado acima."
   ]
  },
  {
   "cell_type": "code",
   "execution_count": 118,
   "metadata": {},
   "outputs": [
    {
     "name": "stdout",
     "output_type": "stream",
     "text": [
      "Sintomas apresentados pelo paciente:\n",
      "\n",
      "- Problema respiratório\n",
      "\n",
      "- Asma\n",
      "\n",
      "- Doença pulmonar Crônicas\n",
      "\n",
      "- Diabete\n",
      "\n",
      "- Fadiga\n",
      "\n",
      "- Febre\n",
      "\n",
      "Diagnóstico previsto pelo modelo: Grave\n",
      "Diagnóstico Real: Grave\n"
     ]
    }
   ],
   "source": [
    "# Listar todas sintomas presentes na tabela\n",
    "def listar_sintomas(x_col):\n",
    "    lista_sintomas = ['Problema respiratório', 'Asma', 'Doença pulmonar Crônicas', \n",
    "                      'Diabete','Fadiga', 'Febre']\n",
    "    sintomas = []\n",
    "    for col in range(len(X_test.columns)):\n",
    "        if x_col[col] == 1:\n",
    "            sintomas.append(lista_sintomas[col])\n",
    "    return sintomas\n",
    "\n",
    "# Identificar se a severidade for '1'(Grave) e '0'(Leve)\n",
    "def diagnostico(text):\n",
    "    return 'Grave' if text == 1 else 'Não Grave'\n",
    "\n",
    "# Imprimir a lista do sintoma presentes pelo paciente\n",
    "numero_paciente = int(input('Insira o número (index) do paciente que deseja acessar'))\n",
    "print('Sintomas apresentados pelo paciente:\\n')\n",
    "for sintoma in listar_sintomas(X_test.iloc[numero_paciente]):\n",
    "    print(f'- {sintoma}\\n')\n",
    "\n",
    "# Imprimir Diagnóstico previsto pelo modelo e Diagnóstico Real\n",
    "print(f'''Diagnóstico previsto pelo modelo: {diagnostico(y_pred[numero_paciente])}''')\n",
    "print(f'''Diagnóstico Real: {diagnostico(y_test.iloc[numero_paciente])}''')"
   ]
  },
  {
   "cell_type": "code",
   "execution_count": 119,
   "metadata": {},
   "outputs": [
    {
     "name": "stdout",
     "output_type": "stream",
     "text": [
      "              precision    recall  f1-score   support\n",
      "\n",
      "           0       0.81      0.86      0.83       391\n",
      "           1       0.94      0.91      0.93       924\n",
      "\n",
      "    accuracy                           0.90      1315\n",
      "   macro avg       0.87      0.89      0.88      1315\n",
      "weighted avg       0.90      0.90      0.90      1315\n",
      "\n"
     ]
    }
   ],
   "source": [
    "# Imprimindo o relatório com as principais métricas de classificação\n",
    "print(classification_report(y_test, y_pred))"
   ]
  },
  {
   "cell_type": "markdown",
   "metadata": {},
   "source": [
    "Podemos notar a partir do relatório das métricas que os casos moderados acabam por possuir as melhores métricas em todos os cálculos."
   ]
  },
  {
   "cell_type": "code",
   "execution_count": 120,
   "metadata": {},
   "outputs": [
    {
     "name": "stdout",
     "output_type": "stream",
     "text": [
      "Matriz de confusão\n",
      "\n",
      "[[335  56]\n",
      " [ 79 845]]\n",
      "\n",
      "Verdadeiros positivos(TP) =  335\n",
      "\n",
      "Verdadeiros negativos(TN) =  845\n",
      "\n",
      "Falsos positivos(FP) =  56\n",
      "\n",
      "Falsos negativos(FN) =  79\n"
     ]
    }
   ],
   "source": [
    "# Matriz de confusão \n",
    "cm = metrics.confusion_matrix(y_test, y_pred)\n",
    "print('Matriz de confusão\\n')\n",
    "print(cm)\n",
    "print('\\nVerdadeiros positivos(TP) = ', cm[0,0])\n",
    "print('\\nVerdadeiros negativos(TN) = ', cm[1,1])\n",
    "print('\\nFalsos positivos(FP) = ', cm[0,1])\n",
    "print('\\nFalsos negativos(FN) = ', cm[1,0])"
   ]
  },
  {
   "cell_type": "code",
   "execution_count": 121,
   "metadata": {},
   "outputs": [
    {
     "name": "stdout",
     "output_type": "stream",
     "text": [
      "Acurácia da classificação : 0.8973\n"
     ]
    }
   ],
   "source": [
    "# Imprimir acurácia de classificação, por meio dessa formula:\n",
    "TP = cm[0,0]\n",
    "TN = cm[1,1]\n",
    "FP = cm[0,1]\n",
    "FN = cm[1,0]\n",
    "classification_accuracy = (TP + TN) / float(TP + TN + FP + FN)\n",
    "\n",
    "cm = metrics.confusion_matrix(y_test, y_pred)\n",
    "classificacao_acc = (cm[0,0] + cm[1,1]) / float(cm[0,0] + cm[1,1] + cm[0,1] + cm[1,0])\n",
    "\n",
    "print('Acurácia da classificação : {0:0.4f}'.format(classificacao_acc))  #Nesse caso, o valor de predição é igual ao valor de referência, portanto, o modelo acertou"
   ]
  },
  {
   "cell_type": "markdown",
   "metadata": {},
   "source": [
    "O valor de referência é o valor verdadeiro da variável-resposta de uma observação. Para testar a performance do modelo, comparamos a predição com a referência das observações nas bases de validação e teste. Se o valor de predição é igual ao valor de referência, isso significa que o modelo acertou. Se for diferente, dizemos que o modelo errou."
   ]
  },
  {
   "cell_type": "markdown",
   "metadata": {},
   "source": [
    "#### Conclusão\n",
    "\n",
    "Neste projeto, usamos o Gausian Naive Bayes para prever a severidade de COVID-19 (leve, moderada ou grave) com base nos sintomas apresentados. O modelo prediz um bom desempenho, conforme demonstrado pela acurácia do modelo, que foi de 89.733, Neste caso, treinamos o modelo de 2 maneiras: de uma forma, prevemos o modelo de gravidade com 3 atributos, o que afeta a precisão; de outra, prevemos o atributo para prever se a severidade é leve ou não por dados binário (Leve ou não). \n",
    "\n",
    "Portanto, de acordo com essa eficiência, podemos aplicá-lo para outros pacientes com o objetivo de atender a necessidade de diagnóstico do paciente de maneira mais eficaz ao Hospital, levando cada caso com sua devida seriedade para seu tratamento adequado."
   ]
  }
 ],
 "metadata": {
  "kernelspec": {
   "display_name": "Python 3",
   "language": "python",
   "name": "python3"
  },
  "language_info": {
   "codemirror_mode": {
    "name": "ipython",
    "version": 3
   },
   "file_extension": ".py",
   "mimetype": "text/x-python",
   "name": "python",
   "nbconvert_exporter": "python",
   "pygments_lexer": "ipython3",
   "version": "3.8.5"
  },
  "vscode": {
   "interpreter": {
    "hash": "916dbcbb3f70747c44a77c7bcd40155683ae19c65e1c03b4aa3499c5328201f1"
   }
  }
 },
 "nbformat": 4,
 "nbformat_minor": 2
}
